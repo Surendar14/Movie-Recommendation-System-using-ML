{
  "cells": [
    {
      "cell_type": "code",
      "execution_count": 322,
      "metadata": {
        "id": "f3To4iMbED5_"
      },
      "outputs": [],
      "source": [
        "import pandas as pd\n",
        "import numpy as np\n",
        "from sklearn.feature_extraction.text import CountVectorizer\n",
        "from sklearn.metrics.pairwise import cosine_similarity\n",
        "\n",
        "df = pd.read_csv(\"/content/movies (2).csv\")"
      ]
    },
    {
      "cell_type": "code",
      "source": [
        "df.head()"
      ],
      "metadata": {
        "colab": {
          "base_uri": "https://localhost:8080/",
          "height": 837
        },
        "id": "JrBvTD0jI3dG",
        "outputId": "92caa6e6-8447-4015-e4bc-84ffbc391d21"
      },
      "execution_count": 323,
      "outputs": [
        {
          "output_type": "execute_result",
          "data": {
            "text/plain": [
              "   index     budget                                    genres  \\\n",
              "0      0  237000000  Action Adventure Fantasy Science Fiction   \n",
              "1      1  300000000                  Adventure Fantasy Action   \n",
              "2      2  245000000                    Action Adventure Crime   \n",
              "3      3  250000000               Action Crime Drama Thriller   \n",
              "4      4  260000000          Action Adventure Science Fiction   \n",
              "\n",
              "                                       homepage      id  \\\n",
              "0                   http://www.avatarmovie.com/   19995   \n",
              "1  http://disney.go.com/disneypictures/pirates/     285   \n",
              "2   http://www.sonypictures.com/movies/spectre/  206647   \n",
              "3            http://www.thedarkknightrises.com/   49026   \n",
              "4          http://movies.disney.com/john-carter   49529   \n",
              "\n",
              "                                            keywords original_language  \\\n",
              "0  culture clash future space war space colony so...                en   \n",
              "1  ocean drug abuse exotic island east india trad...                en   \n",
              "2         spy based on novel secret agent sequel mi6                en   \n",
              "3  dc comics crime fighter terrorist secret ident...                en   \n",
              "4  based on novel mars medallion space travel pri...                en   \n",
              "\n",
              "                             original_title  \\\n",
              "0                                    Avatar   \n",
              "1  Pirates of the Caribbean: At World's End   \n",
              "2                                   Spectre   \n",
              "3                     The Dark Knight Rises   \n",
              "4                               John Carter   \n",
              "\n",
              "                                            overview  popularity  ... runtime  \\\n",
              "0  In the 22nd century, a paraplegic Marine is di...  150.437577  ...   162.0   \n",
              "1  Captain Barbossa, long believed to be dead, ha...  139.082615  ...   169.0   \n",
              "2  A cryptic message from Bond’s past sends him o...  107.376788  ...   148.0   \n",
              "3  Following the death of District Attorney Harve...  112.312950  ...   165.0   \n",
              "4  John Carter is a war-weary, former military ca...   43.926995  ...   132.0   \n",
              "\n",
              "                                    spoken_languages    status  \\\n",
              "0  [{\"iso_639_1\": \"en\", \"name\": \"English\"}, {\"iso...  Released   \n",
              "1           [{\"iso_639_1\": \"en\", \"name\": \"English\"}]  Released   \n",
              "2  [{\"iso_639_1\": \"fr\", \"name\": \"Fran\\u00e7ais\"},...  Released   \n",
              "3           [{\"iso_639_1\": \"en\", \"name\": \"English\"}]  Released   \n",
              "4           [{\"iso_639_1\": \"en\", \"name\": \"English\"}]  Released   \n",
              "\n",
              "                                          tagline  \\\n",
              "0                     Enter the World of Pandora.   \n",
              "1  At the end of the world, the adventure begins.   \n",
              "2                           A Plan No One Escapes   \n",
              "3                                 The Legend Ends   \n",
              "4            Lost in our world, found in another.   \n",
              "\n",
              "                                      title vote_average vote_count  \\\n",
              "0                                    Avatar          7.2      11800   \n",
              "1  Pirates of the Caribbean: At World's End          6.9       4500   \n",
              "2                                   Spectre          6.3       4466   \n",
              "3                     The Dark Knight Rises          7.6       9106   \n",
              "4                               John Carter          6.1       2124   \n",
              "\n",
              "                                                cast  \\\n",
              "0  Sam Worthington Zoe Saldana Sigourney Weaver S...   \n",
              "1  Johnny Depp Orlando Bloom Keira Knightley Stel...   \n",
              "2  Daniel Craig Christoph Waltz L\\u00e9a Seydoux ...   \n",
              "3  Christian Bale Michael Caine Gary Oldman Anne ...   \n",
              "4  Taylor Kitsch Lynn Collins Samantha Morton Wil...   \n",
              "\n",
              "                                                crew           director  \n",
              "0  [{'name': 'Stephen E. Rivkin', 'gender': 0, 'd...      James Cameron  \n",
              "1  [{'name': 'Dariusz Wolski', 'gender': 2, 'depa...     Gore Verbinski  \n",
              "2  [{'name': 'Thomas Newman', 'gender': 2, 'depar...         Sam Mendes  \n",
              "3  [{'name': 'Hans Zimmer', 'gender': 2, 'departm...  Christopher Nolan  \n",
              "4  [{'name': 'Andrew Stanton', 'gender': 2, 'depa...     Andrew Stanton  \n",
              "\n",
              "[5 rows x 24 columns]"
            ],
            "text/html": [
              "\n",
              "  <div id=\"df-bb603dae-b5f9-4d4b-a8b4-714706b866d5\">\n",
              "    <div class=\"colab-df-container\">\n",
              "      <div>\n",
              "<style scoped>\n",
              "    .dataframe tbody tr th:only-of-type {\n",
              "        vertical-align: middle;\n",
              "    }\n",
              "\n",
              "    .dataframe tbody tr th {\n",
              "        vertical-align: top;\n",
              "    }\n",
              "\n",
              "    .dataframe thead th {\n",
              "        text-align: right;\n",
              "    }\n",
              "</style>\n",
              "<table border=\"1\" class=\"dataframe\">\n",
              "  <thead>\n",
              "    <tr style=\"text-align: right;\">\n",
              "      <th></th>\n",
              "      <th>index</th>\n",
              "      <th>budget</th>\n",
              "      <th>genres</th>\n",
              "      <th>homepage</th>\n",
              "      <th>id</th>\n",
              "      <th>keywords</th>\n",
              "      <th>original_language</th>\n",
              "      <th>original_title</th>\n",
              "      <th>overview</th>\n",
              "      <th>popularity</th>\n",
              "      <th>...</th>\n",
              "      <th>runtime</th>\n",
              "      <th>spoken_languages</th>\n",
              "      <th>status</th>\n",
              "      <th>tagline</th>\n",
              "      <th>title</th>\n",
              "      <th>vote_average</th>\n",
              "      <th>vote_count</th>\n",
              "      <th>cast</th>\n",
              "      <th>crew</th>\n",
              "      <th>director</th>\n",
              "    </tr>\n",
              "  </thead>\n",
              "  <tbody>\n",
              "    <tr>\n",
              "      <th>0</th>\n",
              "      <td>0</td>\n",
              "      <td>237000000</td>\n",
              "      <td>Action Adventure Fantasy Science Fiction</td>\n",
              "      <td>http://www.avatarmovie.com/</td>\n",
              "      <td>19995</td>\n",
              "      <td>culture clash future space war space colony so...</td>\n",
              "      <td>en</td>\n",
              "      <td>Avatar</td>\n",
              "      <td>In the 22nd century, a paraplegic Marine is di...</td>\n",
              "      <td>150.437577</td>\n",
              "      <td>...</td>\n",
              "      <td>162.0</td>\n",
              "      <td>[{\"iso_639_1\": \"en\", \"name\": \"English\"}, {\"iso...</td>\n",
              "      <td>Released</td>\n",
              "      <td>Enter the World of Pandora.</td>\n",
              "      <td>Avatar</td>\n",
              "      <td>7.2</td>\n",
              "      <td>11800</td>\n",
              "      <td>Sam Worthington Zoe Saldana Sigourney Weaver S...</td>\n",
              "      <td>[{'name': 'Stephen E. Rivkin', 'gender': 0, 'd...</td>\n",
              "      <td>James Cameron</td>\n",
              "    </tr>\n",
              "    <tr>\n",
              "      <th>1</th>\n",
              "      <td>1</td>\n",
              "      <td>300000000</td>\n",
              "      <td>Adventure Fantasy Action</td>\n",
              "      <td>http://disney.go.com/disneypictures/pirates/</td>\n",
              "      <td>285</td>\n",
              "      <td>ocean drug abuse exotic island east india trad...</td>\n",
              "      <td>en</td>\n",
              "      <td>Pirates of the Caribbean: At World's End</td>\n",
              "      <td>Captain Barbossa, long believed to be dead, ha...</td>\n",
              "      <td>139.082615</td>\n",
              "      <td>...</td>\n",
              "      <td>169.0</td>\n",
              "      <td>[{\"iso_639_1\": \"en\", \"name\": \"English\"}]</td>\n",
              "      <td>Released</td>\n",
              "      <td>At the end of the world, the adventure begins.</td>\n",
              "      <td>Pirates of the Caribbean: At World's End</td>\n",
              "      <td>6.9</td>\n",
              "      <td>4500</td>\n",
              "      <td>Johnny Depp Orlando Bloom Keira Knightley Stel...</td>\n",
              "      <td>[{'name': 'Dariusz Wolski', 'gender': 2, 'depa...</td>\n",
              "      <td>Gore Verbinski</td>\n",
              "    </tr>\n",
              "    <tr>\n",
              "      <th>2</th>\n",
              "      <td>2</td>\n",
              "      <td>245000000</td>\n",
              "      <td>Action Adventure Crime</td>\n",
              "      <td>http://www.sonypictures.com/movies/spectre/</td>\n",
              "      <td>206647</td>\n",
              "      <td>spy based on novel secret agent sequel mi6</td>\n",
              "      <td>en</td>\n",
              "      <td>Spectre</td>\n",
              "      <td>A cryptic message from Bond’s past sends him o...</td>\n",
              "      <td>107.376788</td>\n",
              "      <td>...</td>\n",
              "      <td>148.0</td>\n",
              "      <td>[{\"iso_639_1\": \"fr\", \"name\": \"Fran\\u00e7ais\"},...</td>\n",
              "      <td>Released</td>\n",
              "      <td>A Plan No One Escapes</td>\n",
              "      <td>Spectre</td>\n",
              "      <td>6.3</td>\n",
              "      <td>4466</td>\n",
              "      <td>Daniel Craig Christoph Waltz L\\u00e9a Seydoux ...</td>\n",
              "      <td>[{'name': 'Thomas Newman', 'gender': 2, 'depar...</td>\n",
              "      <td>Sam Mendes</td>\n",
              "    </tr>\n",
              "    <tr>\n",
              "      <th>3</th>\n",
              "      <td>3</td>\n",
              "      <td>250000000</td>\n",
              "      <td>Action Crime Drama Thriller</td>\n",
              "      <td>http://www.thedarkknightrises.com/</td>\n",
              "      <td>49026</td>\n",
              "      <td>dc comics crime fighter terrorist secret ident...</td>\n",
              "      <td>en</td>\n",
              "      <td>The Dark Knight Rises</td>\n",
              "      <td>Following the death of District Attorney Harve...</td>\n",
              "      <td>112.312950</td>\n",
              "      <td>...</td>\n",
              "      <td>165.0</td>\n",
              "      <td>[{\"iso_639_1\": \"en\", \"name\": \"English\"}]</td>\n",
              "      <td>Released</td>\n",
              "      <td>The Legend Ends</td>\n",
              "      <td>The Dark Knight Rises</td>\n",
              "      <td>7.6</td>\n",
              "      <td>9106</td>\n",
              "      <td>Christian Bale Michael Caine Gary Oldman Anne ...</td>\n",
              "      <td>[{'name': 'Hans Zimmer', 'gender': 2, 'departm...</td>\n",
              "      <td>Christopher Nolan</td>\n",
              "    </tr>\n",
              "    <tr>\n",
              "      <th>4</th>\n",
              "      <td>4</td>\n",
              "      <td>260000000</td>\n",
              "      <td>Action Adventure Science Fiction</td>\n",
              "      <td>http://movies.disney.com/john-carter</td>\n",
              "      <td>49529</td>\n",
              "      <td>based on novel mars medallion space travel pri...</td>\n",
              "      <td>en</td>\n",
              "      <td>John Carter</td>\n",
              "      <td>John Carter is a war-weary, former military ca...</td>\n",
              "      <td>43.926995</td>\n",
              "      <td>...</td>\n",
              "      <td>132.0</td>\n",
              "      <td>[{\"iso_639_1\": \"en\", \"name\": \"English\"}]</td>\n",
              "      <td>Released</td>\n",
              "      <td>Lost in our world, found in another.</td>\n",
              "      <td>John Carter</td>\n",
              "      <td>6.1</td>\n",
              "      <td>2124</td>\n",
              "      <td>Taylor Kitsch Lynn Collins Samantha Morton Wil...</td>\n",
              "      <td>[{'name': 'Andrew Stanton', 'gender': 2, 'depa...</td>\n",
              "      <td>Andrew Stanton</td>\n",
              "    </tr>\n",
              "  </tbody>\n",
              "</table>\n",
              "<p>5 rows × 24 columns</p>\n",
              "</div>\n",
              "      <button class=\"colab-df-convert\" onclick=\"convertToInteractive('df-bb603dae-b5f9-4d4b-a8b4-714706b866d5')\"\n",
              "              title=\"Convert this dataframe to an interactive table.\"\n",
              "              style=\"display:none;\">\n",
              "        \n",
              "  <svg xmlns=\"http://www.w3.org/2000/svg\" height=\"24px\"viewBox=\"0 0 24 24\"\n",
              "       width=\"24px\">\n",
              "    <path d=\"M0 0h24v24H0V0z\" fill=\"none\"/>\n",
              "    <path d=\"M18.56 5.44l.94 2.06.94-2.06 2.06-.94-2.06-.94-.94-2.06-.94 2.06-2.06.94zm-11 1L8.5 8.5l.94-2.06 2.06-.94-2.06-.94L8.5 2.5l-.94 2.06-2.06.94zm10 10l.94 2.06.94-2.06 2.06-.94-2.06-.94-.94-2.06-.94 2.06-2.06.94z\"/><path d=\"M17.41 7.96l-1.37-1.37c-.4-.4-.92-.59-1.43-.59-.52 0-1.04.2-1.43.59L10.3 9.45l-7.72 7.72c-.78.78-.78 2.05 0 2.83L4 21.41c.39.39.9.59 1.41.59.51 0 1.02-.2 1.41-.59l7.78-7.78 2.81-2.81c.8-.78.8-2.07 0-2.86zM5.41 20L4 18.59l7.72-7.72 1.47 1.35L5.41 20z\"/>\n",
              "  </svg>\n",
              "      </button>\n",
              "      \n",
              "  <style>\n",
              "    .colab-df-container {\n",
              "      display:flex;\n",
              "      flex-wrap:wrap;\n",
              "      gap: 12px;\n",
              "    }\n",
              "\n",
              "    .colab-df-convert {\n",
              "      background-color: #E8F0FE;\n",
              "      border: none;\n",
              "      border-radius: 50%;\n",
              "      cursor: pointer;\n",
              "      display: none;\n",
              "      fill: #1967D2;\n",
              "      height: 32px;\n",
              "      padding: 0 0 0 0;\n",
              "      width: 32px;\n",
              "    }\n",
              "\n",
              "    .colab-df-convert:hover {\n",
              "      background-color: #E2EBFA;\n",
              "      box-shadow: 0px 1px 2px rgba(60, 64, 67, 0.3), 0px 1px 3px 1px rgba(60, 64, 67, 0.15);\n",
              "      fill: #174EA6;\n",
              "    }\n",
              "\n",
              "    [theme=dark] .colab-df-convert {\n",
              "      background-color: #3B4455;\n",
              "      fill: #D2E3FC;\n",
              "    }\n",
              "\n",
              "    [theme=dark] .colab-df-convert:hover {\n",
              "      background-color: #434B5C;\n",
              "      box-shadow: 0px 1px 3px 1px rgba(0, 0, 0, 0.15);\n",
              "      filter: drop-shadow(0px 1px 2px rgba(0, 0, 0, 0.3));\n",
              "      fill: #FFFFFF;\n",
              "    }\n",
              "  </style>\n",
              "\n",
              "      <script>\n",
              "        const buttonEl =\n",
              "          document.querySelector('#df-bb603dae-b5f9-4d4b-a8b4-714706b866d5 button.colab-df-convert');\n",
              "        buttonEl.style.display =\n",
              "          google.colab.kernel.accessAllowed ? 'block' : 'none';\n",
              "\n",
              "        async function convertToInteractive(key) {\n",
              "          const element = document.querySelector('#df-bb603dae-b5f9-4d4b-a8b4-714706b866d5');\n",
              "          const dataTable =\n",
              "            await google.colab.kernel.invokeFunction('convertToInteractive',\n",
              "                                                     [key], {});\n",
              "          if (!dataTable) return;\n",
              "\n",
              "          const docLinkHtml = 'Like what you see? Visit the ' +\n",
              "            '<a target=\"_blank\" href=https://colab.research.google.com/notebooks/data_table.ipynb>data table notebook</a>'\n",
              "            + ' to learn more about interactive tables.';\n",
              "          element.innerHTML = '';\n",
              "          dataTable['output_type'] = 'display_data';\n",
              "          await google.colab.output.renderOutput(dataTable, element);\n",
              "          const docLink = document.createElement('div');\n",
              "          docLink.innerHTML = docLinkHtml;\n",
              "          element.appendChild(docLink);\n",
              "        }\n",
              "      </script>\n",
              "    </div>\n",
              "  </div>\n",
              "  "
            ]
          },
          "metadata": {},
          "execution_count": 323
        }
      ]
    },
    {
      "cell_type": "code",
      "source": [
        "df.info()"
      ],
      "metadata": {
        "colab": {
          "base_uri": "https://localhost:8080/"
        },
        "id": "oPW4ExfuJCE5",
        "outputId": "441efec8-e0e6-4adc-e5ef-c9370cd7e062"
      },
      "execution_count": 324,
      "outputs": [
        {
          "output_type": "stream",
          "name": "stdout",
          "text": [
            "<class 'pandas.core.frame.DataFrame'>\n",
            "RangeIndex: 4803 entries, 0 to 4802\n",
            "Data columns (total 24 columns):\n",
            " #   Column                Non-Null Count  Dtype  \n",
            "---  ------                --------------  -----  \n",
            " 0   index                 4803 non-null   int64  \n",
            " 1   budget                4803 non-null   int64  \n",
            " 2   genres                4775 non-null   object \n",
            " 3   homepage              1712 non-null   object \n",
            " 4   id                    4803 non-null   int64  \n",
            " 5   keywords              4391 non-null   object \n",
            " 6   original_language     4803 non-null   object \n",
            " 7   original_title        4803 non-null   object \n",
            " 8   overview              4800 non-null   object \n",
            " 9   popularity            4803 non-null   float64\n",
            " 10  production_companies  4803 non-null   object \n",
            " 11  production_countries  4803 non-null   object \n",
            " 12  release_date          4802 non-null   object \n",
            " 13  revenue               4803 non-null   int64  \n",
            " 14  runtime               4801 non-null   float64\n",
            " 15  spoken_languages      4803 non-null   object \n",
            " 16  status                4803 non-null   object \n",
            " 17  tagline               3959 non-null   object \n",
            " 18  title                 4803 non-null   object \n",
            " 19  vote_average          4803 non-null   float64\n",
            " 20  vote_count            4803 non-null   int64  \n",
            " 21  cast                  4760 non-null   object \n",
            " 22  crew                  4803 non-null   object \n",
            " 23  director              4773 non-null   object \n",
            "dtypes: float64(3), int64(5), object(16)\n",
            "memory usage: 900.7+ KB\n"
          ]
        }
      ]
    },
    {
      "cell_type": "code",
      "source": [
        "df.isnull().sum()"
      ],
      "metadata": {
        "colab": {
          "base_uri": "https://localhost:8080/"
        },
        "id": "vz9vYba9JH-H",
        "outputId": "c9fd9174-98ae-4a2d-92fd-616d3a2e9def"
      },
      "execution_count": 325,
      "outputs": [
        {
          "output_type": "execute_result",
          "data": {
            "text/plain": [
              "index                      0\n",
              "budget                     0\n",
              "genres                    28\n",
              "homepage                3091\n",
              "id                         0\n",
              "keywords                 412\n",
              "original_language          0\n",
              "original_title             0\n",
              "overview                   3\n",
              "popularity                 0\n",
              "production_companies       0\n",
              "production_countries       0\n",
              "release_date               1\n",
              "revenue                    0\n",
              "runtime                    2\n",
              "spoken_languages           0\n",
              "status                     0\n",
              "tagline                  844\n",
              "title                      0\n",
              "vote_average               0\n",
              "vote_count                 0\n",
              "cast                      43\n",
              "crew                       0\n",
              "director                  30\n",
              "dtype: int64"
            ]
          },
          "metadata": {},
          "execution_count": 325
        }
      ]
    },
    {
      "cell_type": "code",
      "source": [
        "df.drop(\"homepage\", axis='columns')\n"
      ],
      "metadata": {
        "colab": {
          "base_uri": "https://localhost:8080/",
          "height": 1000
        },
        "id": "Yp1g28rUJWi2",
        "outputId": "c1fb7386-bb79-4853-c118-018f9313254a"
      },
      "execution_count": 326,
      "outputs": [
        {
          "output_type": "execute_result",
          "data": {
            "text/plain": [
              "      index     budget                                    genres      id  \\\n",
              "0         0  237000000  Action Adventure Fantasy Science Fiction   19995   \n",
              "1         1  300000000                  Adventure Fantasy Action     285   \n",
              "2         2  245000000                    Action Adventure Crime  206647   \n",
              "3         3  250000000               Action Crime Drama Thriller   49026   \n",
              "4         4  260000000          Action Adventure Science Fiction   49529   \n",
              "...     ...        ...                                       ...     ...   \n",
              "4798   4798     220000                     Action Crime Thriller    9367   \n",
              "4799   4799       9000                            Comedy Romance   72766   \n",
              "4800   4800          0             Comedy Drama Romance TV Movie  231617   \n",
              "4801   4801          0                                       NaN  126186   \n",
              "4802   4802          0                               Documentary   25975   \n",
              "\n",
              "                                               keywords original_language  \\\n",
              "0     culture clash future space war space colony so...                en   \n",
              "1     ocean drug abuse exotic island east india trad...                en   \n",
              "2            spy based on novel secret agent sequel mi6                en   \n",
              "3     dc comics crime fighter terrorist secret ident...                en   \n",
              "4     based on novel mars medallion space travel pri...                en   \n",
              "...                                                 ...               ...   \n",
              "4798  united states\\u2013mexico barrier legs arms pa...                es   \n",
              "4799                                                NaN                en   \n",
              "4800  date love at first sight narration investigati...                en   \n",
              "4801                                                NaN                en   \n",
              "4802               obsession camcorder crush dream girl                en   \n",
              "\n",
              "                                original_title  \\\n",
              "0                                       Avatar   \n",
              "1     Pirates of the Caribbean: At World's End   \n",
              "2                                      Spectre   \n",
              "3                        The Dark Knight Rises   \n",
              "4                                  John Carter   \n",
              "...                                        ...   \n",
              "4798                               El Mariachi   \n",
              "4799                                 Newlyweds   \n",
              "4800                 Signed, Sealed, Delivered   \n",
              "4801                          Shanghai Calling   \n",
              "4802                         My Date with Drew   \n",
              "\n",
              "                                               overview  popularity  \\\n",
              "0     In the 22nd century, a paraplegic Marine is di...  150.437577   \n",
              "1     Captain Barbossa, long believed to be dead, ha...  139.082615   \n",
              "2     A cryptic message from Bond’s past sends him o...  107.376788   \n",
              "3     Following the death of District Attorney Harve...  112.312950   \n",
              "4     John Carter is a war-weary, former military ca...   43.926995   \n",
              "...                                                 ...         ...   \n",
              "4798  El Mariachi just wants to play his guitar and ...   14.269792   \n",
              "4799  A newlywed couple's honeymoon is upended by th...    0.642552   \n",
              "4800  \"Signed, Sealed, Delivered\" introduces a dedic...    1.444476   \n",
              "4801  When ambitious New York attorney Sam is sent t...    0.857008   \n",
              "4802  Ever since the second grade when he first saw ...    1.929883   \n",
              "\n",
              "                                   production_companies  ... runtime  \\\n",
              "0     [{\"name\": \"Ingenious Film Partners\", \"id\": 289...  ...   162.0   \n",
              "1     [{\"name\": \"Walt Disney Pictures\", \"id\": 2}, {\"...  ...   169.0   \n",
              "2     [{\"name\": \"Columbia Pictures\", \"id\": 5}, {\"nam...  ...   148.0   \n",
              "3     [{\"name\": \"Legendary Pictures\", \"id\": 923}, {\"...  ...   165.0   \n",
              "4           [{\"name\": \"Walt Disney Pictures\", \"id\": 2}]  ...   132.0   \n",
              "...                                                 ...  ...     ...   \n",
              "4798           [{\"name\": \"Columbia Pictures\", \"id\": 5}]  ...    81.0   \n",
              "4799                                                 []  ...    85.0   \n",
              "4800  [{\"name\": \"Front Street Pictures\", \"id\": 3958}...  ...   120.0   \n",
              "4801                                                 []  ...    98.0   \n",
              "4802  [{\"name\": \"rusty bear entertainment\", \"id\": 87...  ...    90.0   \n",
              "\n",
              "                                       spoken_languages    status  \\\n",
              "0     [{\"iso_639_1\": \"en\", \"name\": \"English\"}, {\"iso...  Released   \n",
              "1              [{\"iso_639_1\": \"en\", \"name\": \"English\"}]  Released   \n",
              "2     [{\"iso_639_1\": \"fr\", \"name\": \"Fran\\u00e7ais\"},...  Released   \n",
              "3              [{\"iso_639_1\": \"en\", \"name\": \"English\"}]  Released   \n",
              "4              [{\"iso_639_1\": \"en\", \"name\": \"English\"}]  Released   \n",
              "...                                                 ...       ...   \n",
              "4798      [{\"iso_639_1\": \"es\", \"name\": \"Espa\\u00f1ol\"}]  Released   \n",
              "4799                                                 []  Released   \n",
              "4800           [{\"iso_639_1\": \"en\", \"name\": \"English\"}]  Released   \n",
              "4801           [{\"iso_639_1\": \"en\", \"name\": \"English\"}]  Released   \n",
              "4802           [{\"iso_639_1\": \"en\", \"name\": \"English\"}]  Released   \n",
              "\n",
              "                                                tagline  \\\n",
              "0                           Enter the World of Pandora.   \n",
              "1        At the end of the world, the adventure begins.   \n",
              "2                                 A Plan No One Escapes   \n",
              "3                                       The Legend Ends   \n",
              "4                  Lost in our world, found in another.   \n",
              "...                                                 ...   \n",
              "4798  He didn't come looking for trouble, but troubl...   \n",
              "4799  A newlywed couple's honeymoon is upended by th...   \n",
              "4800                                                NaN   \n",
              "4801                           A New Yorker in Shanghai   \n",
              "4802                                                NaN   \n",
              "\n",
              "                                         title vote_average vote_count  \\\n",
              "0                                       Avatar          7.2      11800   \n",
              "1     Pirates of the Caribbean: At World's End          6.9       4500   \n",
              "2                                      Spectre          6.3       4466   \n",
              "3                        The Dark Knight Rises          7.6       9106   \n",
              "4                                  John Carter          6.1       2124   \n",
              "...                                        ...          ...        ...   \n",
              "4798                               El Mariachi          6.6        238   \n",
              "4799                                 Newlyweds          5.9          5   \n",
              "4800                 Signed, Sealed, Delivered          7.0          6   \n",
              "4801                          Shanghai Calling          5.7          7   \n",
              "4802                         My Date with Drew          6.3         16   \n",
              "\n",
              "                                                   cast  \\\n",
              "0     Sam Worthington Zoe Saldana Sigourney Weaver S...   \n",
              "1     Johnny Depp Orlando Bloom Keira Knightley Stel...   \n",
              "2     Daniel Craig Christoph Waltz L\\u00e9a Seydoux ...   \n",
              "3     Christian Bale Michael Caine Gary Oldman Anne ...   \n",
              "4     Taylor Kitsch Lynn Collins Samantha Morton Wil...   \n",
              "...                                                 ...   \n",
              "4798  Carlos Gallardo Jaime de Hoyos Peter Marquardt...   \n",
              "4799  Edward Burns Kerry Bish\\u00e9 Marsha Dietlein ...   \n",
              "4800  Eric Mabius Kristin Booth Crystal Lowe Geoff G...   \n",
              "4801  Daniel Henney Eliza Coupe Bill Paxton Alan Ruc...   \n",
              "4802  Drew Barrymore Brian Herzlinger Corey Feldman ...   \n",
              "\n",
              "                                                   crew           director  \n",
              "0     [{'name': 'Stephen E. Rivkin', 'gender': 0, 'd...      James Cameron  \n",
              "1     [{'name': 'Dariusz Wolski', 'gender': 2, 'depa...     Gore Verbinski  \n",
              "2     [{'name': 'Thomas Newman', 'gender': 2, 'depar...         Sam Mendes  \n",
              "3     [{'name': 'Hans Zimmer', 'gender': 2, 'departm...  Christopher Nolan  \n",
              "4     [{'name': 'Andrew Stanton', 'gender': 2, 'depa...     Andrew Stanton  \n",
              "...                                                 ...                ...  \n",
              "4798  [{'name': 'Robert Rodriguez', 'gender': 0, 'de...   Robert Rodriguez  \n",
              "4799  [{'name': 'Edward Burns', 'gender': 2, 'depart...       Edward Burns  \n",
              "4800  [{'name': 'Carla Hetland', 'gender': 0, 'depar...        Scott Smith  \n",
              "4801  [{'name': 'Daniel Hsia', 'gender': 2, 'departm...        Daniel Hsia  \n",
              "4802  [{'name': 'Clark Peterson', 'gender': 2, 'depa...   Brian Herzlinger  \n",
              "\n",
              "[4803 rows x 23 columns]"
            ],
            "text/html": [
              "\n",
              "  <div id=\"df-42758b68-e0a0-465d-a69b-fd046ce8b645\">\n",
              "    <div class=\"colab-df-container\">\n",
              "      <div>\n",
              "<style scoped>\n",
              "    .dataframe tbody tr th:only-of-type {\n",
              "        vertical-align: middle;\n",
              "    }\n",
              "\n",
              "    .dataframe tbody tr th {\n",
              "        vertical-align: top;\n",
              "    }\n",
              "\n",
              "    .dataframe thead th {\n",
              "        text-align: right;\n",
              "    }\n",
              "</style>\n",
              "<table border=\"1\" class=\"dataframe\">\n",
              "  <thead>\n",
              "    <tr style=\"text-align: right;\">\n",
              "      <th></th>\n",
              "      <th>index</th>\n",
              "      <th>budget</th>\n",
              "      <th>genres</th>\n",
              "      <th>id</th>\n",
              "      <th>keywords</th>\n",
              "      <th>original_language</th>\n",
              "      <th>original_title</th>\n",
              "      <th>overview</th>\n",
              "      <th>popularity</th>\n",
              "      <th>production_companies</th>\n",
              "      <th>...</th>\n",
              "      <th>runtime</th>\n",
              "      <th>spoken_languages</th>\n",
              "      <th>status</th>\n",
              "      <th>tagline</th>\n",
              "      <th>title</th>\n",
              "      <th>vote_average</th>\n",
              "      <th>vote_count</th>\n",
              "      <th>cast</th>\n",
              "      <th>crew</th>\n",
              "      <th>director</th>\n",
              "    </tr>\n",
              "  </thead>\n",
              "  <tbody>\n",
              "    <tr>\n",
              "      <th>0</th>\n",
              "      <td>0</td>\n",
              "      <td>237000000</td>\n",
              "      <td>Action Adventure Fantasy Science Fiction</td>\n",
              "      <td>19995</td>\n",
              "      <td>culture clash future space war space colony so...</td>\n",
              "      <td>en</td>\n",
              "      <td>Avatar</td>\n",
              "      <td>In the 22nd century, a paraplegic Marine is di...</td>\n",
              "      <td>150.437577</td>\n",
              "      <td>[{\"name\": \"Ingenious Film Partners\", \"id\": 289...</td>\n",
              "      <td>...</td>\n",
              "      <td>162.0</td>\n",
              "      <td>[{\"iso_639_1\": \"en\", \"name\": \"English\"}, {\"iso...</td>\n",
              "      <td>Released</td>\n",
              "      <td>Enter the World of Pandora.</td>\n",
              "      <td>Avatar</td>\n",
              "      <td>7.2</td>\n",
              "      <td>11800</td>\n",
              "      <td>Sam Worthington Zoe Saldana Sigourney Weaver S...</td>\n",
              "      <td>[{'name': 'Stephen E. Rivkin', 'gender': 0, 'd...</td>\n",
              "      <td>James Cameron</td>\n",
              "    </tr>\n",
              "    <tr>\n",
              "      <th>1</th>\n",
              "      <td>1</td>\n",
              "      <td>300000000</td>\n",
              "      <td>Adventure Fantasy Action</td>\n",
              "      <td>285</td>\n",
              "      <td>ocean drug abuse exotic island east india trad...</td>\n",
              "      <td>en</td>\n",
              "      <td>Pirates of the Caribbean: At World's End</td>\n",
              "      <td>Captain Barbossa, long believed to be dead, ha...</td>\n",
              "      <td>139.082615</td>\n",
              "      <td>[{\"name\": \"Walt Disney Pictures\", \"id\": 2}, {\"...</td>\n",
              "      <td>...</td>\n",
              "      <td>169.0</td>\n",
              "      <td>[{\"iso_639_1\": \"en\", \"name\": \"English\"}]</td>\n",
              "      <td>Released</td>\n",
              "      <td>At the end of the world, the adventure begins.</td>\n",
              "      <td>Pirates of the Caribbean: At World's End</td>\n",
              "      <td>6.9</td>\n",
              "      <td>4500</td>\n",
              "      <td>Johnny Depp Orlando Bloom Keira Knightley Stel...</td>\n",
              "      <td>[{'name': 'Dariusz Wolski', 'gender': 2, 'depa...</td>\n",
              "      <td>Gore Verbinski</td>\n",
              "    </tr>\n",
              "    <tr>\n",
              "      <th>2</th>\n",
              "      <td>2</td>\n",
              "      <td>245000000</td>\n",
              "      <td>Action Adventure Crime</td>\n",
              "      <td>206647</td>\n",
              "      <td>spy based on novel secret agent sequel mi6</td>\n",
              "      <td>en</td>\n",
              "      <td>Spectre</td>\n",
              "      <td>A cryptic message from Bond’s past sends him o...</td>\n",
              "      <td>107.376788</td>\n",
              "      <td>[{\"name\": \"Columbia Pictures\", \"id\": 5}, {\"nam...</td>\n",
              "      <td>...</td>\n",
              "      <td>148.0</td>\n",
              "      <td>[{\"iso_639_1\": \"fr\", \"name\": \"Fran\\u00e7ais\"},...</td>\n",
              "      <td>Released</td>\n",
              "      <td>A Plan No One Escapes</td>\n",
              "      <td>Spectre</td>\n",
              "      <td>6.3</td>\n",
              "      <td>4466</td>\n",
              "      <td>Daniel Craig Christoph Waltz L\\u00e9a Seydoux ...</td>\n",
              "      <td>[{'name': 'Thomas Newman', 'gender': 2, 'depar...</td>\n",
              "      <td>Sam Mendes</td>\n",
              "    </tr>\n",
              "    <tr>\n",
              "      <th>3</th>\n",
              "      <td>3</td>\n",
              "      <td>250000000</td>\n",
              "      <td>Action Crime Drama Thriller</td>\n",
              "      <td>49026</td>\n",
              "      <td>dc comics crime fighter terrorist secret ident...</td>\n",
              "      <td>en</td>\n",
              "      <td>The Dark Knight Rises</td>\n",
              "      <td>Following the death of District Attorney Harve...</td>\n",
              "      <td>112.312950</td>\n",
              "      <td>[{\"name\": \"Legendary Pictures\", \"id\": 923}, {\"...</td>\n",
              "      <td>...</td>\n",
              "      <td>165.0</td>\n",
              "      <td>[{\"iso_639_1\": \"en\", \"name\": \"English\"}]</td>\n",
              "      <td>Released</td>\n",
              "      <td>The Legend Ends</td>\n",
              "      <td>The Dark Knight Rises</td>\n",
              "      <td>7.6</td>\n",
              "      <td>9106</td>\n",
              "      <td>Christian Bale Michael Caine Gary Oldman Anne ...</td>\n",
              "      <td>[{'name': 'Hans Zimmer', 'gender': 2, 'departm...</td>\n",
              "      <td>Christopher Nolan</td>\n",
              "    </tr>\n",
              "    <tr>\n",
              "      <th>4</th>\n",
              "      <td>4</td>\n",
              "      <td>260000000</td>\n",
              "      <td>Action Adventure Science Fiction</td>\n",
              "      <td>49529</td>\n",
              "      <td>based on novel mars medallion space travel pri...</td>\n",
              "      <td>en</td>\n",
              "      <td>John Carter</td>\n",
              "      <td>John Carter is a war-weary, former military ca...</td>\n",
              "      <td>43.926995</td>\n",
              "      <td>[{\"name\": \"Walt Disney Pictures\", \"id\": 2}]</td>\n",
              "      <td>...</td>\n",
              "      <td>132.0</td>\n",
              "      <td>[{\"iso_639_1\": \"en\", \"name\": \"English\"}]</td>\n",
              "      <td>Released</td>\n",
              "      <td>Lost in our world, found in another.</td>\n",
              "      <td>John Carter</td>\n",
              "      <td>6.1</td>\n",
              "      <td>2124</td>\n",
              "      <td>Taylor Kitsch Lynn Collins Samantha Morton Wil...</td>\n",
              "      <td>[{'name': 'Andrew Stanton', 'gender': 2, 'depa...</td>\n",
              "      <td>Andrew Stanton</td>\n",
              "    </tr>\n",
              "    <tr>\n",
              "      <th>...</th>\n",
              "      <td>...</td>\n",
              "      <td>...</td>\n",
              "      <td>...</td>\n",
              "      <td>...</td>\n",
              "      <td>...</td>\n",
              "      <td>...</td>\n",
              "      <td>...</td>\n",
              "      <td>...</td>\n",
              "      <td>...</td>\n",
              "      <td>...</td>\n",
              "      <td>...</td>\n",
              "      <td>...</td>\n",
              "      <td>...</td>\n",
              "      <td>...</td>\n",
              "      <td>...</td>\n",
              "      <td>...</td>\n",
              "      <td>...</td>\n",
              "      <td>...</td>\n",
              "      <td>...</td>\n",
              "      <td>...</td>\n",
              "      <td>...</td>\n",
              "    </tr>\n",
              "    <tr>\n",
              "      <th>4798</th>\n",
              "      <td>4798</td>\n",
              "      <td>220000</td>\n",
              "      <td>Action Crime Thriller</td>\n",
              "      <td>9367</td>\n",
              "      <td>united states\\u2013mexico barrier legs arms pa...</td>\n",
              "      <td>es</td>\n",
              "      <td>El Mariachi</td>\n",
              "      <td>El Mariachi just wants to play his guitar and ...</td>\n",
              "      <td>14.269792</td>\n",
              "      <td>[{\"name\": \"Columbia Pictures\", \"id\": 5}]</td>\n",
              "      <td>...</td>\n",
              "      <td>81.0</td>\n",
              "      <td>[{\"iso_639_1\": \"es\", \"name\": \"Espa\\u00f1ol\"}]</td>\n",
              "      <td>Released</td>\n",
              "      <td>He didn't come looking for trouble, but troubl...</td>\n",
              "      <td>El Mariachi</td>\n",
              "      <td>6.6</td>\n",
              "      <td>238</td>\n",
              "      <td>Carlos Gallardo Jaime de Hoyos Peter Marquardt...</td>\n",
              "      <td>[{'name': 'Robert Rodriguez', 'gender': 0, 'de...</td>\n",
              "      <td>Robert Rodriguez</td>\n",
              "    </tr>\n",
              "    <tr>\n",
              "      <th>4799</th>\n",
              "      <td>4799</td>\n",
              "      <td>9000</td>\n",
              "      <td>Comedy Romance</td>\n",
              "      <td>72766</td>\n",
              "      <td>NaN</td>\n",
              "      <td>en</td>\n",
              "      <td>Newlyweds</td>\n",
              "      <td>A newlywed couple's honeymoon is upended by th...</td>\n",
              "      <td>0.642552</td>\n",
              "      <td>[]</td>\n",
              "      <td>...</td>\n",
              "      <td>85.0</td>\n",
              "      <td>[]</td>\n",
              "      <td>Released</td>\n",
              "      <td>A newlywed couple's honeymoon is upended by th...</td>\n",
              "      <td>Newlyweds</td>\n",
              "      <td>5.9</td>\n",
              "      <td>5</td>\n",
              "      <td>Edward Burns Kerry Bish\\u00e9 Marsha Dietlein ...</td>\n",
              "      <td>[{'name': 'Edward Burns', 'gender': 2, 'depart...</td>\n",
              "      <td>Edward Burns</td>\n",
              "    </tr>\n",
              "    <tr>\n",
              "      <th>4800</th>\n",
              "      <td>4800</td>\n",
              "      <td>0</td>\n",
              "      <td>Comedy Drama Romance TV Movie</td>\n",
              "      <td>231617</td>\n",
              "      <td>date love at first sight narration investigati...</td>\n",
              "      <td>en</td>\n",
              "      <td>Signed, Sealed, Delivered</td>\n",
              "      <td>\"Signed, Sealed, Delivered\" introduces a dedic...</td>\n",
              "      <td>1.444476</td>\n",
              "      <td>[{\"name\": \"Front Street Pictures\", \"id\": 3958}...</td>\n",
              "      <td>...</td>\n",
              "      <td>120.0</td>\n",
              "      <td>[{\"iso_639_1\": \"en\", \"name\": \"English\"}]</td>\n",
              "      <td>Released</td>\n",
              "      <td>NaN</td>\n",
              "      <td>Signed, Sealed, Delivered</td>\n",
              "      <td>7.0</td>\n",
              "      <td>6</td>\n",
              "      <td>Eric Mabius Kristin Booth Crystal Lowe Geoff G...</td>\n",
              "      <td>[{'name': 'Carla Hetland', 'gender': 0, 'depar...</td>\n",
              "      <td>Scott Smith</td>\n",
              "    </tr>\n",
              "    <tr>\n",
              "      <th>4801</th>\n",
              "      <td>4801</td>\n",
              "      <td>0</td>\n",
              "      <td>NaN</td>\n",
              "      <td>126186</td>\n",
              "      <td>NaN</td>\n",
              "      <td>en</td>\n",
              "      <td>Shanghai Calling</td>\n",
              "      <td>When ambitious New York attorney Sam is sent t...</td>\n",
              "      <td>0.857008</td>\n",
              "      <td>[]</td>\n",
              "      <td>...</td>\n",
              "      <td>98.0</td>\n",
              "      <td>[{\"iso_639_1\": \"en\", \"name\": \"English\"}]</td>\n",
              "      <td>Released</td>\n",
              "      <td>A New Yorker in Shanghai</td>\n",
              "      <td>Shanghai Calling</td>\n",
              "      <td>5.7</td>\n",
              "      <td>7</td>\n",
              "      <td>Daniel Henney Eliza Coupe Bill Paxton Alan Ruc...</td>\n",
              "      <td>[{'name': 'Daniel Hsia', 'gender': 2, 'departm...</td>\n",
              "      <td>Daniel Hsia</td>\n",
              "    </tr>\n",
              "    <tr>\n",
              "      <th>4802</th>\n",
              "      <td>4802</td>\n",
              "      <td>0</td>\n",
              "      <td>Documentary</td>\n",
              "      <td>25975</td>\n",
              "      <td>obsession camcorder crush dream girl</td>\n",
              "      <td>en</td>\n",
              "      <td>My Date with Drew</td>\n",
              "      <td>Ever since the second grade when he first saw ...</td>\n",
              "      <td>1.929883</td>\n",
              "      <td>[{\"name\": \"rusty bear entertainment\", \"id\": 87...</td>\n",
              "      <td>...</td>\n",
              "      <td>90.0</td>\n",
              "      <td>[{\"iso_639_1\": \"en\", \"name\": \"English\"}]</td>\n",
              "      <td>Released</td>\n",
              "      <td>NaN</td>\n",
              "      <td>My Date with Drew</td>\n",
              "      <td>6.3</td>\n",
              "      <td>16</td>\n",
              "      <td>Drew Barrymore Brian Herzlinger Corey Feldman ...</td>\n",
              "      <td>[{'name': 'Clark Peterson', 'gender': 2, 'depa...</td>\n",
              "      <td>Brian Herzlinger</td>\n",
              "    </tr>\n",
              "  </tbody>\n",
              "</table>\n",
              "<p>4803 rows × 23 columns</p>\n",
              "</div>\n",
              "      <button class=\"colab-df-convert\" onclick=\"convertToInteractive('df-42758b68-e0a0-465d-a69b-fd046ce8b645')\"\n",
              "              title=\"Convert this dataframe to an interactive table.\"\n",
              "              style=\"display:none;\">\n",
              "        \n",
              "  <svg xmlns=\"http://www.w3.org/2000/svg\" height=\"24px\"viewBox=\"0 0 24 24\"\n",
              "       width=\"24px\">\n",
              "    <path d=\"M0 0h24v24H0V0z\" fill=\"none\"/>\n",
              "    <path d=\"M18.56 5.44l.94 2.06.94-2.06 2.06-.94-2.06-.94-.94-2.06-.94 2.06-2.06.94zm-11 1L8.5 8.5l.94-2.06 2.06-.94-2.06-.94L8.5 2.5l-.94 2.06-2.06.94zm10 10l.94 2.06.94-2.06 2.06-.94-2.06-.94-.94-2.06-.94 2.06-2.06.94z\"/><path d=\"M17.41 7.96l-1.37-1.37c-.4-.4-.92-.59-1.43-.59-.52 0-1.04.2-1.43.59L10.3 9.45l-7.72 7.72c-.78.78-.78 2.05 0 2.83L4 21.41c.39.39.9.59 1.41.59.51 0 1.02-.2 1.41-.59l7.78-7.78 2.81-2.81c.8-.78.8-2.07 0-2.86zM5.41 20L4 18.59l7.72-7.72 1.47 1.35L5.41 20z\"/>\n",
              "  </svg>\n",
              "      </button>\n",
              "      \n",
              "  <style>\n",
              "    .colab-df-container {\n",
              "      display:flex;\n",
              "      flex-wrap:wrap;\n",
              "      gap: 12px;\n",
              "    }\n",
              "\n",
              "    .colab-df-convert {\n",
              "      background-color: #E8F0FE;\n",
              "      border: none;\n",
              "      border-radius: 50%;\n",
              "      cursor: pointer;\n",
              "      display: none;\n",
              "      fill: #1967D2;\n",
              "      height: 32px;\n",
              "      padding: 0 0 0 0;\n",
              "      width: 32px;\n",
              "    }\n",
              "\n",
              "    .colab-df-convert:hover {\n",
              "      background-color: #E2EBFA;\n",
              "      box-shadow: 0px 1px 2px rgba(60, 64, 67, 0.3), 0px 1px 3px 1px rgba(60, 64, 67, 0.15);\n",
              "      fill: #174EA6;\n",
              "    }\n",
              "\n",
              "    [theme=dark] .colab-df-convert {\n",
              "      background-color: #3B4455;\n",
              "      fill: #D2E3FC;\n",
              "    }\n",
              "\n",
              "    [theme=dark] .colab-df-convert:hover {\n",
              "      background-color: #434B5C;\n",
              "      box-shadow: 0px 1px 3px 1px rgba(0, 0, 0, 0.15);\n",
              "      filter: drop-shadow(0px 1px 2px rgba(0, 0, 0, 0.3));\n",
              "      fill: #FFFFFF;\n",
              "    }\n",
              "  </style>\n",
              "\n",
              "      <script>\n",
              "        const buttonEl =\n",
              "          document.querySelector('#df-42758b68-e0a0-465d-a69b-fd046ce8b645 button.colab-df-convert');\n",
              "        buttonEl.style.display =\n",
              "          google.colab.kernel.accessAllowed ? 'block' : 'none';\n",
              "\n",
              "        async function convertToInteractive(key) {\n",
              "          const element = document.querySelector('#df-42758b68-e0a0-465d-a69b-fd046ce8b645');\n",
              "          const dataTable =\n",
              "            await google.colab.kernel.invokeFunction('convertToInteractive',\n",
              "                                                     [key], {});\n",
              "          if (!dataTable) return;\n",
              "\n",
              "          const docLinkHtml = 'Like what you see? Visit the ' +\n",
              "            '<a target=\"_blank\" href=https://colab.research.google.com/notebooks/data_table.ipynb>data table notebook</a>'\n",
              "            + ' to learn more about interactive tables.';\n",
              "          element.innerHTML = '';\n",
              "          dataTable['output_type'] = 'display_data';\n",
              "          await google.colab.output.renderOutput(dataTable, element);\n",
              "          const docLink = document.createElement('div');\n",
              "          docLink.innerHTML = docLinkHtml;\n",
              "          element.appendChild(docLink);\n",
              "        }\n",
              "      </script>\n",
              "    </div>\n",
              "  </div>\n",
              "  "
            ]
          },
          "metadata": {},
          "execution_count": 326
        }
      ]
    },
    {
      "cell_type": "code",
      "source": [
        "df.duplicated().sum()"
      ],
      "metadata": {
        "colab": {
          "base_uri": "https://localhost:8080/"
        },
        "id": "RG0daQD9Jcfj",
        "outputId": "173c8c55-624d-4d64-f1f0-5c2236ca5be0"
      },
      "execution_count": 327,
      "outputs": [
        {
          "output_type": "execute_result",
          "data": {
            "text/plain": [
              "0"
            ]
          },
          "metadata": {},
          "execution_count": 327
        }
      ]
    },
    {
      "cell_type": "code",
      "source": [
        "features = ['keywords','cast','tagline','genres','director']"
      ],
      "metadata": {
        "id": "RmSxm9ZgPPm_"
      },
      "execution_count": 328,
      "outputs": []
    },
    {
      "cell_type": "code",
      "execution_count": 329,
      "metadata": {
        "id": "qLOOSM1yED6B"
      },
      "outputs": [],
      "source": [
        "def combine_features(row):\n",
        "    return row['keywords']+\" \"+row['cast']+\" \"+row['genres']+\" \"+row['tagline']+\" \"+row['director']"
      ]
    },
    {
      "cell_type": "code",
      "source": [
        "for feature in features:\n",
        "    df[feature] = df[feature].fillna('')"
      ],
      "metadata": {
        "id": "LtylmPIGNzRZ"
      },
      "execution_count": 330,
      "outputs": []
    },
    {
      "cell_type": "code",
      "execution_count": 331,
      "metadata": {
        "id": "jIs3QKs2ED6B"
      },
      "outputs": [],
      "source": [
        "df[\"combined_features\"] = df.apply(combine_features,axis=1) #applying combined_features() method over each rows of dataframe and storing the combined string in \"combined_features\" column\n"
      ]
    },
    {
      "cell_type": "code",
      "execution_count": 332,
      "metadata": {
        "id": "rVStJpnKED6C",
        "colab": {
          "base_uri": "https://localhost:8080/",
          "height": 54
        },
        "outputId": "f8fc579d-4a58-447e-91fd-9837e0da62d7"
      },
      "outputs": [
        {
          "output_type": "execute_result",
          "data": {
            "text/plain": [
              "'cv = CountVectorizer() #creating new CountVectorizer() object\\ncount_matrix = cv.fit_transform(df[\"combined_features\"]) #feeding combined strings(movie contents) to CountVectorizer() object'"
            ],
            "application/vnd.google.colaboratory.intrinsic+json": {
              "type": "string"
            }
          },
          "metadata": {},
          "execution_count": 332
        }
      ],
      "source": [
        "'''cv = CountVectorizer() #creating new CountVectorizer() object\n",
        "count_matrix = cv.fit_transform(df[\"combined_features\"]) #feeding combined strings(movie contents) to CountVectorizer() object'''"
      ]
    },
    {
      "cell_type": "code",
      "source": [
        "count = CountVectorizer()"
      ],
      "metadata": {
        "id": "fwZSrGw5RjcL"
      },
      "execution_count": 333,
      "outputs": []
    },
    {
      "cell_type": "code",
      "source": [
        "cmatrix = count.fit_transform(df[\"combined_features\"])"
      ],
      "metadata": {
        "id": "kl6tqIV8RxdF"
      },
      "execution_count": 334,
      "outputs": []
    },
    {
      "cell_type": "code",
      "source": [
        "print(cmatrix)"
      ],
      "metadata": {
        "colab": {
          "base_uri": "https://localhost:8080/"
        },
        "id": "Ngz6TWFIUEi3",
        "outputId": "4f70397f-b50a-4162-cc89-a8b069948464"
      },
      "execution_count": 335,
      "outputs": [
        {
          "output_type": "stream",
          "name": "stdout",
          "text": [
            "  (0, 3678)\t1\n",
            "  (0, 3065)\t1\n",
            "  (0, 5836)\t1\n",
            "  (0, 14378)\t2\n",
            "  (0, 16587)\t1\n",
            "  (0, 3225)\t1\n",
            "  (0, 14271)\t1\n",
            "  (0, 13349)\t1\n",
            "  (0, 17007)\t1\n",
            "  (0, 17290)\t1\n",
            "  (0, 13319)\t1\n",
            "  (0, 14064)\t1\n",
            "  (0, 16668)\t1\n",
            "  (0, 14608)\t1\n",
            "  (0, 8756)\t1\n",
            "  (0, 10229)\t1\n",
            "  (0, 13024)\t1\n",
            "  (0, 201)\t1\n",
            "  (0, 274)\t1\n",
            "  (0, 5274)\t1\n",
            "  (0, 13599)\t1\n",
            "  (0, 5437)\t1\n",
            "  (0, 4945)\t1\n",
            "  (0, 15261)\t1\n",
            "  (0, 16998)\t1\n",
            "  :\t:\n",
            "  (4801, 403)\t1\n",
            "  (4801, 4835)\t1\n",
            "  (4801, 17266)\t1\n",
            "  (4801, 13835)\t1\n",
            "  (4801, 13175)\t1\n",
            "  (4801, 3511)\t1\n",
            "  (4801, 13948)\t1\n",
            "  (4801, 17150)\t1\n",
            "  (4801, 7269)\t1\n",
            "  (4802, 11161)\t1\n",
            "  (4802, 4518)\t1\n",
            "  (4802, 2129)\t2\n",
            "  (4802, 4980)\t1\n",
            "  (4802, 6155)\t1\n",
            "  (4802, 3436)\t1\n",
            "  (4802, 4528)\t1\n",
            "  (4802, 1316)\t1\n",
            "  (4802, 12989)\t1\n",
            "  (4802, 4371)\t1\n",
            "  (4802, 6417)\t1\n",
            "  (4802, 4608)\t1\n",
            "  (4802, 2425)\t1\n",
            "  (4802, 3654)\t1\n",
            "  (4802, 5367)\t1\n",
            "  (4802, 6996)\t2\n"
          ]
        }
      ]
    },
    {
      "cell_type": "markdown",
      "source": [
        "#Cosine Similarity"
      ],
      "metadata": {
        "id": "Gyc9c-R0UfBl"
      }
    },
    {
      "cell_type": "code",
      "execution_count": 336,
      "metadata": {
        "id": "SZ6TxeexED6D"
      },
      "outputs": [],
      "source": [
        "cos_sim = cosine_similarity(cmatrix)"
      ]
    },
    {
      "cell_type": "code",
      "source": [
        "print(cos_sim)"
      ],
      "metadata": {
        "id": "GGSwZy_OFjHK",
        "colab": {
          "base_uri": "https://localhost:8080/"
        },
        "outputId": "75a76278-9215-41d8-f384-1511a6fbfc04"
      },
      "execution_count": 337,
      "outputs": [
        {
          "output_type": "stream",
          "name": "stdout",
          "text": [
            "[[1.         0.25253814 0.10206207 ... 0.         0.         0.        ]\n",
            " [0.25253814 1.         0.10997148 ... 0.05714286 0.         0.        ]\n",
            " [0.10206207 0.10997148 1.         ... 0.         0.09072184 0.        ]\n",
            " ...\n",
            " [0.         0.05714286 0.         ... 1.         0.         0.04264014]\n",
            " [0.         0.         0.09072184 ... 0.         1.         0.        ]\n",
            " [0.         0.         0.         ... 0.04264014 0.         1.        ]]\n"
          ]
        }
      ]
    },
    {
      "cell_type": "code",
      "source": [
        "print(cos_sim.shape)"
      ],
      "metadata": {
        "colab": {
          "base_uri": "https://localhost:8080/"
        },
        "id": "fmLHu6uzURm2",
        "outputId": "6b21c0db-7e2e-4479-a6d8-3123f51ab057"
      },
      "execution_count": 338,
      "outputs": [
        {
          "output_type": "stream",
          "name": "stdout",
          "text": [
            "(4803, 4803)\n"
          ]
        }
      ]
    },
    {
      "cell_type": "markdown",
      "source": [
        "Enter the movie name that you recently watched: "
      ],
      "metadata": {
        "id": "2SbIpOOTxlgc"
      }
    },
    {
      "cell_type": "code",
      "source": [
        "movie_user_likes = input(' Enter the movie name that you recently watched: ')"
      ],
      "metadata": {
        "colab": {
          "base_uri": "https://localhost:8080/"
        },
        "id": "hqv-SGv7UoI2",
        "outputId": "b793b576-668f-498f-f946-5cee54bf72f5"
      },
      "execution_count": 339,
      "outputs": [
        {
          "name": "stdout",
          "output_type": "stream",
          "text": [
            " Enter the movie name that you recently watched: Batman\n"
          ]
        }
      ]
    },
    {
      "cell_type": "code",
      "source": [
        "all_titles = df['title'].tolist()\n",
        "\n",
        "'''#def get_title_from_index(index):\n",
        " #   return df[df.index == index][\"title\"].values[0]\n",
        "#def get_index_from_title(title):\n",
        " #   return df[df.title == title][\"index\"].values[0]'''"
      ],
      "metadata": {
        "colab": {
          "base_uri": "https://localhost:8080/",
          "height": 54
        },
        "id": "z5dhvQqbVbHB",
        "outputId": "a4ebc005-7f33-43c8-aa3e-fdeb3290263a"
      },
      "execution_count": 340,
      "outputs": [
        {
          "output_type": "execute_result",
          "data": {
            "text/plain": [
              "'#def get_title_from_index(index):\\n #   return df[df.index == index][\"title\"].values[0]\\n#def get_index_from_title(title):\\n #   return df[df.title == title][\"index\"].values[0]'"
            ],
            "application/vnd.google.colaboratory.intrinsic+json": {
              "type": "string"
            }
          },
          "metadata": {},
          "execution_count": 340
        }
      ]
    },
    {
      "cell_type": "code",
      "source": [
        "import difflib"
      ],
      "metadata": {
        "id": "iX-ThKxVZ2KJ"
      },
      "execution_count": 341,
      "outputs": []
    },
    {
      "cell_type": "code",
      "source": [
        "Nearest_matches = difflib.get_close_matches(movie_user_likes, all_titles)\n",
        "print(Nearest_matches)"
      ],
      "metadata": {
        "colab": {
          "base_uri": "https://localhost:8080/"
        },
        "id": "JQJYy05_WQIA",
        "outputId": "29c2793d-3456-487f-dfdd-dcd622f9eb45"
      },
      "execution_count": 342,
      "outputs": [
        {
          "output_type": "stream",
          "name": "stdout",
          "text": [
            "['Batman', 'Batman', 'Catwoman']\n"
          ]
        }
      ]
    },
    {
      "cell_type": "code",
      "source": [
        "close_match = Nearest_matches[0]\n",
        "print(close_match)"
      ],
      "metadata": {
        "colab": {
          "base_uri": "https://localhost:8080/"
        },
        "id": "zeKYmAY2XWT8",
        "outputId": "ac279fa8-de85-4a1b-b6f0-1edf80e76aa6"
      },
      "execution_count": 343,
      "outputs": [
        {
          "output_type": "stream",
          "name": "stdout",
          "text": [
            "Batman\n"
          ]
        }
      ]
    },
    {
      "cell_type": "code",
      "source": [
        "'''def get_index_from_title(title):\n",
        "    return df[df.title == title][\"index\"].values[0]\n",
        "\n",
        "indx = get_index_from_title(movie_user_likes)\n",
        "\n",
        "#index = df[\"index\"].tolist()\n",
        "#indx = df[df.title == close_match]['index'].values[0]\n",
        "'''\n",
        "\n",
        "def get_index_from_title(title):\n",
        "    try:\n",
        "        return df[df.title == title][\"index\"].values[0]\n",
        "    except IndexError:\n",
        "        print(f\"Movie '{title}' not found in DataFrame!\")\n",
        "        return None\n",
        "\n",
        "indx = get_index_from_title(movie_user_likes)\n",
        "\n",
        "print(indx)\n"
      ],
      "metadata": {
        "colab": {
          "base_uri": "https://localhost:8080/"
        },
        "id": "a7amt7gxbpkd",
        "outputId": "9854d6af-85f2-40db-9a84-6856d95446fb"
      },
      "execution_count": 344,
      "outputs": [
        {
          "output_type": "stream",
          "name": "stdout",
          "text": [
            "1359\n"
          ]
        }
      ]
    },
    {
      "cell_type": "code",
      "source": [
        "sim_movies = list(enumerate(cos_sim[indx]))\n",
        "print(sim_movies)"
      ],
      "metadata": {
        "colab": {
          "base_uri": "https://localhost:8080/"
        },
        "id": "wNXoPmilcg68",
        "outputId": "c7e5b7e2-1ead-4e29-a3d1-380f2e1df992"
      },
      "execution_count": 345,
      "outputs": [
        {
          "output_type": "stream",
          "name": "stdout",
          "text": [
            "[(0, 0.11470786693528087), (1, 0.20857039859669468), (2, 0.06243905410544627), (3, 0.3313613782208279), (4, 0.08346223261119858), (5, 0.21459876881973802), (6, 0.0), (7, 0.02782074420373286), (8, 0.09733285267845754), (9, 0.1204950466257556), (10, 0.19466570535691508), (11, 0.04836508334066745), (12, 0.09544271444636668), (13, 0.08885233166386385), (14, 0.2467838236981868), (15, 0.029617443887954616), (16, 0.02782074420373286), (17, 0.06243905410544627), (18, 0.15585730003983933), (19, 0.1600142241187995), (20, 0.12262786789699316), (21, 0.027036903521793755), (22, 0.08740748201220976), (23, 0.13518451760896877), (24, 0.15389675281277312), (25, 0.0), (26, 0.02913582733740325), (27, 0.08740748201220976), (28, 0.09197090092274487), (29, 0.03181423814878889), (30, 0.16692446522239718), (31, 0.1411956236812263), (32, 0.16452254913212452), (33, 0.029617443887954616), (34, 0.0), (35, 0.09933992677987831), (36, 0.11846977555181847), (37, 0.06243905410544627), (38, 0.0602475233128778), (39, 0.11846977555181847), (40, 0.116543309349613), (41, 0.1391037210186643), (42, 0.1204950466257556), (43, 0.14808721943977307), (44, 0.0331133089266261), (45, 0.03065696697424829), (46, 0.20519567041703082), (47, 0.03382550457458692), (48, 0.06362847629757779), (49, 0.052631578947368425), (50, 0.12262786789699316), (51, 0.027036903521793755), (52, 0.1391037210186643), (53, 0.15061880828219448), (54, 0.06131393394849658), (55, 0.03244428422615251), (56, 0.03539961627023944), (57, 0.07079923254047887), (58, 0.13834289277321493), (59, 0.08885233166386385), (60, 0.0), (61, 0.06243905410544627), (62, 0.0331133089266261), (63, 0.08471737420873576), (64, 0.116543309349613), (65, 0.2711138549079501), (66, 0.08885233166386385), (67, 0.0), (68, 0.02913582733740325), (69, 0.07421560439929402), (70, 0.029617443887954616), (71, 0.07647191129018727), (72, 0.1777046633277277), (73, 0.10968169942141635), (74, 0.03244428422615251), (75, 0.14567913668701626), (76, 0.0301237616564389), (77, 0.05647824947249051), (78, 0.03382550457458692), (79, 0.16742770563222897), (80, 0.09733285267845754), (81, 0.11831213107007527), (82, 0.03065696697424829), (83, 0.06765100914917384), (84, 0.05195243334661311), (85, 0.06362847629757779), (86, 0.02742042485535409), (87, 0.0), (88, 0.08226127456606226), (89, 0.08346223261119858), (90, 0.09544271444636668), (91, 0.0301237616564389), (92, 0.0301237616564389), (93, 0.1411956236812263), (94, 0.0301237616564389), (95, 0.101338918387628), (96, 0.15789473684210528), (97, 0.029617443887954616), (98, 0.1720618004029213), (99, 0.09037128496931669), (100, 0.11470786693528087), (101, 0.14808721943977307), (102, 0.08740748201220976), (103, 0.1560976352636157), (104, 0.03181423814878889), (105, 0.06131393394849658), (106, 0.03065696697424829), (107, 0.06488856845230502), (108, 0.1391037210186643), (109, 0.06952346619889824), (110, 0.047324852428030105), (111, 0.09365858115816941), (112, 0.08885233166386385), (113, 0.15061880828219448), (114, 0.08471737420873576), (115, 0.08471737420873576), (116, 0.14673479641335557), (117, 0.08346223261119858), (118, 0.02913582733740325), (119, 0.32579188276750076), (120, 0.06243905410544627), (121, 0.16452254913212452), (122, 0.09544271444636668), (123, 0.08000711205939975), (124, 0.05923488777590923), (125, 0.08471737420873576), (126, 0.11470786693528087), (127, 0.031219527052723135), (128, 0.0), (129, 0.06243905410544627), (130, 0.0), (131, 0.12977713690461004), (132, 0.06488856845230502), (133, 0.08885233166386385), (134, 0.031219527052723135), (135, 0.13334518676566626), (136, 0.0), (137, 0.09365858115816941), (138, 0.06362847629757779), (139, 0.116543309349613), (140, 0.08885233166386385), (141, 0.0), (142, 0.0), (143, 0.03181423814878889), (144, 0.0), (145, 0.0), (146, 0.0), (147, 0.028239124736245257), (148, 0.09365858115816941), (149, 0.1842105263157895), (150, 0.11295649894498103), (151, 0.031219527052723135), (152, 0.11846977555181847), (153, 0.028239124736245257), (154, 0.06362847629757779), (155, 0.0), (156, 0.18394180184548975), (157, 0.03244428422615251), (158, 0.09733285267845754), (159, 0.08885233166386385), (160, 0.11470786693528087), (161, 0.09933992677987831), (162, 0.10882143751650175), (163, 0.10259783520851541), (164, 0.24333213169614382), (165, 0.09544271444636668), (166, 0.03539961627023944), (167, 0.0301237616564389), (168, 0.06131393394849658), (169, 0.029617443887954616), (170, 0.202677836775256), (171, 0.1842105263157895), (172, 0.08740748201220976), (173, 0.0), (174, 0.10259783520851541), (175, 0.10968169942141635), (176, 0.0533380747062665), (177, 0.06488856845230502), (178, 0.03065696697424829), (179, 0.06243905410544627), (180, 0.031219527052723135), (181, 0.03181423814878889), (182, 0.08603090020146065), (183, 0.05923488777590923), (184, 0.06243905410544627), (185, 0.0301237616564389), (186, 0.1842105263157895), (187, 0.05195243334661311), (188, 0.0331133089266261), (189, 0.16943474841747153), (190, 0.02782074420373286), (191, 0.09037128496931669), (192, 0.0), (193, 0.03065696697424829), (194, 0.06243905410544627), (195, 0.08111071056538127), (196, 0.16692446522239715), (197, 0.14567913668701626), (198, 0.15061880828219448), (199, 0.1411956236812263), (200, 0.08885233166386385), (201, 0.06488856845230502), (202, 0.0), (203, 0.07694837640638656), (204, 0.12725695259515557), (205, 0.12725695259515557), (206, 0.06362847629757779), (207, 0.1433848336691011), (208, 0.12977713690461004), (209, 0.03181423814878889), (210, 0.3154466340720224), (211, 0.1204950466257556), (212, 0.11846977555181847), (213, 0.12977713690461004), (214, 0.0662266178532522), (215, 0.2711138549079501), (216, 0.10147651372376076), (217, 0.08111071056538127), (218, 0.06917144638660747), (219, 0.12487810821089254), (220, 0.10968169942141635), (221, 0.06243905410544627), (222, 0.031219527052723135), (223, 0.18668326147193276), (224, 0.1748149640244195), (225, 0.031219527052723135), (226, 0.09197090092274487), (227, 0.031219527052723135), (228, 0.0301237616564389), (229, 0.09365858115816941), (230, 0.02742042485535409), (231, 0.0), (232, 0.05407380704358751), (233, 0.023918243661746996), (234, 0.08471737420873576), (235, 0.0331133089266261), (236, 0.02913582733740325), (237, 0.08603090020146065), (238, 0.08346223261119858), (239, 0.02782074420373286), (240, 0.09365858115816941), (241, 0.0582716546748065), (242, 0.09733285267845754), (243, 0.08885233166386385), (244, 0.028239124736245257), (245, 0.0978231976089037), (246, 0.028676966733820218), (247, 0.08885233166386385), (248, 0.06131393394849658), (249, 0.0301237616564389), (250, 0.14843120879858804), (251, 0.03244428422615251), (252, 0.12487810821089254), (253, 0.028676966733820218), (254, 0.05647824947249051), (255, 0.0), (256, 0.05923488777590923), (257, 0.0582716546748065), (258, 0.02913582733740325), (259, 0.1411956236812263), (260, 0.0301237616564389), (261, 0.09933992677987831), (262, 0.06131393394849658), (263, 0.0301237616564389), (264, 0.06131393394849658), (265, 0.12262786789699316), (266, 0.02913582733740325), (267, 0.18539590986372861), (268, 0.13710212427677043), (269, 0.08226127456606226), (270, 0.06243905410544627), (271, 0.1204950466257556), (272, 0.03244428422615251), (273, 0.057353933467640436), (274, 0.0331133089266261), (275, 0.11128297681493143), (276, 0.1204950466257556), (277, 0.0301237616564389), (278, 0.228012566372163), (279, 0.09544271444636668), (280, 0.09037128496931669), (281, 0.08603090020146065), (282, 0.025649458802128853), (283, 0.024182541670333724), (284, 0.02913582733740325), (285, 0.1892583246525563), (286, 0.02782074420373286), (287, 0.09365858115816941), (288, 0.0), (289, 0.0301237616564389), (290, 0.06131393394849658), (291, 0.10814761408717502), (292, 0.12824729401064427), (293, 0.08603090020146065), (294, 0.06362847629757779), (295, 0.05647824947249051), (296, 0.12487810821089254), (297, 0.06243905410544627), (298, 0.03382550457458692), (299, 0.15609763526361567), (300, 0.08226127456606226), (301, 0.0), (302, 0.03065696697424829), (303, 0.16556654463313053), (304, 0.02913582733740325), (305, 0.16222142113076254), (306, 0.03181423814878889), (307, 0.027036903521793755), (308, 0.10968169942141635), (309, 0.03539961627023944), (310, 0.08603090020146065), (311, 0.0602475233128778), (312, 0.028239124736245257), (313, 0.0582716546748065), (314, 0.1777046633277277), (315, 0.15389675281277312), (316, 0.1204950466257556), (317, 0.0), (318, 0.1391037210186643), (319, 0.12977713690461004), (320, 0.03065696697424829), (321, 0.06488856845230502), (322, 0.0582716546748065), (323, 0.11164843913471803), (324, 0.15018785229652767), (325, 0.0), (326, 0.09037128496931669), (327, 0.12262786789699316), (328, 0.07894736842105264), (329, 0.16943474841747153), (330, 0.06131393394849658), (331, 0.1661625969589056), (332, 0.11128297681493143), (333, 0.0), (334, 0.11295649894498103), (335, 0.031219527052723135), (336, 0.050669459193814), (337, 0.025031308716087945), (338, 0.031219527052723135), (339, 0.05923488777590923), (340, 0.11831213107007527), (341, 0.03244428422615251), (342, 0.20025046972870353), (343, 0.12725695259515557), (344, 0.028676966733820218), (345, 0.06765100914917384), (346, 0.05407380704358751), (347, 0.0), (348, 0.0301237616564389), (349, 0.0301237616564389), (350, 0.09365858115816941), (351, 0.116543309349613), (352, 0.11846977555181847), (353, 0.09464970485606021), (354, 0.057353933467640436), (355, 0.03244428422615251), (356, 0.06243905410544627), (357, 0.03382550457458692), (358, 0.08603090020146065), (359, 0.0), (360, 0.0), (361, 0.09544271444636668), (362, 0.031219527052723135), (363, 0.0), (364, 0.13157894736842107), (365, 0.0), (366, 0.12369267399882336), (367, 0.09365858115816941), (368, 0.028676966733820218), (369, 0.15789473684210528), (370, 0.09037128496931669), (371, 0.06952346619889824), (372, 0.1979082783981174), (373, 0.06362847629757779), (374, 0.025334729596907), (375, 0.0), (376, 0.09197090092274487), (377, 0.06562179588897107), (378, 0.0), (379, 0.05923488777590923), (380, 0.07509392614826384), (381, 0.07868894753646337), (382, 0.0602475233128778), (383, 0.09037128496931669), (384, 0.11295649894498103), (385, 0.0), (386, 0.06131393394849658), (387, 0.13710212427677043), (388, 0.09197090092274487), (389, 0.0602475233128778), (390, 0.029617443887954616), (391, 0.02782074420373286), (392, 0.029617443887954616), (393, 0.09567297464698798), (394, 0.03244428422615251), (395, 0.024455799402225926), (396, 0.08885233166386385), (397, 0.0), (398, 0.08885233166386385), (399, 0.0), (400, 0.08111071056538127), (401, 0.0), (402, 0.08603090020146065), (403, 0.1411956236812263), (404, 0.0), (405, 0.09567297464698798), (406, 0.05647824947249051), (407, 0.05407380704358751), (408, 0.08885233166386385), (409, 0.01583118967153259), (410, 0.08603090020146065), (411, 0.126673647984535), (412, 0.08740748201220976), (413, 0.09197090092274487), (414, 0.03244428422615251), (415, 0.09933992677987831), (416, 0.05647824947249051), (417, 0.1777046633277277), (418, 0.0), (419, 0.09197090092274487), (420, 0.08885233166386385), (421, 0.05407380704358751), (422, 0.18668326147193276), (423, 0.06362847629757779), (424, 0.03065696697424829), (425, 0.09733285267845754), (426, 0.1411956236812263), (427, 0.0662266178532522), (428, 0.5948118774794626), (429, 0.0582716546748065), (430, 0.0), (431, 0.09733285267845754), (432, 0.0301237616564389), (433, 0.12487810821089254), (434, 0.09197090092274487), (435, 0.03065696697424829), (436, 0.0), (437, 0.09544271444636668), (438, 0.09933992677987831), (439, 0.0), (440, 0.024455799402225926), (441, 0.05564148840746572), (442, 0.07694837640638656), (443, 0.02782074420373286), (444, 0.16452254913212452), (445, 0.0), (446, 0.13710212427677043), (447, 0.1324532357065044), (448, 0.13290606860251744), (449, 0.05006261743217589), (450, 0.03065696697424829), (451, 0.02913582733740325), (452, 0.08226127456606226), (453, 0.06362847629757779), (454, 0.10814761408717502), (455, 0.028676966733820218), (456, 0.07694837640638656), (457, 0.05923488777590923), (458, 0.0331133089266261), (459, 0.0), (460, 0.0), (461, 0.0), (462, 0.0), (463, 0.06765100914917384), (464, 0.0), (465, 0.0), (466, 0.09037128496931669), (467, 0.0662266178532522), (468, 0.08885233166386385), (469, 0.08740748201220976), (470, 0.15789473684210528), (471, 0.024455799402225926), (472, 0.0602475233128778), (473, 0.20073876713674152), (474, 0.0), (475, 0.07792865001991967), (476, 0.1411956236812263), (477, 0.029617443887954616), (478, 0.028239124736245257), (479, 0.09544271444636668), (480, 0.15061880828219448), (481, 0.03065696697424829), (482, 0.0), (483, 0.12515654358043973), (484, 0.152008377581442), (485, 0.08471737420873576), (486, 0.06362847629757779), (487, 0.024455799402225926), (488, 0.05564148840746572), (489, 0.101338918387628), (490, 0.029617443887954616), (491, 0.028239124736245257), (492, 0.0), (493, 0.02913582733740325), (494, 0.126673647984535), (495, 0.1433848336691011), (496, 0.0), (497, 0.10147651372376076), (498, 0.0), (499, 0.09544271444636668), (500, 0.08346223261119858), (501, 0.09037128496931669), (502, 0.0), (503, 0.16563698349810535), (504, 0.0), (505, 0.1600142241187995), (506, 0.031219527052723135), (507, 0.029617443887954616), (508, 0.03181423814878889), (509, 0.0), (510, 0.19474520942613), (511, 0.0301237616564389), (512, 0.05923488777590923), (513, 0.12369267399882336), (514, 0.047324852428030105), (515, 0.05407380704358751), (516, 0.106676149412533), (517, 0.05923488777590923), (518, 0.13834289277321493), (519, 0.0301237616564389), (520, 0.0), (521, 0.03244428422615251), (522, 0.0), (523, 0.09933992677987831), (524, 0.02782074420373286), (525, 0.0967301666813349), (526, 0.0), (527, 0.13334518676566626), (528, 0.1782626071286346), (529, 0.028676966733820218), (530, 0.03382550457458692), (531, 0.08471737420873576), (532, 0.0), (533, 0.09733285267845754), (534, 0.09733285267845754), (535, 0.08346223261119858), (536, 0.0301237616564389), (537, 0.1324532357065044), (538, 0.03065696697424829), (539, 0.08740748201220976), (540, 0.03721614637823934), (541, 0.023174488732966077), (542, 0.13710212427677043), (543, 0.04947706959952935), (544, 0.08885233166386385), (545, 0.0), (546, 0.08885233166386385), (547, 0.12725695259515557), (548, 0.0301237616564389), (549, 0.18183351671314588), (550, 0.0), (551, 0.0), (552, 0.0), (553, 0.0582716546748065), (554, 0.116543309349613), (555, 0.11846977555181847), (556, 0.07694837640638656), (557, 0.06131393394849658), (558, 0.05564148840746572), (559, 0.028676966733820218), (560, 0.12262786789699316), (561, 0.0), (562, 0.0), (563, 0.08740748201220976), (564, 0.0), (565, 0.06131393394849658), (566, 0.0533380747062665), (567, 0.031219527052723135), (568, 0.03065696697424829), (569, 0.0), (570, 0.03065696697424829), (571, 0.1204950466257556), (572, 0.05564148840746572), (573, 0.03382550457458692), (574, 0.10968169942141635), (575, 0.02782074420373286), (576, 0.02742042485535409), (577, 0.09197090092274487), (578, 0.13518451760896877), (579, 0.025031308716087945), (580, 0.029617443887954616), (581, 0.16692446522239715), (582, 0.08603090020146065), (583, 0.11128297681493143), (584, 0.17699808135119718), (585, 0.025031308716087945), (586, 0.08998425413316952), (587, 0.17316974359835272), (588, 0.11164843913471803), (589, 0.06243905410544627), (590, 0.0602475233128778), (591, 0.08603090020146065), (592, 0.11128297681493143), (593, 0.0), (594, 0.03065696697424829), (595, 0.02913582733740325), (596, 0.031219527052723135), (597, 0.12977713690461004), (598, 0.0), (599, 0.0), (600, 0.1037571695799112), (601, 0.03382550457458692), (602, 0.03539961627023944), (603, 0.10526315789473685), (604, 0.03065696697424829), (605, 0.03458572319330373), (606, 0.12262786789699316), (607, 0.029617443887954616), (608, 0.1720618004029213), (609, 0.03181423814878889), (610, 0.03181423814878889), (611, 0.028239124736245257), (612, 0.06362847629757779), (613, 0.116543309349613), (614, 0.03382550457458692), (615, 0.0978231976089037), (616, 0.0), (617, 0.116543309349613), (618, 0.10390486669322622), (619, 0.0), (620, 0.1748149640244195), (621, 0.028239124736245257), (622, 0.029617443887954616), (623, 0.0), (624, 0.08471737420873576), (625, 0.06131393394849658), (626, 0.06488856845230502), (627, 0.13764944032233706), (628, 0.04499212706658476), (629, 0.04947706959952935), (630, 0.052631578947368425), (631, 0.026315789473684213), (632, 0.0), (633, 0.11959121830873498), (634, 0.13710212427677043), (635, 0.0331133089266261), (636, 0.116543309349613), (637, 0.0), (638, 0.15789473684210528), (639, 0.0), (640, 0.028239124736245257), (641, 0.0), (642, 0.02666903735313325), (643, 0.08226127456606226), (644, 0.1560976352636157), (645, 0.03065696697424829), (646, 0.05647824947249051), (647, 0.10968169942141635), (648, 0.024738534799764674), (649, 0.0), (650, 0.028239124736245257), (651, 0.0331133089266261), (652, 0.09037128496931669), (653, 0.03065696697424829), (654, 0.09197090092274487), (655, 0.03539961627023944), (656, 0.10968169942141635), (657, 0.09544271444636668), (658, 0.05195243334661311), (659, 0.06131393394849658), (660, 0.0331133089266261), (661, 0.05647824947249051), (662, 0.06362847629757779), (663, 0.06488856845230502), (664, 0.09365858115816941), (665, 0.13710212427677043), (666, 0.16692446522239715), (667, 0.03181423814878889), (668, 0.0602475233128778), (669, 0.03181423814878889), (670, 0.05647824947249051), (671, 0.06131393394849658), (672, 0.12262786789699316), (673, 0.11141412945539661), (674, 0.07254762501100116), (675, 0.08603090020146065), (676, 0.11295649894498103), (677, 0.12988108336653278), (678, 0.1691275228729346), (679, 0.05407380704358751), (680, 0.05195243334661311), (681, 0.2725865102545528), (682, 0.0), (683, 0.08000711205939975), (684, 0.028239124736245257), (685, 0.0301237616564389), (686, 0.0301237616564389), (687, 0.03181423814878889), (688, 0.0), (689, 0.0662266178532522), (690, 0.1204950466257556), (691, 0.10968169942141635), (692, 0.050669459193814), (693, 0.0533380747062665), (694, 0.15585730003983933), (695, 0.05195243334661311), (696, 0.09365858115816941), (697, 0.06362847629757779), (698, 0.06362847629757779), (699, 0.0), (700, 0.0602475233128778), (701, 0.0), (702, 0.08603090020146065), (703, 0.0), (704, 0.0), (705, 0.0), (706, 0.09544271444636668), (707, 0.0), (708, 0.1433848336691011), (709, 0.0), (710, 0.0792740035289418), (711, 0.05195243334661311), (712, 0.0), (713, 0.0), (714, 0.08885233166386385), (715, 0.14159846508095775), (716, 0.05923488777590923), (717, 0.09037128496931669), (718, 0.08111071056538127), (719, 0.08603090020146065), (720, 0.06131393394849658), (721, 0.13710212427677043), (722, 0.031219527052723135), (723, 0.051298917604257706), (724, 0.05484084971070818), (725, 0.026315789473684213), (726, 0.09933992677987831), (727, 0.0), (728, 0.11128297681493143), (729, 0.0), (730, 0.05647824947249051), (731, 0.1777046633277277), (732, 0.09733285267845754), (733, 0.02913582733740325), (734, 0.0), (735, 0.05923488777590923), (736, 0.17954621161490197), (737, 0.03065696697424829), (738, 0.0), (739, 0.16943474841747153), (740, 0.09544271444636668), (741, 0.10968169942141635), (742, 0.02742042485535409), (743, 0.101338918387628), (744, 0.10968169942141635), (745, 0.06243905410544627), (746, 0.08471737420873576), (747, 0.0582716546748065), (748, 0.10147651372376076), (749, 0.0), (750, 0.10619884881071831), (751, 0.03181423814878889), (752, 0.10390486669322622), (753, 0.2823912473624526), (754, 0.024455799402225926), (755, 0.12725695259515557), (756, 0.029617443887954616), (757, 0.06488856845230502), (758, 0.08885233166386385), (759, 0.08740748201220976), (760, 0.06917144638660747), (761, 0.16692446522239715), (762, 0.09365858115816941), (763, 0.09544271444636668), (764, 0.03181423814878889), (765, 0.0), (766, 0.12262786789699316), (767, 0.1204950466257556), (768, 0.057353933467640436), (769, 0.03721614637823934), (770, 0.0), (771, 0.029617443887954616), (772, 0.08603090020146065), (773, 0.0331133089266261), (774, 0.10147651372376076), (775, 0.08346223261119858), (776, 0.02742042485535409), (777, 0.09365858115816941), (778, 0.0), (779, 0.16452254913212452), (780, 0.0), (781, 0.05564148840746572), (782, 0.11128297681493143), (783, 0.0), (784, 0.0602475233128778), (785, 0.03065696697424829), (786, 0.07647191129018727), (787, 0.06882472016116853), (788, 0.11128297681493143), (789, 0.05923488777590923), (790, 0.12262786789699316), (791, 0.12725695259515557), (792, 0.029617443887954616), (793, 0.0), (794, 0.11831213107007527), (795, 0.0533380747062665), (796, 0.0), (797, 0.03181423814878889), (798, 0.0), (799, 0.05484084971070818), (800, 0.106676149412533), (801, 0.0), (802, 0.057353933467640436), (803, 0.07079923254047887), (804, 0.06488856845230502), (805, 0.06362847629757779), (806, 0.03181423814878889), (807, 0.09037128496931669), (808, 0.029617443887954616), (809, 0.16390251702679645), (810, 0.05923488777590923), (811, 0.0602475233128778), (812, 0.029617443887954616), (813, 0.2541521226262073), (814, 0.02782074420373286), (815, 0.116543309349613), (816, 0.0), (817, 0.0), (818, 0.03244428422615251), (819, 0.0), (820, 0.03244428422615251), (821, 0.11295649894498103), (822, 0.03458572319330373), (823, 0.03181423814878889), (824, 0.0), (825, 0.10259783520851541), (826, 0.12977713690461004), (827, 0.13157894736842107), (828, 0.12977713690461004), (829, 0.06243905410544627), (830, 0.20780973338645245), (831, 0.07694837640638656), (832, 0.18541926977182407), (833, 0.14567913668701626), (834, 0.03244428422615251), (835, 0.0), (836, 0.2467838236981868), (837, 0.0), (838, 0.09197090092274487), (839, 0.11295649894498103), (840, 0.057353933467640436), (841, 0.12977713690461004), (842, 0.12977713690461004), (843, 0.0), (844, 0.05923488777590923), (845, 0.0), (846, 0.08226127456606226), (847, 0.1204950466257556), (848, 0.03244428422615251), (849, 0.02913582733740325), (850, 0.03065696697424829), (851, 0.026315789473684213), (852, 0.15789473684210528), (853, 0.0), (854, 0.13710212427677043), (855, 0.052631578947368425), (856, 0.11128297681493143), (857, 0.06243905410544627), (858, 0.15907119074394446), (859, 0.05923488777590923), (860, 0.0), (861, 0.0), (862, 0.028676966733820218), (863, 0.03181423814878889), (864, 0.06488856845230502), (865, 0.0602475233128778), (866, 0.07254762501100116), (867, 0.11128297681493143), (868, 0.0), (869, 0.09933992677987831), (870, 0.213352298825066), (871, 0.09197090092274487), (872, 0.0), (873, 0.116543309349613), (874, 0.10968169942141635), (875, 0.027036903521793755), (876, 0.028239124736245257), (877, 0.06243905410544627), (878, 0.0), (879, 0.09544271444636668), (880, 0.1204950466257556), (881, 0.1037571695799112), (882, 0.02913582733740325), (883, 0.08885233166386385), (884, 0.09365858115816941), (885, 0.0), (886, 0.08603090020146065), (887, 0.0), (888, 0.0331133089266261), (889, 0.0), (890, 0.0), (891, 0.0), (892, 0.09037128496931669), (893, 0.06243905410544627), (894, 0.05923488777590923), (895, 0.0), (896, 0.1600142241187995), (897, 0.0662266178532522), (898, 0.09544271444636668), (899, 0.09037128496931669), (900, 0.0), (901, 0.13497638119975428), (902, 0.0), (903, 0.057353933467640436), (904, 0.16452254913212452), (905, 0.0662266178532522), (906, 0.0), (907, 0.0), (908, 0.0), (909, 0.0), (910, 0.057353933467640436), (911, 0.05923488777590923), (912, 0.0), (913, 0.0), (914, 0.08000711205939975), (915, 0.08594700851870801), (916, 0.0), (917, 0.06243905410544627), (918, 0.126673647984535), (919, 0.06362847629757779), (920, 0.14567913668701626), (921, 0.0), (922, 0.08885233166386385), (923, 0.08111071056538127), (924, 0.06243905410544627), (925, 0.0), (926, 0.0), (927, 0.03458572319330373), (928, 0.03181423814878889), (929, 0.15018785229652767), (930, 0.1411956236812263), (931, 0.09365858115816941), (932, 0.04543108504242546), (933, 0.1204950466257556), (934, 0.08346223261119858), (935, 0.1204950466257556), (936, 0.06917144638660747), (937, 0.06243905410544627), (938, 0.057353933467640436), (939, 0.07694837640638656), (940, 0.0), (941, 0.12824729401064427), (942, 0.06488856845230502), (943, 0.03065696697424829), (944, 0.031219527052723135), (945, 0.03181423814878889), (946, 0.15389675281277312), (947, 0.06131393394849658), (948, 0.11846977555181847), (949, 0.0602475233128778), (950, 0.0533380747062665), (951, 0.03244428422615251), (952, 0.07079923254047887), (953, 0.031219527052723135), (954, 0.0), (955, 0.11846977555181847), (956, 0.06131393394849658), (957, 0.0), (958, 0.1324532357065044), (959, 0.13157894736842107), (960, 0.0), (961, 0.0), (962, 0.02782074420373286), (963, 0.2193633988428327), (964, 0.106676149412533), (965, 0.02913582733740325), (966, 0.0), (967, 0.0662266178532522), (968, 0.18394180184548975), (969, 0.22264681319788207), (970, 0.0662266178532522), (971, 0.031219527052723135), (972, 0.05647824947249051), (973, 0.08000711205939975), (974, 0.08346223261119858), (975, 0.03382550457458692), (976, 0.03065696697424829), (977, 0.02742042485535409), (978, 0.16692446522239718), (979, 0.08885233166386385), (980, 0.16452254913212452), (981, 0.12262786789699316), (982, 0.1204950466257556), (983, 0.02742042485535409), (984, 0.06243905410544627), (985, 0.03458572319330373), (986, 0.0), (987, 0.02666903735313325), (988, 0.07894736842105264), (989, 0.027036903521793755), (990, 0.06622661785325219), (991, 0.0), (992, 0.12262786789699316), (993, 0.09544271444636668), (994, 0.18539590986372861), (995, 0.028676966733820218), (996, 0.028239124736245257), (997, 0.0), (998, 0.09365858115816941), (999, 0.044151078568834795), (1000, 0.09037128496931669), (1001, 0.101338918387628), (1002, 0.1976738731537168), (1003, 0.05484084971070818), (1004, 0.0), (1005, 0.07792865001991967), (1006, 0.1979082783981174), (1007, 0.0), (1008, 0.052631578947368425), (1009, 0.15907119074394446), (1010, 0.03627381250550058), (1011, 0.0), (1012, 0.031219527052723135), (1013, 0.05647824947249051), (1014, 0.0), (1015, 0.14808721943977307), (1016, 0.12515654358043973), (1017, 0.23662426214015053), (1018, 0.17836650794011905), (1019, 0.0), (1020, 0.09933992677987831), (1021, 0.03382550457458692), (1022, 0.028239124736245257), (1023, 0.0), (1024, 0.08998425413316952), (1025, 0.11470786693528087), (1026, 0.06131393394849658), (1027, 0.08740748201220976), (1028, 0.0), (1029, 0.10526315789473685), (1030, 0.10814761408717502), (1031, 0.08998425413316952), (1032, 0.0), (1033, 0.0602475233128778), (1034, 0.1204950466257556), (1035, 0.18731716231633883), (1036, 0.050669459193814), (1037, 0.0), (1038, 0.152008377581442), (1039, 0.0), (1040, 0.08885233166386385), (1041, 0.05407380704358751), (1042, 0.03627381250550058), (1043, 0.18074256993863339), (1044, 0.028676966733820218), (1045, 0.02666903735313325), (1046, 0.08520286456846099), (1047, 0.022075539284417398), (1048, 0.15061880828219448), (1049, 0.076004188790721), (1050, 0.10968169942141635), (1051, 0.0331133089266261), (1052, 0.17996850826633903), (1053, 0.0301237616564389), (1054, 0.0), (1055, 0.09037128496931669), (1056, 0.028239124736245257), (1057, 0.057353933467640436), (1058, 0.08000711205939975), (1059, 0.05647824947249051), (1060, 0.0), (1061, 0.05484084971070818), (1062, 0.0), (1063, 0.1433848336691011), (1064, 0.12227899701112963), (1065, 0.0), (1066, 0.0), (1067, 0.0), (1068, 0.0), (1069, 0.0), (1070, 0.09544271444636668), (1071, 0.0), (1072, 0.0), (1073, 0.1204950466257556), (1074, 0.06765100914917384), (1075, 0.11295649894498103), (1076, 0.18074256993863339), (1077, 0.023918243661746996), (1078, 0.13710212427677043), (1079, 0.02782074420373286), (1080, 0.029617443887954616), (1081, 0.09197090092274487), (1082, 0.16059101370939324), (1083, 0.03181423814878889), (1084, 0.05647824947249051), (1085, 0.1934603333626698), (1086, 0.16452254913212452), (1087, 0.10619884881071831), (1088, 0.0), (1089, 0.0662266178532522), (1090, 0.0), (1091, 0.106676149412533), (1092, 0.09544271444636668), (1093, 0.03065696697424829), (1094, 0.0662266178532522), (1095, 0.116543309349613), (1096, 0.06362847629757779), (1097, 0.1411956236812263), (1098, 0.02913582733740325), (1099, 0.043355498476206004), (1100, 0.05647824947249051), (1101, 0.028676966733820218), (1102, 0.10526315789473685), (1103, 0.10968169942141635), (1104, 0.028676966733820218), (1105, 0.02913582733740325), (1106, 0.02742042485535409), (1107, 0.0), (1108, 0.031219527052723135), (1109, 0.12515654358043973), (1110, 0.1204950466257556), (1111, 0.101338918387628), (1112, 0.10259783520851541), (1113, 0.16943474841747153), (1114, 0.06917144638660747), (1115, 0.06488856845230502), (1116, 0.0), (1117, 0.0301237616564389), (1118, 0.12487810821089254), (1119, 0.0967301666813349), (1120, 0.22282825891079325), (1121, 0.028239124736245257), (1122, 0.08471737420873576), (1123, 0.0), (1124, 0.15061880828219448), (1125, 0.1411956236812263), (1126, 0.0), (1127, 0.08111071056538127), (1128, 0.0), (1129, 0.031219527052723135), (1130, 0.0), (1131, 0.057353933467640436), (1132, 0.06488856845230502), (1133, 0.06243905410544627), (1134, 0.08111071056538127), (1135, 0.0301237616564389), (1136, 0.02742042485535409), (1137, 0.05647824947249051), (1138, 0.08346223261119858), (1139, 0.0602475233128778), (1140, 0.0602475233128778), (1141, 0.12977713690461004), (1142, 0.0), (1143, 0.06488856845230502), (1144, 0.09733285267845754), (1145, 0.0), (1146, 0.10814761408717502), (1147, 0.03244428422615251), (1148, 0.1842105263157895), (1149, 0.0331133089266261), (1150, 0.0602475233128778), (1151, 0.05484084971070818), (1152, 0.05195243334661311), (1153, 0.10012523486435178), (1154, 0.03065696697424829), (1155, 0.028239124736245257), (1156, 0.06131393394849658), (1157, 0.0), (1158, 0.02913582733740325), (1159, 0.1600142241187995), (1160, 0.106676149412533), (1161, 0.02913582733740325), (1162, 0.14808721943977307), (1163, 0.19194297398747864), (1164, 0.0), (1165, 0.12227899701112964), (1166, 0.03721614637823934), (1167, 0.0), (1168, 0.0), (1169, 0.0662266178532522), (1170, 0.0582716546748065), (1171, 0.06243905410544627), (1172, 0.08111071056538127), (1173, 0.0), (1174, 0.16222142113076254), (1175, 0.13710212427677043), (1176, 0.08346223261119858), (1177, 0.13124359177794215), (1178, 0.06243905410544627), (1179, 0.06488856845230502), (1180, 0.0582716546748065), (1181, 0.116543309349613), (1182, 0.08885233166386385), (1183, 0.17292861596651865), (1184, 0.05484084971070818), (1185, 0.0582716546748065), (1186, 0.027036903521793755), (1187, 0.12988108336653278), (1188, 0.052631578947368425), (1189, 0.0), (1190, 0.06243905410544627), (1191, 0.20267783677525597), (1192, 0.13334518676566626), (1193, 0.025334729596907), (1194, 0.0602475233128778), (1195, 0.06131393394849658), (1196, 0.09544271444636668), (1197, 0.03181423814878889), (1198, 0.0), (1199, 0.02913582733740325), (1200, 0.028239124736245257), (1201, 0.05923488777590923), (1202, 0.1540171257313038), (1203, 0.11846977555181847), (1204, 0.05564148840746572), (1205, 0.0), (1206, 0.0331133089266261), (1207, 0.12515654358043973), (1208, 0.0), (1209, 0.076004188790721), (1210, 0.0), (1211, 0.0), (1212, 0.050669459193814), (1213, 0.1818335167131459), (1214, 0.13334518676566626), (1215, 0.10936965981495178), (1216, 0.10814761408717502), (1217, 0.10968169942141635), (1218, 0.0), (1219, 0.0), (1220, 0.12988108336653278), (1221, 0.05484084971070818), (1222, 0.028676966733820218), (1223, 0.05564148840746572), (1224, 0.0), (1225, 0.05564148840746572), (1226, 0.024738534799764674), (1227, 0.09037128496931669), (1228, 0.0602475233128778), (1229, 0.0), (1230, 0.1204950466257556), (1231, 0.0), (1232, 0.028239124736245257), (1233, 0.16927779169233606), (1234, 0.1204950466257556), (1235, 0.0), (1236, 0.08740748201220976), (1237, 0.10259783520851541), (1238, 0.09365858115816941), (1239, 0.08603090020146065), (1240, 0.057353933467640436), (1241, 0.09544271444636668), (1242, 0.0), (1243, 0.17316974359835272), (1244, 0.15585730003983933), (1245, 0.12487810821089254), (1246, 0.03244428422615251), (1247, 0.1842105263157895), (1248, 0.0), (1249, 0.03458572319330373), (1250, 0.05195243334661311), (1251, 0.0), (1252, 0.0), (1253, 0.07868894753646337), (1254, 0.12725695259515557), (1255, 0.05923488777590923), (1256, 0.07079923254047887), (1257, 0.09733285267845754), (1258, 0.0), (1259, 0.12977713690461004), (1260, 0.0301237616564389), (1261, 0.0), (1262, 0.0), (1263, 0.05923488777590923), (1264, 0.10012523486435178), (1265, 0.11846977555181847), (1266, 0.0602475233128778), (1267, 0.04188539082916955), (1268, 0.0), (1269, 0.09365858115816941), (1270, 0.08885233166386385), (1271, 0.13334518676566626), (1272, 0.116543309349613), (1273, 0.03627381250550058), (1274, 0.02271554252121273), (1275, 0.11128297681493143), (1276, 0.0602475233128778), (1277, 0.03627381250550058), (1278, 0.17699808135119718), (1279, 0.1433848336691011), (1280, 0.2105263157894737), (1281, 0.0533380747062665), (1282, 0.11959121830873498), (1283, 0.02742042485535409), (1284, 0.03382550457458692), (1285, 0.03539961627023944), (1286, 0.18929940971212042), (1287, 0.03382550457458692), (1288, 0.043355498476206004), (1289, 0.13834289277321493), (1290, 0.03244428422615251), (1291, 0.03458572319330373), (1292, 0.13518451760896877), (1293, 0.15789473684210528), (1294, 0.09365858115816941), (1295, 0.0), (1296, 0.1986798535597566), (1297, 0.0), (1298, 0.08740748201220976), (1299, 0.0533380747062665), (1300, 0.10814761408717502), (1301, 0.025334729596907), (1302, 0.03244428422615251), (1303, 0.11846977555181847), (1304, 0.09086217008485092), (1305, 0.09544271444636668), (1306, 0.039344473768231684), (1307, 0.0), (1308, 0.05923488777590923), (1309, 0.03382550457458692), (1310, 0.0301237616564389), (1311, 0.1720618004029213), (1312, 0.09365858115816941), (1313, 0.02913582733740325), (1314, 0.06131393394849658), (1315, 0.052631578947368425), (1316, 0.09428928580058929), (1317, 0.03181423814878889), (1318, 0.05923488777590923), (1319, 0.03065696697424829), (1320, 0.15061880828219448), (1321, 0.03539961627023944), (1322, 0.08885233166386385), (1323, 0.0), (1324, 0.09544271444636668), (1325, 0.0), (1326, 0.0), (1327, 0.06131393394849658), (1328, 0.08226127456606226), (1329, 0.0), (1330, 0.0), (1331, 0.09037128496931669), (1332, 0.029617443887954616), (1333, 0.0), (1334, 0.08346223261119858), (1335, 0.06131393394849658), (1336, 0.0602475233128778), (1337, 0.08111071056538127), (1338, 0.051298917604257706), (1339, 0.08885233166386385), (1340, 0.03181423814878889), (1341, 0.04783648732349399), (1342, 0.09933992677987831), (1343, 0.08603090020146065), (1344, 0.0), (1345, 0.0), (1346, 0.116543309349613), (1347, 0.03065696697424829), (1348, 0.08111071056538127), (1349, 0.0582716546748065), (1350, 0.0662266178532522), (1351, 0.057353933467640436), (1352, 0.0582716546748065), (1353, 0.0), (1354, 0.03181423814878889), (1355, 0.0), (1356, 0.0), (1357, 0.040555355282690636), (1358, 0.15907119074394446), (1359, 0.9999999999999999), (1360, 0.0), (1361, 0.11295649894498103), (1362, 0.09365858115816941), (1363, 0.08000711205939975), (1364, 0.05407380704358751), (1365, 0.0), (1366, 0.025334729596907), (1367, 0.05647824947249051), (1368, 0.14886458551295736), (1369, 0.17316974359835272), (1370, 0.13157894736842107), (1371, 0.0), (1372, 0.051298917604257706), (1373, 0.0582716546748065), (1374, 0.07694837640638656), (1375, 0.11846977555181847), (1376, 0.0), (1377, 0.09733285267845754), (1378, 0.0), (1379, 0.0582716546748065), (1380, 0.13157894736842107), (1381, 0.06765100914917384), (1382, 0.05923488777590923), (1383, 0.0), (1384, 0.031219527052723135), (1385, 0.0), (1386, 0.0), (1387, 0.0), (1388, 0.0602475233128778), (1389, 0.03181423814878889), (1390, 0.12487810821089254), (1391, 0.0), (1392, 0.1411956236812263), (1393, 0.0), (1394, 0.09733285267845754), (1395, 0.031219527052723135), (1396, 0.0), (1397, 0.11470786693528087), (1398, 0.0301237616564389), (1399, 0.028676966733820218), (1400, 0.07694837640638656), (1401, 0.0), (1402, 0.03181423814878889), (1403, 0.18986581228931065), (1404, 0.11959121830873498), (1405, 0.0), (1406, 0.05923488777590923), (1407, 0.06362847629757779), (1408, 0.07024393586862707), (1409, 0.18074256993863339), (1410, 0.06131393394849658), (1411, 0.09365858115816941), (1412, 0.07509392614826384), (1413, 0.09197090092274487), (1414, 0.0), (1415, 0.0301237616564389), (1416, 0.0), (1417, 0.09733285267845754), (1418, 0.06917144638660747), (1419, 0.08885233166386385), (1420, 0.08885233166386385), (1421, 0.09933992677987831), (1422, 0.08603090020146065), (1423, 0.0331133089266261), (1424, 0.0), (1425, 0.06131393394849658), (1426, 0.031219527052723135), (1427, 0.0662266178532522), (1428, 0.126673647984535), (1429, 0.031219527052723135), (1430, 0.057353933467640436), (1431, 0.1748149640244195), (1432, 0.1777046633277277), (1433, 0.0533380747062665), (1434, 0.1777046633277277), (1435, 0.13518451760896877), (1436, 0.0), (1437, 0.0331133089266261), (1438, 0.0602475233128778), (1439, 0.1419745572840903), (1440, 0.08603090020146065), (1441, 0.044151078568834795), (1442, 0.05484084971070818), (1443, 0.17954621161490197), (1444, 0.0), (1445, 0.06243905410544627), (1446, 0.0301237616564389), (1447, 0.03244428422615251), (1448, 0.06765100914917384), (1449, 0.03065696697424829), (1450, 0.06243905410544627), (1451, 0.10012523486435178), (1452, 0.0), (1453, 0.14567913668701626), (1454, 0.0), (1455, 0.0), (1456, 0.04947706959952935), (1457, 0.06131393394849658), (1458, 0.08226127456606226), (1459, 0.052631578947368425), (1460, 0.0), (1461, 0.14910501299480672), (1462, 0.021486752129677003), (1463, 0.05647824947249051), (1464, 0.043355498476206004), (1465, 0.0301237616564389), (1466, 0.03244428422615251), (1467, 0.101338918387628), (1468, 0.08603090020146065), (1469, 0.14567913668701626), (1470, 0.11846977555181847), (1471, 0.0), (1472, 0.02782074420373286), (1473, 0.106676149412533), (1474, 0.1560976352636157), (1475, 0.0), (1476, 0.0), (1477, 0.16222142113076252), (1478, 0.06765100914917384), (1479, 0.06917144638660747), (1480, 0.023414645289542353), (1481, 0.029617443887954616), (1482, 0.09037128496931669), (1483, 0.0), (1484, 0.10968169942141635), (1485, 0.0), (1486, 0.05564148840746572), (1487, 0.0), (1488, 0.18394180184548975), (1489, 0.0), (1490, 0.11470786693528087), (1491, 0.03065696697424829), (1492, 0.10814761408717502), (1493, 0.0), (1494, 0.028676966733820218), (1495, 0.08603090020146065), (1496, 0.0), (1497, 0.13518451760896877), (1498, 0.025334729596907), (1499, 0.06765100914917384), (1500, 0.1391037210186643), (1501, 0.06765100914917384), (1502, 0.0602475233128778), (1503, 0.13834289277321493), (1504, 0.03065696697424829), (1505, 0.06362847629757779), (1506, 0.12977713690461004), (1507, 0.1411956236812263), (1508, 0.023662426214015053), (1509, 0.0), (1510, 0.03065696697424829), (1511, 0.0), (1512, 0.2193633988428327), (1513, 0.24455799402225925), (1514, 0.0662266178532522), (1515, 0.16943474841747153), (1516, 0.03539961627023944), (1517, 0.07336739820667779), (1518, 0.05484084971070818), (1519, 0.09464970485606021), (1520, 0.0), (1521, 0.0), (1522, 0.040555355282690636), (1523, 0.05407380704358751), (1524, 0.07647191129018727), (1525, 0.0662266178532522), (1526, 0.0), (1527, 0.14673479641335554), (1528, 0.03721614637823934), (1529, 0.0662266178532522), (1530, 0.0), (1531, 0.07792865001991967), (1532, 0.0), (1533, 0.05647824947249051), (1534, 0.0), (1535, 0.09365858115816941), (1536, 0.0), (1537, 0.08603090020146065), (1538, 0.07694837640638656), (1539, 0.0), (1540, 0.0), (1541, 0.03627381250550058), (1542, 0.0602475233128778), (1543, 0.0662266178532522), (1544, 0.0), (1545, 0.0602475233128778), (1546, 0.06362847629757779), (1547, 0.06362847629757779), (1548, 0.09544271444636668), (1549, 0.031219527052723135), (1550, 0.0301237616564389), (1551, 0.052631578947368425), (1552, 0.03244428422615251), (1553, 0.02913582733740325), (1554, 0.03181423814878889), (1555, 0.0), (1556, 0.050669459193814), (1557, 0.0), (1558, 0.09176629354822471), (1559, 0.028239124736245257), (1560, 0.0582716546748065), (1561, 0.09567297464698798), (1562, 0.05923488777590923), (1563, 0.09464970485606021), (1564, 0.13904693239779645), (1565, 0.11295649894498103), (1566, 0.09544271444636668), (1567, 0.0), (1568, 0.026315789473684213), (1569, 0.03721614637823934), (1570, 0.029617443887954616), (1571, 0.08346223261119858), (1572, 0.05923488777590923), (1573, 0.05484084971070818), (1574, 0.12725695259515557), (1575, 0.08471737420873576), (1576, 0.06488856845230502), (1577, 0.18848425873126295), (1578, 0.0989541391990587), (1579, 0.1037571695799112), (1580, 0.0), (1581, 0.02666903735313325), (1582, 0.0), (1583, 0.07509392614826384), (1584, 0.024738534799764674), (1585, 0.08346223261119858), (1586, 0.02913582733740325), (1587, 0.0), (1588, 0.028676966733820218), (1589, 0.0602475233128778), (1590, 0.0), (1591, 0.02666903735313325), (1592, 0.11128297681493143), (1593, 0.0), (1594, 0.09037128496931669), (1595, 0.16222142113076254), (1596, 0.116543309349613), (1597, 0.07647191129018727), (1598, 0.02666903735313325), (1599, 0.03181423814878889), (1600, 0.11164843913471803), (1601, 0.0), (1602, 0.0), (1603, 0.02913582733740325), (1604, 0.0), (1605, 0.13710212427677043), (1606, 0.16943474841747153), (1607, 0.08111071056538127), (1608, 0.07792865001991967), (1609, 0.05923488777590923), (1610, 0.03181423814878889), (1611, 0.18353258709644943), (1612, 0.08740748201220976), (1613, 0.0), (1614, 0.0), (1615, 0.06488856845230502), (1616, 0.028676966733820218), (1617, 0.028239124736245257), (1618, 0.0602475233128778), (1619, 0.0301237616564389), (1620, 0.0), (1621, 0.06765100914917384), (1622, 0.05407380704358751), (1623, 0.06765100914917384), (1624, 0.06362847629757779), (1625, 0.0582716546748065), (1626, 0.08111071056538127), (1627, 0.03539961627023944), (1628, 0.10147651372376076), (1629, 0.09733285267845754), (1630, 0.15585730003983933), (1631, 0.0602475233128778), (1632, 0.08226127456606226), (1633, 0.09544271444636668), (1634, 0.0), (1635, 0.12487810821089254), (1636, 0.031219527052723135), (1637, 0.0891313035643173), (1638, 0.0), (1639, 0.028676966733820218), (1640, 0.0), (1641, 0.03181423814878889), (1642, 0.0), (1643, 0.08603090020146065), (1644, 0.08885233166386385), (1645, 0.02913582733740325), (1646, 0.0), (1647, 0.031219527052723135), (1648, 0.029617443887954616), (1649, 0.0), (1650, 0.05407380704358751), (1651, 0.05407380704358751), (1652, 0.15061880828219448), (1653, 0.10814761408717502), (1654, 0.0), (1655, 0.14567913668701626), (1656, 0.05564148840746572), (1657, 0.02742042485535409), (1658, 0.03627381250550058), (1659, 0.06882472016116853), (1660, 0.09037128496931669), (1661, 0.08346223261119858), (1662, 0.0), (1663, 0.07336739820667779), (1664, 0.08603090020146065), (1665, 0.07443229275647868), (1666, 0.026315789473684213), (1667, 0.03721614637823934), (1668, 0.12369267399882337), (1669, 0.12725695259515557), (1670, 0.17836650794011905), (1671, 0.08603090020146065), (1672, 0.08111071056538127), (1673, 0.0), (1674, 0.12487810821089254), (1675, 0.12977713690461004), (1676, 0.06362847629757779), (1677, 0.0), (1678, 0.03458572319330373), (1679, 0.040555355282690636), (1680, 0.08740748201220976), (1681, 0.03627381250550058), (1682, 0.09933992677987831), (1683, 0.0), (1684, 0.0), (1685, 0.12227899701112964), (1686, 0.05195243334661311), (1687, 0.116543309349613), (1688, 0.03065696697424829), (1689, 0.13710212427677043), (1690, 0.0), (1691, 0.0), (1692, 0.10619884881071831), (1693, 0.0662266178532522), (1694, 0.031219527052723135), (1695, 0.0331133089266261), (1696, 0.05484084971070818), (1697, 0.02782074420373286), (1698, 0.0), (1699, 0.18074256993863339), (1700, 0.0), (1701, 0.11164843913471803), (1702, 0.031219527052723135), (1703, 0.0), (1704, 0.0), (1705, 0.0301237616564389), (1706, 0.057353933467640436), (1707, 0.11846977555181847), (1708, 0.025649458802128853), (1709, 0.0), (1710, 0.0), (1711, 0.06362847629757779), (1712, 0.06243905410544627), (1713, 0.028676966733820218), (1714, 0.02913582733740325), (1715, 0.04543108504242546), (1716, 0.0), (1717, 0.05484084971070818), (1718, 0.0301237616564389), (1719, 0.02782074420373286), (1720, 0.1433848336691011), (1721, 0.07894736842105264), (1722, 0.08471737420873576), (1723, 0.0), (1724, 0.0), (1725, 0.0), (1726, 0.07098727864204515), (1727, 0.07254762501100116), (1728, 0.08226127456606226), (1729, 0.0), (1730, 0.0), (1731, 0.10814761408717502), (1732, 0.0662266178532522), (1733, 0.03244428422615251), (1734, 0.08740748201220976), (1735, 0.08111071056538127), (1736, 0.0582716546748065), (1737, 0.03244428422615251), (1738, 0.0), (1739, 0.06362847629757779), (1740, 0.16692446522239718), (1741, 0.040555355282690636), (1742, 0.06488856845230502), (1743, 0.0301237616564389), (1744, 0.06131393394849658), (1745, 0.0533380747062665), (1746, 0.10968169942141635), (1747, 0.151744244666721), (1748, 0.034010851192571794), (1749, 0.028676966733820218), (1750, 0.08603090020146065), (1751, 0.0602475233128778), (1752, 0.025649458802128853), (1753, 0.05195243334661311), (1754, 0.0), (1755, 0.0), (1756, 0.0), (1757, 0.08603090020146065), (1758, 0.08226127456606226), (1759, 0.06362847629757779), (1760, 0.0), (1761, 0.05195243334661311), (1762, 0.06362847629757779), (1763, 0.06131393394849658), (1764, 0.09037128496931669), (1765, 0.13518451760896877), (1766, 0.0), (1767, 0.03721614637823934), (1768, 0.07175473098524099), (1769, 0.03539961627023944), (1770, 0.03244428422615251), (1771, 0.1204950466257556), (1772, 0.0), (1773, 0.024455799402225926), (1774, 0.0), (1775, 0.12988108336653278), (1776, 0.0), (1777, 0.03382550457458692), (1778, 0.023662426214015053), (1779, 0.15609763526361567), (1780, 0.08346223261119858), (1781, 0.07894736842105264), (1782, 0.10968169942141635), (1783, 0.06131393394849658), (1784, 0.0), (1785, 0.11128297681493143), (1786, 0.029617443887954616), (1787, 0.14350946197048198), (1788, 0.03539961627023944), (1789, 0.06488856845230502), (1790, 0.08346223261119858), (1791, 0.11470786693528087), (1792, 0.14808721943977307), (1793, 0.07254762501100118), (1794, 0.1433848336691011), (1795, 0.0978231976089037), (1796, 0.06684847767323797), (1797, 0.0), (1798, 0.06131393394849658), (1799, 0.08226127456606226), (1800, 0.126673647984535), (1801, 0.0), (1802, 0.126673647984535), (1803, 0.15907119074394446), (1804, 0.14567913668701626), (1805, 0.031219527052723135), (1806, 0.0533380747062665), (1807, 0.08346223261119858), (1808, 0.0), (1809, 0.0), (1810, 0.0), (1811, 0.023174488732966077), (1812, 0.03181423814878889), (1813, 0.11470786693528087), (1814, 0.03065696697424829), (1815, 0.0301237616564389), (1816, 0.10147651372376076), (1817, 0.043747863925980714), (1818, 0.08000711205939975), (1819, 0.03181423814878889), (1820, 0.08885233166386385), (1821, 0.026315789473684213), (1822, 0.15907119074394446), (1823, 0.0), (1824, 0.19466570535691508), (1825, 0.028239124736245257), (1826, 0.09365858115816941), (1827, 0.20073876713674155), (1828, 0.0533380747062665), (1829, 0.029617443887954616), (1830, 0.0989541391990587), (1831, 0.0), (1832, 0.0602475233128778), (1833, 0.0), (1834, 0.1324532357065044), (1835, 0.0), (1836, 0.029617443887954616), (1837, 0.15389675281277312), (1838, 0.08111071056538127), (1839, 0.08346223261119858), (1840, 0.0), (1841, 0.0), (1842, 0.0602475233128778), (1843, 0.0602475233128778), (1844, 0.03065696697424829), (1845, 0.02782074420373286), (1846, 0.16222142113076254), (1847, 0.14808721943977307), (1848, 0.1433848336691011), (1849, 0.057353933467640436), (1850, 0.12487810821089254), (1851, 0.18925832465255626), (1852, 0.07543142864047142), (1853, 0.08885233166386385), (1854, 0.028239124736245257), (1855, 0.0), (1856, 0.05484084971070818), (1857, 0.09365858115816941), (1858, 0.12262786789699316), (1859, 0.06131393394849658), (1860, 0.06917144638660747), (1861, 0.08111071056538127), (1862, 0.0), (1863, 0.11846977555181847), (1864, 0.0), (1865, 0.028676966733820218), (1866, 0.0), (1867, 0.0), (1868, 0.06488856845230502), (1869, 0.12262786789699316), (1870, 0.10259783520851541), (1871, 0.0), (1872, 0.03382550457458692), (1873, 0.17292861596651865), (1874, 0.052631578947368425), (1875, 0.0), (1876, 0.0), (1877, 0.07792865001991967), (1878, 0.08000711205939975), (1879, 0.03627381250550058), (1880, 0.03181423814878889), (1881, 0.106676149412533), (1882, 0.02782074420373286), (1883, 0.057353933467640436), (1884, 0.18394180184548975), (1885, 0.0), (1886, 0.06765100914917384), (1887, 0.0), (1888, 0.0), (1889, 0.15018785229652765), (1890, 0.21177354788054276), (1891, 0.0), (1892, 0.05484084971070818), (1893, 0.06362847629757779), (1894, 0.12487810821089254), (1895, 0.0), (1896, 0.09037128496931669), (1897, 0.14159846508095775), (1898, 0.0), (1899, 0.07647191129018727), (1900, 0.08346223261119858), (1901, 0.0), (1902, 0.1748149640244195), (1903, 0.0), (1904, 0.06131393394849658), (1905, 0.0582716546748065), (1906, 0.0), (1907, 0.10814761408717502), (1908, 0.028676966733820218), (1909, 0.031219527052723135), (1910, 0.12977713690461004), (1911, 0.0), (1912, 0.07079923254047887), (1913, 0.12725695259515557), (1914, 0.16452254913212452), (1915, 0.08111071056538127), (1916, 0.046348977465932154), (1917, 0.0), (1918, 0.09197090092274487), (1919, 0.0), (1920, 0.0331133089266261), (1921, 0.023174488732966077), (1922, 0.0), (1923, 0.0533380747062665), (1924, 0.03244428422615251), (1925, 0.052631578947368425), (1926, 0.0662266178532522), (1927, 0.08603090020146065), (1928, 0.0), (1929, 0.16692446522239715), (1930, 0.0582716546748065), (1931, 0.09544271444636668), (1932, 0.06131393394849658), (1933, 0.03721614637823934), (1934, 0.0), (1935, 0.07079923254047887), (1936, 0.08740748201220976), (1937, 0.08111071056538127), (1938, 0.0), (1939, 0.116543309349613), (1940, 0.0), (1941, 0.0), (1942, 0.03181423814878889), (1943, 0.13710212427677043), (1944, 0.11128297681493143), (1945, 0.05564148840746572), (1946, 0.11295649894498103), (1947, 0.03458572319330373), (1948, 0.05407380704358751), (1949, 0.0), (1950, 0.0), (1951, 0.0), (1952, 0.09037128496931669), (1953, 0.03244428422615251), (1954, 0.07443229275647868), (1955, 0.0582716546748065), (1956, 0.03244428422615251), (1957, 0.08603090020146065), (1958, 0.06362847629757779), (1959, 0.19509974314292702), (1960, 0.02666903735313325), (1961, 0.0), (1962, 0.04188539082916955), (1963, 0.130066495428618), (1964, 0.20519567041703082), (1965, 0.0), (1966, 0.10968169942141635), (1967, 0.13904693239779647), (1968, 0.0), (1969, 0.08885233166386385), (1970, 0.051298917604257706), (1971, 0.02742042485535409), (1972, 0.0), (1973, 0.08226127456606226), (1974, 0.08471737420873576), (1975, 0.02742042485535409), (1976, 0.14808721943977307), (1977, 0.2213320000610218), (1978, 0.09544271444636668), (1979, 0.0), (1980, 0.027036903521793755), (1981, 0.11470786693528087), (1982, 0.1391037210186643), (1983, 0.03458572319330373), (1984, 0.03382550457458692), (1985, 0.0), (1986, 0.06488856845230502), (1987, 0.09733285267845754), (1988, 0.0), (1989, 0.08000711205939975), (1990, 0.09037128496931669), (1991, 0.12725695259515557), (1992, 0.13334518676566626), (1993, 0.024455799402225926), (1994, 0.0), (1995, 0.16563698349810535), (1996, 0.13764944032233706), (1997, 0.0), (1998, 0.0), (1999, 0.1391037210186643), (2000, 0.0), (2001, 0.12565617248750865), (2002, 0.09544271444636668), (2003, 0.0602475233128778), (2004, 0.11707322644771176), (2005, 0.0), (2006, 0.0), (2007, 0.16927779169233606), (2008, 0.08226127456606226), (2009, 0.0), (2010, 0.0), (2011, 0.0), (2012, 0.0), (2013, 0.02666903735313325), (2014, 0.106676149412533), (2015, 0.116543309349613), (2016, 0.04543108504242546), (2017, 0.028676966733820218), (2018, 0.09197090092274487), (2019, 0.0533380747062665), (2020, 0.057353933467640436), (2021, 0.08740748201220976), (2022, 0.11959121830873498), (2023, 0.025976216673306556), (2024, 0.05923488777590923), (2025, 0.116543309349613), (2026, 0.10138838820672659), (2027, 0.031219527052723135), (2028, 0.0), (2029, 0.16556654463313053), (2030, 0.0), (2031, 0.0331133089266261), (2032, 0.0), (2033, 0.10526315789473685), (2034, 0.09733285267845754), (2035, 0.12725695259515557), (2036, 0.126673647984535), (2037, 0.0662266178532522), (2038, 0.02913582733740325), (2039, 0.0), (2040, 0.05564148840746572), (2041, 0.0), (2042, 0.11831213107007527), (2043, 0.05407380704358751), (2044, 0.0), (2045, 0.0), (2046, 0.11295649894498103), (2047, 0.30123761656438897), (2048, 0.11128297681493143), (2049, 0.101338918387628), (2050, 0.0662266178532522), (2051, 0.0), (2052, 0.10390486669322622), (2053, 0.0), (2054, 0.13710212427677043), (2055, 0.11164843913471803), (2056, 0.0331133089266261), (2057, 0.08111071056538127), (2058, 0.0), (2059, 0.0), (2060, 0.05564148840746572), (2061, 0.15328483487124145), (2062, 0.106676149412533), (2063, 0.03181423814878889), (2064, 0.0), (2065, 0.0), (2066, 0.13157894736842107), (2067, 0.0), (2068, 0.11037769642208699), (2069, 0.14567913668701626), (2070, 0.20295302744752153), (2071, 0.06243905410544627), (2072, 0.028239124736245257), (2073, 0.0), (2074, 0.0602475233128778), (2075, 0.0301237616564389), (2076, 0.0), (2077, 0.0), (2078, 0.116543309349613), (2079, 0.0), (2080, 0.02782074420373286), (2081, 0.06917144638660747), (2082, 0.03181423814878889), (2083, 0.028239124736245257), (2084, 0.025976216673306556), (2085, 0.17734310717834897), (2086, 0.10259783520851541), (2087, 0.0), (2088, 0.03244428422615251), (2089, 0.0662266178532522), (2090, 0.057353933467640436), (2091, 0.11959121830873498), (2092, 0.07336739820667777), (2093, 0.03181423814878889), (2094, 0.11128297681493143), (2095, 0.0), (2096, 0.0978231976089037), (2097, 0.0), (2098, 0.12487810821089254), (2099, 0.10814761408717502), (2100, 0.11470786693528087), (2101, 0.0), (2102, 0.09037128496931669), (2103, 0.027036903521793755), (2104, 0.11831213107007527), (2105, 0.12487810821089254), (2106, 0.0), (2107, 0.0), (2108, 0.15061880828219448), (2109, 0.0), (2110, 0.031219527052723135), (2111, 0.07792865001991967), (2112, 0.0), (2113, 0.03244428422615251), (2114, 0.13834289277321493), (2115, 0.05923488777590923), (2116, 0.06362847629757779), (2117, 0.029617443887954616), (2118, 0.0), (2119, 0.0), (2120, 0.03065696697424829), (2121, 0.0), (2122, 0.03382550457458692), (2123, 0.20395079136182276), (2124, 0.02782074420373286), (2125, 0.0), (2126, 0.106676149412533), (2127, 0.025976216673306556), (2128, 0.0), (2129, 0.02913582733740325), (2130, 0.03458572319330373), (2131, 0.05407380704358751), (2132, 0.0), (2133, 0.028239124736245257), (2134, 0.0), (2135, 0.0), (2136, 0.11295649894498103), (2137, 0.0), (2138, 0.06390214842634574), (2139, 0.0), (2140, 0.09197090092274487), (2141, 0.0331133089266261), (2142, 0.14567913668701626), (2143, 0.0), (2144, 0.0), (2145, 0.09037128496931669), (2146, 0.0), (2147, 0.0301237616564389), (2148, 0.046829290579084706), (2149, 0.027036903521793755), (2150, 0.0301237616564389), (2151, 0.03458572319330373), (2152, 0.025649458802128853), (2153, 0.028676966733820218), (2154, 0.06243905410544627), (2155, 0.09037128496931669), (2156, 0.05647824947249051), (2157, 0.19767387315371682), (2158, 0.028239124736245257), (2159, 0.11470786693528087), (2160, 0.12824729401064427), (2161, 0.05006261743217589), (2162, 0.0), (2163, 0.11295649894498103), (2164, 0.05564148840746572), (2165, 0.0662266178532522), (2166, 0.0301237616564389), (2167, 0.06243905410544627), (2168, 0.06243905410544627), (2169, 0.101338918387628), (2170, 0.15018785229652765), (2171, 0.031219527052723135), (2172, 0.0), (2173, 0.028239124736245257), (2174, 0.0), (2175, 0.05195243334661311), (2176, 0.06243905410544627), (2177, 0.09544271444636668), (2178, 0.15389675281277312), (2179, 0.09037128496931669), (2180, 0.05484084971070818), (2181, 0.04783648732349399), (2182, 0.1037571695799112), (2183, 0.0), (2184, 0.07894736842105264), (2185, 0.05564148840746572), (2186, 0.02913582733740325), (2187, 0.08111071056538127), (2188, 0.03458572319330373), (2189, 0.028676966733820218), (2190, 0.0), (2191, 0.13497638119975428), (2192, 0.07254762501100116), (2193, 0.18394180184548975), (2194, 0.029617443887954616), (2195, 0.116543309349613), (2196, 0.04947706959952935), (2197, 0.08603090020146065), (2198, 0.031219527052723135), (2199, 0.027036903521793755), (2200, 0.05923488777590923), (2201, 0.03458572319330373), (2202, 0.1324532357065044), (2203, 0.09544271444636668), (2204, 0.08226127456606226), (2205, 0.22269966704152225), (2206, 0.028676966733820218), (2207, 0.0301237616564389), (2208, 0.0), (2209, 0.04947706959952935), (2210, 0.0582716546748065), (2211, 0.0), (2212, 0.15061880828219448), (2213, 0.0), (2214, 0.09544271444636668), (2215, 0.03181423814878889), (2216, 0.05484084971070818), (2217, 0.0), (2218, 0.06131393394849658), (2219, 0.0), (2220, 0.06362847629757779), (2221, 0.20780973338645245), (2222, 0.15737789507292674), (2223, 0.1433848336691011), (2224, 0.0), (2225, 0.13518451760896877), (2226, 0.0), (2227, 0.06917144638660747), (2228, 0.06243905410544627), (2229, 0.0533380747062665), (2230, 0.11846977555181847), (2231, 0.06917144638660747), (2232, 0.0), (2233, 0.12725695259515557), (2234, 0.15061880828219448), (2235, 0.0), (2236, 0.0), (2237, 0.11128297681493143), (2238, 0.05923488777590923), (2239, 0.029617443887954616), (2240, 0.1892583246525563), (2241, 0.0), (2242, 0.08885233166386385), (2243, 0.0), (2244, 0.0662266178532522), (2245, 0.06243905410544627), (2246, 0.0), (2247, 0.1752191610126156), (2248, 0.0), (2249, 0.116543309349613), (2250, 0.06243905410544627), (2251, 0.06917144638660747), (2252, 0.0), (2253, 0.057353933467640436), (2254, 0.0), (2255, 0.18668326147193276), (2256, 0.0), (2257, 0.0), (2258, 0.09365858115816941), (2259, 0.0), (2260, 0.15018785229652767), (2261, 0.06917144638660747), (2262, 0.02782074420373286), (2263, 0.0533380747062665), (2264, 0.0301237616564389), (2265, 0.06488856845230502), (2266, 0.03721614637823934), (2267, 0.0), (2268, 0.07443229275647868), (2269, 0.03244428422615251), (2270, 0.0), (2271, 0.0), (2272, 0.0), (2273, 0.0), (2274, 0.0), (2275, 0.15061880828219448), (2276, 0.11295649894498103), (2277, 0.07254762501100116), (2278, 0.0), (2279, 0.0), (2280, 0.09037128496931669), (2281, 0.05923488777590923), (2282, 0.028239124736245257), (2283, 0.047324852428030105), (2284, 0.06488856845230502), (2285, 0.12988108336653278), (2286, 0.0), (2287, 0.0), (2288, 0.0602475233128778), (2289, 0.09037128496931669), (2290, 0.0662266178532522), (2291, 0.1748149640244195), (2292, 0.0), (2293, 0.03181423814878889), (2294, 0.08885233166386385), (2295, 0.06765100914917384), (2296, 0.13710212427677043), (2297, 0.0), (2298, 0.0), (2299, 0.0), (2300, 0.07792865001991967), (2301, 0.09365858115816941), (2302, 0.09733285267845754), (2303, 0.15585730003983933), (2304, 0.07694837640638656), (2305, 0.08471737420873576), (2306, 0.05407380704358751), (2307, 0.15452877499092177), (2308, 0.1204950466257556), (2309, 0.040555355282690636), (2310, 0.1411956236812263), (2311, 0.11295649894498103), (2312, 0.0), (2313, 0.15907119074394446), (2314, 0.052631578947368425), (2315, 0.0), (2316, 0.0), (2317, 0.06362847629757779), (2318, 0.03065696697424829), (2319, 0.0), (2320, 0.21459876881973805), (2321, 0.10619884881071831), (2322, 0.13834289277321493), (2323, 0.057353933467640436), (2324, 0.08346223261119858), (2325, 0.0), (2326, 0.0662266178532522), (2327, 0.02782074420373286), (2328, 0.031219527052723135), (2329, 0.031219527052723135), (2330, 0.03065696697424829), (2331, 0.10968169942141635), (2332, 0.0), (2333, 0.08111071056538127), (2334, 0.1433848336691011), (2335, 0.0533380747062665), (2336, 0.13629325512727639), (2337, 0.0), (2338, 0.20025046972870353), (2339, 0.08226127456606226), (2340, 0.15018785229652767), (2341, 0.0331133089266261), (2342, 0.15328483487124145), (2343, 0.1391037210186643), (2344, 0.0), (2345, 0.03244428422615251), (2346, 0.09464970485606021), (2347, 0.0), (2348, 0.05484084971070818), (2349, 0.12988108336653278), (2350, 0.03244428422615251), (2351, 0.025031308716087945), (2352, 0.03382550457458692), (2353, 0.0), (2354, 0.05647824947249051), (2355, 0.0301237616564389), (2356, 0.06362847629757779), (2357, 0.23288666826750606), (2358, 0.025976216673306556), (2359, 0.0), (2360, 0.10619884881071831), (2361, 0.057353933467640436), (2362, 0.10147651372376076), (2363, 0.116543309349613), (2364, 0.12725695259515557), (2365, 0.09037128496931669), (2366, 0.11707322644771177), (2367, 0.07254762501100116), (2368, 0.10968169942141635), (2369, 0.0), (2370, 0.0), (2371, 0.08226127456606226), (2372, 0.09544271444636668), (2373, 0.0), (2374, 0.0), (2375, 0.06243905410544627), (2376, 0.08111071056538127), (2377, 0.05923488777590923), (2378, 0.1037571695799112), (2379, 0.0), (2380, 0.057353933467640436), (2381, 0.21764287503300353), (2382, 0.0), (2383, 0.07894736842105264), (2384, 0.13710212427677043), (2385, 0.0), (2386, 0.029617443887954616), (2387, 0.13518451760896877), (2388, 0.05923488777590923), (2389, 0.05923488777590923), (2390, 0.06131393394849658), (2391, 0.03244428422615251), (2392, 0.06243905410544627), (2393, 0.03539961627023944), (2394, 0.10882143751650175), (2395, 0.050669459193814), (2396, 0.0), (2397, 0.05647824947249051), (2398, 0.09365858115816941), (2399, 0.13904693239779645), (2400, 0.09365858115816941), (2401, 0.0), (2402, 0.0), (2403, 0.08885233166386385), (2404, 0.05923488777590923), (2405, 0.08000711205939975), (2406, 0.0), (2407, 0.06562179588897107), (2408, 0.06131393394849658), (2409, 0.06243905410544627), (2410, 0.0), (2411, 0.0), (2412, 0.06362847629757779), (2413, 0.09365858115816941), (2414, 0.07079923254047887), (2415, 0.09733285267845754), (2416, 0.028676966733820218), (2417, 0.1433848336691011), (2418, 0.0), (2419, 0.0), (2420, 0.0662266178532522), (2421, 0.0), (2422, 0.0), (2423, 0.0331133089266261), (2424, 0.028676966733820218), (2425, 0.116543309349613), (2426, 0.07443229275647868), (2427, 0.19088542889273336), (2428, 0.02782074420373286), (2429, 0.08346223261119858), (2430, 0.12725695259515557), (2431, 0.116543309349613), (2432, 0.0), (2433, 0.19022147756317054), (2434, 0.0), (2435, 0.14808721943977307), (2436, 0.0), (2437, 0.07079923254047887), (2438, 0.031219527052723135), (2439, 0.12091270835166862), (2440, 0.028239124736245257), (2441, 0.06362847629757779), (2442, 0.05647824947249051), (2443, 0.0), (2444, 0.12725695259515557), (2445, 0.06362847629757779), (2446, 0.0623109738595896), (2447, 0.0), (2448, 0.09544271444636668), (2449, 0.028239124736245257), (2450, 0.02913582733740325), (2451, 0.0), (2452, 0.0331133089266261), (2453, 0.0), (2454, 0.14808721943977307), (2455, 0.07792865001991967), (2456, 0.11650496642725608), (2457, 0.06131393394849658), (2458, 0.0), (2459, 0.0), (2460, 0.0), (2461, 0.09086217008485092), (2462, 0.028676966733820218), (2463, 0.057353933467640436), (2464, 0.0), (2465, 0.02913582733740325), (2466, 0.16556654463313053), (2467, 0.0331133089266261), (2468, 0.0301237616564389), (2469, 0.0), (2470, 0.14673479641335557), (2471, 0.06362847629757779), (2472, 0.0), (2473, 0.09197090092274487), (2474, 0.2368421052631579), (2475, 0.0), (2476, 0.0), (2477, 0.0), (2478, 0.08471737420873576), (2479, 0.0), (2480, 0.08740748201220976), (2481, 0.0), (2482, 0.06765100914917384), (2483, 0.050669459193814), (2484, 0.026315789473684213), (2485, 0.03458572319330373), (2486, 0.02742042485535409), (2487, 0.03181423814878889), (2488, 0.08346223261119858), (2489, 0.06131393394849658), (2490, 0.06131393394849658), (2491, 0.03181423814878889), (2492, 0.09365858115816941), (2493, 0.0), (2494, 0.0), (2495, 0.03065696697424829), (2496, 0.14567913668701626), (2497, 0.0), (2498, 0.0), (2499, 0.03382550457458692), (2500, 0.0), (2501, 0.0), (2502, 0.03823595564509363), (2503, 0.0), (2504, 0.0331133089266261), (2505, 0.0), (2506, 0.06488856845230502), (2507, 0.10147651372376076), (2508, 0.057353933467640436), (2509, 0.0), (2510, 0.12977713690461004), (2511, 0.05564148840746572), (2512, 0.0), (2513, 0.08998425413316952), (2514, 0.17521916101261562), (2515, 0.026315789473684213), (2516, 0.0), (2517, 0.0), (2518, 0.0), (2519, 0.0), (2520, 0.025334729596907), (2521, 0.0301237616564389), (2522, 0.15200837758144198), (2523, 0.0), (2524, 0.09490244150051268), (2525, 0.05484084971070818), (2526, 0.0), (2527, 0.046348977465932154), (2528, 0.0), (2529, 0.06243905410544627), (2530, 0.2409900932515112), (2531, 0.06488856845230502), (2532, 0.16563698349810535), (2533, 0.0), (2534, 0.09037128496931669), (2535, 0.0602475233128778), (2536, 0.10526315789473685), (2537, 0.0), (2538, 0.09037128496931669), (2539, 0.08346223261119858), (2540, 0.116543309349613), (2541, 0.0), (2542, 0.024182541670333724), (2543, 0.18394180184548975), (2544, 0.05006261743217589), (2545, 0.10390486669322622), (2546, 0.05564148840746572), (2547, 0.0), (2548, 0.03823595564509363), (2549, 0.04947706959952935), (2550, 0.0331133089266261), (2551, 0.0), (2552, 0.0), (2553, 0.12369267399882336), (2554, 0.03181423814878889), (2555, 0.06131393394849658), (2556, 0.14509525002200235), (2557, 0.08000711205939975), (2558, 0.0582716546748065), (2559, 0.0), (2560, 0.17316974359835272), (2561, 0.050669459193814), (2562, 0.10526315789473685), (2563, 0.05195243334661311), (2564, 0.05647824947249051), (2565, 0.02782074420373286), (2566, 0.0), (2567, 0.03181423814878889), (2568, 0.08885233166386385), (2569, 0.03065696697424829), (2570, 0.0), (2571, 0.09544271444636668), (2572, 0.18929940971212042), (2573, 0.1752191610126156), (2574, 0.130066495428618), (2575, 0.06765100914917384), (2576, 0.0), (2577, 0.09037128496931669), (2578, 0.07792865001991967), (2579, 0.09544271444636668), (2580, 0.07894736842105264), (2581, 0.08000711205939975), (2582, 0.08111071056538127), (2583, 0.12977713690461004), (2584, 0.1433848336691011), (2585, 0.08885233166386385), (2586, 0.15328483487124145), (2587, 0.08885233166386385), (2588, 0.0), (2589, 0.0), (2590, 0.0), (2591, 0.0837707816583391), (2592, 0.151744244666721), (2593, 0.03181423814878889), (2594, 0.0), (2595, 0.0), (2596, 0.08226127456606226), (2597, 0.14048787173725413), (2598, 0.0662266178532522), (2599, 0.0), (2600, 0.0), (2601, 0.0), (2602, 0.0602475233128778), (2603, 0.028676966733820218), (2604, 0.07647191129018727), (2605, 0.0), (2606, 0.02782074420373286), (2607, 0.0301237616564389), (2608, 0.0), (2609, 0.16692446522239715), (2610, 0.06243905410544627), (2611, 0.06131393394849658), (2612, 0.0582716546748065), (2613, 0.026315789473684213), (2614, 0.09933992677987831), (2615, 0.08471737420873576), (2616, 0.029617443887954616), (2617, 0.0), (2618, 0.0), (2619, 0.03382550457458692), (2620, 0.0), (2621, 0.06131393394849658), (2622, 0.06917144638660747), (2623, 0.025334729596907), (2624, 0.02742042485535409), (2625, 0.11470786693528087), (2626, 0.05564148840746572), (2627, 0.024455799402225926), (2628, 0.08000711205939975), (2629, 0.0), (2630, 0.02913582733740325), (2631, 0.130066495428618), (2632, 0.06362847629757779), (2633, 0.1600142241187995), (2634, 0.0), (2635, 0.23693955110363693), (2636, 0.0), (2637, 0.0), (2638, 0.13764944032233706), (2639, 0.08346223261119858), (2640, 0.0602475233128778), (2641, 0.03244428422615251), (2642, 0.02742042485535409), (2643, 0.0), (2644, 0.03539961627023944), (2645, 0.11846977555181847), (2646, 0.10619884881071831), (2647, 0.1433848336691011), (2648, 0.0), (2649, 0.03823595564509363), (2650, 0.03539961627023944), (2651, 0.029617443887954616), (2652, 0.039344473768231684), (2653, 0.0), (2654, 0.02666903735313325), (2655, 0.1813690625275029), (2656, 0.0), (2657, 0.08226127456606226), (2658, 0.0), (2659, 0.10390486669322622), (2660, 0.05484084971070818), (2661, 0.025031308716087945), (2662, 0.0), (2663, 0.0), (2664, 0.0), (2665, 0.0), (2666, 0.0), (2667, 0.12227899701112964), (2668, 0.0), (2669, 0.05484084971070818), (2670, 0.03721614637823934), (2671, 0.0), (2672, 0.0), (2673, 0.0), (2674, 0.025649458802128853), (2675, 0.12824729401064427), (2676, 0.10814761408717502), (2677, 0.04543108504242546), (2678, 0.028676966733820218), (2679, 0.0), (2680, 0.0), (2681, 0.0602475233128778), (2682, 0.0), (2683, 0.03065696697424829), (2684, 0.0), (2685, 0.17206180040292132), (2686, 0.0), (2687, 0.08671099695241201), (2688, 0.029617443887954616), (2689, 0.0301237616564389), (2690, 0.0), (2691, 0.0), (2692, 0.20073876713674152), (2693, 0.03382550457458692), (2694, 0.0), (2695, 0.06362847629757779), (2696, 0.0), (2697, 0.0), (2698, 0.0), (2699, 0.0), (2700, 0.057353933467640436), (2701, 0.0), (2702, 0.05407380704358751), (2703, 0.10390486669322622), (2704, 0.11295649894498103), (2705, 0.0), (2706, 0.0), (2707, 0.0), (2708, 0.12166606584807191), (2709, 0.0), (2710, 0.0), (2711, 0.0), (2712, 0.03382550457458692), (2713, 0.09933992677987831), (2714, 0.0), (2715, 0.12262786789699316), (2716, 0.028676966733820218), (2717, 0.0), (2718, 0.0), (2719, 0.0582716546748065), (2720, 0.057353933467640436), (2721, 0.0582716546748065), (2722, 0.03244428422615251), (2723, 0.0), (2724, 0.0), (2725, 0.0), (2726, 0.10968169942141635), (2727, 0.0989541391990587), (2728, 0.040555355282690636), (2729, 0.029617443887954616), (2730, 0.1711905958155815), (2731, 0.08226127456606226), (2732, 0.08346223261119858), (2733, 0.0), (2734, 0.06488856845230502), (2735, 0.0), (2736, 0.1600142241187995), (2737, 0.0), (2738, 0.0533380747062665), (2739, 0.0582716546748065), (2740, 0.09544271444636668), (2741, 0.09733285267845754), (2742, 0.152008377581442), (2743, 0.0), (2744, 0.0), (2745, 0.025976216673306556), (2746, 0.026315789473684213), (2747, 0.050669459193814), (2748, 0.0), (2749, 0.06243905410544627), (2750, 0.025334729596907), (2751, 0.0), (2752, 0.0582716546748065), (2753, 0.1391037210186643), (2754, 0.0), (2755, 0.03181423814878889), (2756, 0.0989541391990587), (2757, 0.15747244473304667), (2758, 0.0602475233128778), (2759, 0.08000711205939975), (2760, 0.0), (2761, 0.03721614637823934), (2762, 0.027036903521793755), (2763, 0.1777046633277277), (2764, 0.0), (2765, 0.05407380704358751), (2766, 0.028676966733820218), (2767, 0.0331133089266261), (2768, 0.0), (2769, 0.057353933467640436), (2770, 0.0), (2771, 0.10147651372376076), (2772, 0.0), (2773, 0.15597978123755527), (2774, 0.027036903521793755), (2775, 0.06765100914917384), (2776, 0.0), (2777, 0.13518451760896877), (2778, 0.09197090092274487), (2779, 0.07647191129018727), (2780, 0.13334518676566626), (2781, 0.031219527052723135), (2782, 0.0), (2783, 0.08471737420873576), (2784, 0.06684847767323797), (2785, 0.03244428422615251), (2786, 0.06131393394849658), (2787, 0.0), (2788, 0.03065696697424829), (2789, 0.19088542889273336), (2790, 0.10390486669322622), (2791, 0.06131393394849658), (2792, 0.09197090092274487), (2793, 0.16556654463313053), (2794, 0.024455799402225926), (2795, 0.057353933467640436), (2796, 0.1433848336691011), (2797, 0.11128297681493143), (2798, 0.027036903521793755), (2799, 0.06131393394849658), (2800, 0.057353933467640436), (2801, 0.029617443887954616), (2802, 0.04947706959952935), (2803, 0.025334729596907), (2804, 0.0331133089266261), (2805, 0.05923488777590923), (2806, 0.02742042485535409), (2807, 0.0582716546748065), (2808, 0.060833032924035954), (2809, 0.09365858115816941), (2810, 0.0), (2811, 0.0), (2812, 0.14567913668701626), (2813, 0.16222142113076254), (2814, 0.09933992677987831), (2815, 0.17119059581558146), (2816, 0.10390486669322622), (2817, 0.0), (2818, 0.08226127456606226), (2819, 0.08885233166386385), (2820, 0.05923488777590923), (2821, 0.0), (2822, 0.17954621161490197), (2823, 0.09544271444636668), (2824, 0.15328483487124145), (2825, 0.0), (2826, 0.233785950059759), (2827, 0.031219527052723135), (2828, 0.03181423814878889), (2829, 0.12262786789699316), (2830, 0.1892583246525563), (2831, 0.06243905410544627), (2832, 0.024738534799764674), (2833, 0.14509525002200233), (2834, 0.0), (2835, 0.09733285267845754), (2836, 0.03065696697424829), (2837, 0.03244428422615251), (2838, 0.0), (2839, 0.08740748201220976), (2840, 0.0), (2841, 0.0), (2842, 0.02782074420373286), (2843, 0.0), (2844, 0.0), (2845, 0.0), (2846, 0.02913582733740325), (2847, 0.0), (2848, 0.06917144638660747), (2849, 0.13157894736842107), (2850, 0.0), (2851, 0.06765100914917384), (2852, 0.0), (2853, 0.0533380747062665), (2854, 0.0), (2855, 0.0), (2856, 0.0331133089266261), (2857, 0.0), (2858, 0.24975621642178508), (2859, 0.12725695259515557), (2860, 0.1391037210186643), (2861, 0.06917144638660747), (2862, 0.08471737420873576), (2863, 0.0331133089266261), (2864, 0.10147651372376076), (2865, 0.05407380704358751), (2866, 0.0), (2867, 0.043355498476206004), (2868, 0.076004188790721), (2869, 0.07868894753646337), (2870, 0.0), (2871, 0.052631578947368425), (2872, 0.07079923254047887), (2873, 0.0), (2874, 0.031219527052723135), (2875, 0.03721614637823934), (2876, 0.06243905410544627), (2877, 0.0), (2878, 0.12977713690461004), (2879, 0.06131393394849658), (2880, 0.0), (2881, 0.0), (2882, 0.0), (2883, 0.0), (2884, 0.126673647984535), (2885, 0.03458572319330373), (2886, 0.0), (2887, 0.10526315789473685), (2888, 0.05564148840746572), (2889, 0.06243905410544627), (2890, 0.0), (2891, 0.05564148840746572), (2892, 0.04188539082916955), (2893, 0.0), (2894, 0.07175473098524099), (2895, 0.0), (2896, 0.0), (2897, 0.09365858115816941), (2898, 0.0), (2899, 0.1037571695799112), (2900, 0.0), (2901, 0.0602475233128778), (2902, 0.07079923254047887), (2903, 0.0), (2904, 0.05923488777590923), (2905, 0.03065696697424829), (2906, 0.028676966733820218), (2907, 0.0662266178532522), (2908, 0.0), (2909, 0.06488856845230502), (2910, 0.0), (2911, 0.023414645289542353), (2912, 0.05564148840746572), (2913, 0.0), (2914, 0.12780429685269148), (2915, 0.08603090020146065), (2916, 0.0), (2917, 0.0), (2918, 0.03244428422615251), (2919, 0.06362847629757779), (2920, 0.0), (2921, 0.07254762501100116), (2922, 0.03065696697424829), (2923, 0.0), (2924, 0.0), (2925, 0.0), (2926, 0.03382550457458692), (2927, 0.10390486669322622), (2928, 0.07079923254047887), (2929, 0.19170644527903724), (2930, 0.0), (2931, 0.1324532357065044), (2932, 0.03181423814878889), (2933, 0.043355498476206004), (2934, 0.0), (2935, 0.0), (2936, 0.0), (2937, 0.0), (2938, 0.027036903521793755), (2939, 0.0662266178532522), (2940, 0.116543309349613), (2941, 0.029617443887954616), (2942, 0.0), (2943, 0.0), (2944, 0.0602475233128778), (2945, 0.0), (2946, 0.17521916101261562), (2947, 0.0602475233128778), (2948, 0.03181423814878889), (2949, 0.05923488777590923), (2950, 0.05647824947249051), (2951, 0.0), (2952, 0.03244428422615251), (2953, 0.09464970485606021), (2954, 0.0), (2955, 0.0), (2956, 0.0), (2957, 0.0331133089266261), (2958, 0.0602475233128778), (2959, 0.1324532357065044), (2960, 0.025649458802128853), (2961, 0.10968169942141635), (2962, 0.0), (2963, 0.0), (2964, 0.08603090020146065), (2965, 0.028239124736245257), (2966, 0.0), (2967, 0.023174488732966077), (2968, 0.0), (2969, 0.0), (2970, 0.0), (2971, 0.07509392614826384), (2972, 0.03721614637823934), (2973, 0.06917144638660747), (2974, 0.0), (2975, 0.05564148840746572), (2976, 0.0), (2977, 0.0602475233128778), (2978, 0.13334518676566626), (2979, 0.06488856845230502), (2980, 0.03458572319330373), (2981, 0.0), (2982, 0.1391037210186643), (2983, 0.233785950059759), (2984, 0.0), (2985, 0.0989541391990587), (2986, 0.12091270835166862), (2987, 0.0), (2988, 0.0), (2989, 0.0), (2990, 0.03382550457458692), (2991, 0.07694837640638656), (2992, 0.0), (2993, 0.11470786693528087), (2994, 0.05564148840746572), (2995, 0.031219527052723135), (2996, 0.0301237616564389), (2997, 0.0), (2998, 0.03065696697424829), (2999, 0.15609763526361567), (3000, 0.03244428422615251), (3001, 0.12227899701112964), (3002, 0.0), (3003, 0.057353933467640436), (3004, 0.029617443887954616), (3005, 0.0), (3006, 0.07868894753646337), (3007, 0.025334729596907), (3008, 0.076004188790721), (3009, 0.0301237616564389), (3010, 0.15585730003983933), (3011, 0.116543309349613), (3012, 0.06562179588897107), (3013, 0.0301237616564389), (3014, 0.16481712868606585), (3015, 0.0), (3016, 0.07079923254047887), (3017, 0.02742042485535409), (3018, 0.0533380747062665), (3019, 0.025976216673306556), (3020, 0.08471737420873576), (3021, 0.03627381250550058), (3022, 0.0), (3023, 0.0), (3024, 0.0), (3025, 0.0), (3026, 0.0), (3027, 0.0), (3028, 0.0), (3029, 0.028239124736245257), (3030, 0.15328483487124145), (3031, 0.13518451760896877), (3032, 0.044151078568834795), (3033, 0.18668326147193276), (3034, 0.0), (3035, 0.08346223261119858), (3036, 0.0), (3037, 0.0), (3038, 0.0), (3039, 0.0), (3040, 0.0582716546748065), (3041, 0.0), (3042, 0.028239124736245257), (3043, 0.039344473768231684), (3044, 0.029617443887954616), (3045, 0.03382550457458692), (3046, 0.23174488732966075), (3047, 0.05484084971070818), (3048, 0.03065696697424829), (3049, 0.11295649894498103), (3050, 0.08471737420873576), (3051, 0.10619884881071831), (3052, 0.03065696697424829), (3053, 0.15389675281277312), (3054, 0.0), (3055, 0.09037128496931669), (3056, 0.10814761408717502), (3057, 0.0), (3058, 0.0), (3059, 0.0), (3060, 0.0), (3061, 0.0), (3062, 0.06131393394849658), (3063, 0.11295649894498103), (3064, 0.0), (3065, 0.0), (3066, 0.03181423814878889), (3067, 0.0), (3068, 0.02913582733740325), (3069, 0.03181423814878889), (3070, 0.052631578947368425), (3071, 0.0), (3072, 0.0331133089266261), (3073, 0.10259783520851541), (3074, 0.05647824947249051), (3075, 0.17316974359835272), (3076, 0.05923488777590923), (3077, 0.03244428422615251), (3078, 0.03721614637823934), (3079, 0.0), (3080, 0.0837707816583391), (3081, 0.0), (3082, 0.0), (3083, 0.06131393394849658), (3084, 0.0), (3085, 0.05484084971070818), (3086, 0.1433848336691011), (3087, 0.040555355282690636), (3088, 0.09365858115816941), (3089, 0.040555355282690636), (3090, 0.0331133089266261), (3091, 0.02666903735313325), (3092, 0.05647824947249051), (3093, 0.06952346619889824), (3094, 0.05564148840746572), (3095, 0.05564148840746572), (3096, 0.0), (3097, 0.08346223261119858), (3098, 0.0301237616564389), (3099, 0.02782074420373286), (3100, 0.0), (3101, 0.03627381250550058), (3102, 0.0), (3103, 0.0), (3104, 0.0), (3105, 0.0), (3106, 0.106676149412533), (3107, 0.0), (3108, 0.13710212427677043), (3109, 0.0), (3110, 0.0), (3111, 0.12369267399882336), (3112, 0.1560976352636157), (3113, 0.0), (3114, 0.07079923254047887), (3115, 0.0), (3116, 0.06488856845230502), (3117, 0.0), (3118, 0.0), (3119, 0.0), (3120, 0.08885233166386385), (3121, 0.0), (3122, 0.0), (3123, 0.02913582733740325), (3124, 0.02782074420373286), (3125, 0.08000711205939975), (3126, 0.0331133089266261), (3127, 0.1324532357065044), (3128, 0.03539961627023944), (3129, 0.0), (3130, 0.0), (3131, 0.0), (3132, 0.05923488777590923), (3133, 0.02742042485535409), (3134, 0.0), (3135, 0.0), (3136, 0.0602475233128778), (3137, 0.0), (3138, 0.11846977555181847), (3139, 0.0), (3140, 0.0), (3141, 0.116543309349613), (3142, 0.09933992677987831), (3143, 0.10012523486435178), (3144, 0.07254762501100116), (3145, 0.06765100914917384), (3146, 0.03065696697424829), (3147, 0.06131393394849658), (3148, 0.22591299788996205), (3149, 0.0), (3150, 0.0), (3151, 0.09733285267845754), (3152, 0.0), (3153, 0.03244428422615251), (3154, 0.04188539082916955), (3155, 0.0), (3156, 0.0), (3157, 0.03721614637823934), (3158, 0.07792865001991967), (3159, 0.0), (3160, 0.0602475233128778), (3161, 0.03382550457458692), (3162, 0.05484084971070818), (3163, 0.0), (3164, 0.0), (3165, 0.07098727864204515), (3166, 0.0), (3167, 0.0), (3168, 0.12262786789699316), (3169, 0.028676966733820218), (3170, 0.023918243661746996), (3171, 0.0), (3172, 0.0331133089266261), (3173, 0.09037128496931669), (3174, 0.0), (3175, 0.052631578947368425), (3176, 0.06243905410544627), (3177, 0.12091270835166862), (3178, 0.0), (3179, 0.057353933467640436), (3180, 0.06765100914917384), (3181, 0.03181423814878889), (3182, 0.0), (3183, 0.06765100914917384), (3184, 0.13157894736842107), (3185, 0.0), (3186, 0.12487810821089254), (3187, 0.0), (3188, 0.0), (3189, 0.029617443887954616), (3190, 0.0), (3191, 0.0), (3192, 0.06243905410544627), (3193, 0.0), (3194, 0.0), (3195, 0.05484084971070818), (3196, 0.0), (3197, 0.03181423814878889), (3198, 0.0), (3199, 0.0331133089266261), (3200, 0.0), (3201, 0.0301237616564389), (3202, 0.08740748201220976), (3203, 0.15061880828219448), (3204, 0.0), (3205, 0.052631578947368425), (3206, 0.0), (3207, 0.06488856845230502), (3208, 0.09733285267845754), (3209, 0.08740748201220976), (3210, 0.0), (3211, 0.22264681319788207), (3212, 0.0), (3213, 0.0), (3214, 0.029617443887954616), (3215, 0.0), (3216, 0.0), (3217, 0.0), (3218, 0.08998425413316952), (3219, 0.02742042485535409), (3220, 0.07079923254047887), (3221, 0.0331133089266261), (3222, 0.0), (3223, 0.0), (3224, 0.07868894753646337), (3225, 0.06765100914917384), (3226, 0.0), (3227, 0.0989541391990587), (3228, 0.0), (3229, 0.15900879764848913), (3230, 0.0), (3231, 0.02913582733740325), (3232, 0.11128297681493143), (3233, 0.0), (3234, 0.09197090092274487), (3235, 0.0), (3236, 0.13334518676566626), (3237, 0.08471737420873576), (3238, 0.08111071056538127), (3239, 0.17292861596651865), (3240, 0.0), (3241, 0.0582716546748065), (3242, 0.101338918387628), (3243, 0.09733285267845754), (3244, 0.08740748201220976), (3245, 0.05923488777590923), (3246, 0.11128297681493143), (3247, 0.08885233166386385), (3248, 0.0), (3249, 0.0), (3250, 0.08226127456606226), (3251, 0.050669459193814), (3252, 0.0582716546748065), (3253, 0.10390486669322622), (3254, 0.06362847629757779), (3255, 0.0301237616564389), (3256, 0.050669459193814), (3257, 0.02742042485535409), (3258, 0.0), (3259, 0.06362847629757779), (3260, 0.12725695259515557), (3261, 0.0), (3262, 0.0), (3263, 0.05564148840746572), (3264, 0.0), (3265, 0.0), (3266, 0.025976216673306556), (3267, 0.18074256993863339), (3268, 0.0), (3269, 0.0), (3270, 0.05647824947249051), (3271, 0.0), (3272, 0.0), (3273, 0.052631578947368425), (3274, 0.025976216673306556), (3275, 0.023414645289542353), (3276, 0.0533380747062665), (3277, 0.08226127456606226), (3278, 0.0), (3279, 0.06362847629757779), (3280, 0.06362847629757779), (3281, 0.09365858115816941), (3282, 0.031219527052723135), (3283, 0.0), (3284, 0.10619884881071831), (3285, 0.07079923254047887), (3286, 0.08000711205939975), (3287, 0.1685854460847049), (3288, 0.0), (3289, 0.0), (3290, 0.08603090020146065), (3291, 0.08885233166386385), (3292, 0.0), (3293, 0.1391037210186643), (3294, 0.09037128496931669), (3295, 0.0), (3296, 0.0602475233128778), (3297, 0.2105263157894737), (3298, 0.0), (3299, 0.03627381250550058), (3300, 0.0), (3301, 0.06362847629757779), (3302, 0.06488856845230502), (3303, 0.08471737420873576), (3304, 0.043355498476206004), (3305, 0.07694837640638656), (3306, 0.17699808135119718), (3307, 0.05484084971070818), (3308, 0.06765100914917384), (3309, 0.052631578947368425), (3310, 0.0), (3311, 0.0), (3312, 0.0331133089266261), (3313, 0.05647824947249051), (3314, 0.0), (3315, 0.1540171257313038), (3316, 0.06917144638660747), (3317, 0.0), (3318, 0.1324532357065044), (3319, 0.0), (3320, 0.0582716546748065), (3321, 0.0978231976089037), (3322, 0.03244428422615251), (3323, 0.24738534799764675), (3324, 0.0), (3325, 0.06362847629757779), (3326, 0.14509525002200233), (3327, 0.0), (3328, 0.0), (3329, 0.06488856845230502), (3330, 0.03181423814878889), (3331, 0.0), (3332, 0.1324532357065044), (3333, 0.1324532357065044), (3334, 0.15389675281277312), (3335, 0.10147651372376076), (3336, 0.08603090020146065), (3337, 0.08471737420873576), (3338, 0.18074256993863339), (3339, 0.02913582733740325), (3340, 0.0), (3341, 0.0), (3342, 0.0), (3343, 0.02742042485535409), (3344, 0.0), (3345, 0.028239124736245257), (3346, 0.0533380747062665), (3347, 0.1411956236812263), (3348, 0.09365858115816941), (3349, 0.116543309349613), (3350, 0.25756109818496586), (3351, 0.15389675281277312), (3352, 0.08740748201220976), (3353, 0.0), (3354, 0.07079923254047887), (3355, 0.1037571695799112), (3356, 0.0), (3357, 0.029617443887954616), (3358, 0.028239124736245257), (3359, 0.16222142113076254), (3360, 0.0301237616564389), (3361, 0.10147651372376076), (3362, 0.0662266178532522), (3363, 0.0), (3364, 0.031219527052723135), (3365, 0.0), (3366, 0.0), (3367, 0.0), (3368, 0.09037128496931669), (3369, 0.0), (3370, 0.08226127456606226), (3371, 0.0837707816583391), (3372, 0.19474520942613002), (3373, 0.03539961627023944), (3374, 0.03065696697424829), (3375, 0.08226127456606226), (3376, 0.057353933467640436), (3377, 0.039344473768231684), (3378, 0.02913582733740325), (3379, 0.03181423814878889), (3380, 0.0), (3381, 0.0662266178532522), (3382, 0.06362847629757779), (3383, 0.10390486669322622), (3384, 0.0), (3385, 0.06765100914917384), (3386, 0.026315789473684213), (3387, 0.03244428422615251), (3388, 0.0), (3389, 0.03539961627023944), (3390, 0.11037769642208699), (3391, 0.05564148840746572), (3392, 0.0), (3393, 0.0), (3394, 0.06362847629757779), (3395, 0.0), (3396, 0.0), (3397, 0.03721614637823934), (3398, 0.0), (3399, 0.05407380704358751), (3400, 0.1147078669352809), (3401, 0.11295649894498103), (3402, 0.06362847629757779), (3403, 0.0), (3404, 0.09197090092274487), (3405, 0.17521916101261562), (3406, 0.03065696697424829), (3407, 0.0), (3408, 0.03627381250550058), (3409, 0.20519567041703082), (3410, 0.0), (3411, 0.0), (3412, 0.07079923254047887), (3413, 0.050669459193814), (3414, 0.11128297681493143), (3415, 0.0), (3416, 0.05647824947249051), (3417, 0.14673479641335557), (3418, 0.05484084971070818), (3419, 0.0), (3420, 0.052631578947368425), (3421, 0.0533380747062665), (3422, 0.0), (3423, 0.15907119074394446), (3424, 0.07894736842105264), (3425, 0.027036903521793755), (3426, 0.0), (3427, 0.19007487139298027), (3428, 0.02913582733740325), (3429, 0.0), (3430, 0.06488856845230502), (3431, 0.0331133089266261), (3432, 0.0), (3433, 0.02742042485535409), (3434, 0.08471737420873576), (3435, 0.0), (3436, 0.0602475233128778), (3437, 0.040555355282690636), (3438, 0.0), (3439, 0.1777046633277277), (3440, 0.08226127456606226), (3441, 0.05195243334661311), (3442, 0.057353933467640436), (3443, 0.0), (3444, 0.06243905410544627), (3445, 0.08226127456606226), (3446, 0.11470786693528087), (3447, 0.02782074420373286), (3448, 0.029617443887954616), (3449, 0.08471737420873576), (3450, 0.18929940971212042), (3451, 0.18394180184548975), (3452, 0.0), (3453, 0.0), (3454, 0.029617443887954616), (3455, 0.06362847629757779), (3456, 0.031219527052723135), (3457, 0.0), (3458, 0.06488856845230502), (3459, 0.06131393394849658), (3460, 0.046348977465932154), (3461, 0.0), (3462, 0.08471737420873576), (3463, 0.06488856845230502), (3464, 0.1204950466257556), (3465, 0.09197090092274487), (3466, 0.152008377581442), (3467, 0.029617443887954616), (3468, 0.0), (3469, 0.06131393394849658), (3470, 0.05647824947249051), (3471, 0.0), (3472, 0.028676966733820218), (3473, 0.023662426214015053), (3474, 0.02782074420373286), (3475, 0.08885233166386385), (3476, 0.0), (3477, 0.15789473684210528), (3478, 0.0), (3479, 0.09037128496931669), (3480, 0.0582716546748065), (3481, 0.04783648732349399), (3482, 0.028676966733820218), (3483, 0.05647824947249051), (3484, 0.0), (3485, 0.1147078669352809), (3486, 0.03382550457458692), (3487, 0.0), (3488, 0.03627381250550058), (3489, 0.03721614637823934), (3490, 0.09567297464698798), (3491, 0.0), (3492, 0.10012523486435178), (3493, 0.0), (3494, 0.06243905410544627), (3495, 0.06362847629757779), (3496, 0.0), (3497, 0.0), (3498, 0.0), (3499, 0.08111071056538127), (3500, 0.043355498476206004), (3501, 0.08740748201220976), (3502, 0.0), (3503, 0.15294382258037453), (3504, 0.06488856845230502), (3505, 0.047324852428030105), (3506, 0.0331133089266261), (3507, 0.11846977555181847), (3508, 0.06131393394849658), (3509, 0.03721614637823934), (3510, 0.08111071056538127), (3511, 0.025649458802128853), (3512, 0.050669459193814), (3513, 0.0), (3514, 0.028239124736245257), (3515, 0.09933992677987831), (3516, 0.027036903521793755), (3517, 0.0), (3518, 0.09733285267845754), (3519, 0.0), (3520, 0.07894736842105264), (3521, 0.0), (3522, 0.0331133089266261), (3523, 0.043355498476206004), (3524, 0.0), (3525, 0.0), (3526, 0.02913582733740325), (3527, 0.07868894753646337), (3528, 0.12487810821089254), (3529, 0.10259783520851541), (3530, 0.0), (3531, 0.03382550457458692), (3532, 0.06243905410544627), (3533, 0.031219527052723135), (3534, 0.0), (3535, 0.0), (3536, 0.0), (3537, 0.0301237616564389), (3538, 0.15040726490773904), (3539, 0.0), (3540, 0.0), (3541, 0.03244428422615251), (3542, 0.0), (3543, 0.0), (3544, 0.04188539082916955), (3545, 0.031219527052723135), (3546, 0.10814761408717502), (3547, 0.0), (3548, 0.08603090020146065), (3549, 0.05923488777590923), (3550, 0.15061880828219448), (3551, 0.0), (3552, 0.04891159880445185), (3553, 0.05484084971070818), (3554, 0.031219527052723135), (3555, 0.0), (3556, 0.029617443887954616), (3557, 0.0), (3558, 0.06362847629757779), (3559, 0.09197090092274487), (3560, 0.0), (3561, 0.05564148840746572), (3562, 0.06243905410544627), (3563, 0.0331133089266261), (3564, 0.1976738731537168), (3565, 0.0), (3566, 0.0602475233128778), (3567, 0.08885233166386385), (3568, 0.0602475233128778), (3569, 0.0331133089266261), (3570, 0.0), (3571, 0.057353933467640436), (3572, 0.0), (3573, 0.0), (3574, 0.05923488777590923), (3575, 0.0301237616564389), (3576, 0.04891159880445185), (3577, 0.0), (3578, 0.0), (3579, 0.20942695414584772), (3580, 0.03458572319330373), (3581, 0.05647824947249051), (3582, 0.06488856845230502), (3583, 0.0), (3584, 0.08471737420873576), (3585, 0.0), (3586, 0.09037128496931669), (3587, 0.0), (3588, 0.05407380704358751), (3589, 0.0), (3590, 0.05923488777590923), (3591, 0.08471737420873576), (3592, 0.08885233166386385), (3593, 0.05484084971070818), (3594, 0.028239124736245257), (3595, 0.07894736842105264), (3596, 0.06822858385009634), (3597, 0.03181423814878889), (3598, 0.0), (3599, 0.14509525002200235), (3600, 0.06362847629757779), (3601, 0.0), (3602, 0.05647824947249051), (3603, 0.20025046972870353), (3604, 0.10390486669322622), (3605, 0.0301237616564389), (3606, 0.03065696697424829), (3607, 0.21526419295572297), (3608, 0.0301237616564389), (3609, 0.06765100914917384), (3610, 0.0), (3611, 0.0301237616564389), (3612, 0.0), (3613, 0.03181423814878889), (3614, 0.0), (3615, 0.023414645289542353), (3616, 0.08000711205939975), (3617, 0.09544271444636668), (3618, 0.03539961627023944), (3619, 0.06882472016116853), (3620, 0.026315789473684213), (3621, 0.0), (3622, 0.0396370017644709), (3623, 0.06765100914917384), (3624, 0.11470786693528087), (3625, 0.050669459193814), (3626, 0.12262786789699316), (3627, 0.06131393394849658), (3628, 0.15061880828219448), (3629, 0.0), (3630, 0.20073876713674152), (3631, 0.051298917604257706), (3632, 0.07868894753646337), (3633, 0.0), (3634, 0.12487810821089254), (3635, 0.05923488777590923), (3636, 0.05407380704358751), (3637, 0.19466570535691505), (3638, 0.06243905410544627), (3639, 0.0301237616564389), (3640, 0.0602475233128778), (3641, 0.0), (3642, 0.0), (3643, 0.05006261743217589), (3644, 0.106676149412533), (3645, 0.047324852428030105), (3646, 0.0331133089266261), (3647, 0.05195243334661311), (3648, 0.11846977555181847), (3649, 0.0), (3650, 0.03458572319330373), (3651, 0.05647824947249051), (3652, 0.06488856845230502), (3653, 0.02913582733740325), (3654, 0.0), (3655, 0.0), (3656, 0.0), (3657, 0.031219527052723135), (3658, 0.031219527052723135), (3659, 0.07079923254047887), (3660, 0.06131393394849658), (3661, 0.08111071056538127), (3662, 0.08740748201220976), (3663, 0.0), (3664, 0.02913582733740325), (3665, 0.039344473768231684), (3666, 0.0), (3667, 0.10147651372376076), (3668, 0.14567913668701626), (3669, 0.06917144638660747), (3670, 0.0), (3671, 0.029617443887954616), (3672, 0.10619884881071831), (3673, 0.0), (3674, 0.0), (3675, 0.0), (3676, 0.0), (3677, 0.0), (3678, 0.09365858115816941), (3679, 0.14159846508095775), (3680, 0.18731716231633877), (3681, 0.0), (3682, 0.05923488777590923), (3683, 0.05923488777590923), (3684, 0.0602475233128778), (3685, 0.1204950466257556), (3686, 0.0), (3687, 0.0), (3688, 0.02913582733740325), (3689, 0.03382550457458692), (3690, 0.0), (3691, 0.024455799402225926), (3692, 0.0), (3693, 0.06131393394849658), (3694, 0.07079923254047887), (3695, 0.03065696697424829), (3696, 0.0), (3697, 0.0), (3698, 0.10390486669322622), (3699, 0.0602475233128778), (3700, 0.10259783520851541), (3701, 0.03627381250550058), (3702, 0.0), (3703, 0.029617443887954616), (3704, 0.06488856845230502), (3705, 0.0), (3706, 0.05484084971070818), (3707, 0.039344473768231684), (3708, 0.0), (3709, 0.08346223261119858), (3710, 0.07079923254047887), (3711, 0.05564148840746572), (3712, 0.0), (3713, 0.0), (3714, 0.0837707816583391), (3715, 0.0331133089266261), (3716, 0.03721614637823934), (3717, 0.1391037210186643), (3718, 0.0), (3719, 0.09037128496931669), (3720, 0.0), (3721, 0.0), (3722, 0.028239124736245257), (3723, 0.0), (3724, 0.1147078669352809), (3725, 0.06131393394849658), (3726, 0.116543309349613), (3727, 0.040555355282690636), (3728, 0.0), (3729, 0.0), (3730, 0.06243905410544627), (3731, 0.0), (3732, 0.0), (3733, 0.116543309349613), (3734, 0.05923488777590923), (3735, 0.08226127456606226), (3736, 0.0), (3737, 0.05564148840746572), (3738, 0.0), (3739, 0.0301237616564389), (3740, 0.03627381250550058), (3741, 0.026315789473684213), (3742, 0.0), (3743, 0.11470786693528087), (3744, 0.07079923254047887), (3745, 0.03539961627023944), (3746, 0.0), (3747, 0.07421560439929402), (3748, 0.101338918387628), (3749, 0.02742042485535409), (3750, 0.025976216673306556), (3751, 0.0), (3752, 0.07079923254047887), (3753, 0.15585730003983933), (3754, 0.14509525002200233), (3755, 0.07894736842105264), (3756, 0.21853668936906193), (3757, 0.11128297681493143), (3758, 0.13710212427677043), (3759, 0.028239124736245257), (3760, 0.03721614637823934), (3761, 0.0), (3762, 0.1691275228729346), (3763, 0.0), (3764, 0.1873171623163388), (3765, 0.09365858115816941), (3766, 0.18394180184548972), (3767, 0.0662266178532522), (3768, 0.0), (3769, 0.09365858115816941), (3770, 0.1411956236812263), (3771, 0.1037571695799112), (3772, 0.052631578947368425), (3773, 0.0), (3774, 0.16556654463313053), (3775, 0.17040572913692198), (3776, 0.06362847629757779), (3777, 0.03539961627023944), (3778, 0.1324532357065044), (3779, 0.07254762501100116), (3780, 0.05923488777590923), (3781, 0.0), (3782, 0.13334518676566626), (3783, 0.0), (3784, 0.08740748201220976), (3785, 0.03065696697424829), (3786, 0.0331133089266261), (3787, 0.0), (3788, 0.0), (3789, 0.05647824947249051), (3790, 0.03458572319330373), (3791, 0.11470786693528087), (3792, 0.0), (3793, 0.0), (3794, 0.0), (3795, 0.08885233166386385), (3796, 0.06488856845230502), (3797, 0.0331133089266261), (3798, 0.06917144638660747), (3799, 0.06243905410544627), (3800, 0.03382550457458692), (3801, 0.0), (3802, 0.11128297681493143), (3803, 0.03458572319330373), (3804, 0.025976216673306556), (3805, 0.0), (3806, 0.07647191129018727), (3807, 0.0), (3808, 0.039344473768231684), (3809, 0.0), (3810, 0.0), (3811, 0.0), (3812, 0.0582716546748065), (3813, 0.07694837640638656), (3814, 0.0), (3815, 0.0662266178532522), (3816, 0.03539961627023944), (3817, 0.03539961627023944), (3818, 0.0), (3819, 0.12487810821089254), (3820, 0.06488856845230502), (3821, 0.0582716546748065), (3822, 0.0), (3823, 0.0331133089266261), (3824, 0.06131393394849658), (3825, 0.0), (3826, 0.09197090092274487), (3827, 0.0), (3828, 0.10968169942141635), (3829, 0.1777046633277277), (3830, 0.03539961627023944), (3831, 0.07254762501100116), (3832, 0.08885233166386385), (3833, 0.14567913668701626), (3834, 0.057353933467640436), (3835, 0.0), (3836, 0.10147651372376076), (3837, 0.11707322644771177), (3838, 0.0), (3839, 0.0331133089266261), (3840, 0.06765100914917384), (3841, 0.16943474841747153), (3842, 0.03382550457458692), (3843, 0.0), (3844, 0.0582716546748065), (3845, 0.08471737420873576), (3846, 0.0), (3847, 0.08000711205939975), (3848, 0.12262786789699316), (3849, 0.07254762501100116), (3850, 0.0301237616564389), (3851, 0.1748149640244195), (3852, 0.0), (3853, 0.0), (3854, 0.1411956236812263), (3855, 0.06362847629757779), (3856, 0.07254762501100116), (3857, 0.1147078669352809), (3858, 0.0331133089266261), (3859, 0.08885233166386385), (3860, 0.101338918387628), (3861, 0.09197090092274487), (3862, 0.0), (3863, 0.0), (3864, 0.057353933467640436), (3865, 0.1391037210186643), (3866, 0.10936965981495178), (3867, 0.06362847629757779), (3868, 0.12487810821089254), (3869, 0.0602475233128778), (3870, 0.05923488777590923), (3871, 0.0), (3872, 0.0301237616564389), (3873, 0.19194297398747862), (3874, 0.13334518676566626), (3875, 0.039344473768231684), (3876, 0.05647824947249051), (3877, 0.0), (3878, 0.10138838820672659), (3879, 0.05647824947249051), (3880, 0.02913582733740325), (3881, 0.0), (3882, 0.03823595564509363), (3883, 0.16742770563222897), (3884, 0.02742042485535409), (3885, 0.029617443887954616), (3886, 0.028239124736245257), (3887, 0.06362847629757779), (3888, 0.08671099695241201), (3889, 0.08111071056538127), (3890, 0.06131393394849658), (3891, 0.16452254913212452), (3892, 0.0), (3893, 0.06243905410544627), (3894, 0.0), (3895, 0.02913582733740325), (3896, 0.05484084971070818), (3897, 0.04188539082916955), (3898, 0.05195243334661311), (3899, 0.09984038297885897), (3900, 0.050669459193814), (3901, 0.18394180184548975), (3902, 0.0), (3903, 0.028239124736245257), (3904, 0.0), (3905, 0.15061880828219448), (3906, 0.042973504259354006), (3907, 0.02742042485535409), (3908, 0.06488856845230502), (3909, 0.0), (3910, 0.0602475233128778), (3911, 0.08111071056538127), (3912, 0.08111071056538127), (3913, 0.0), (3914, 0.11128297681493143), (3915, 0.03382550457458692), (3916, 0.10259783520851541), (3917, 0.0), (3918, 0.0301237616564389), (3919, 0.06243905410544627), (3920, 0.09197090092274487), (3921, 0.15737789507292674), (3922, 0.0), (3923, 0.0), (3924, 0.0), (3925, 0.06362847629757779), (3926, 0.0), (3927, 0.0), (3928, 0.06362847629757779), (3929, 0.03823595564509363), (3930, 0.03458572319330373), (3931, 0.0), (3932, 0.0331133089266261), (3933, 0.0), (3934, 0.10559715077387793), (3935, 0.12725695259515557), (3936, 0.06362847629757779), (3937, 0.0), (3938, 0.0), (3939, 0.09544271444636668), (3940, 0.051298917604257706), (3941, 0.03539961627023944), (3942, 0.031219527052723135), (3943, 0.04188539082916955), (3944, 0.029617443887954616), (3945, 0.11164843913471803), (3946, 0.09037128496931669), (3947, 0.05484084971070818), (3948, 0.17699808135119718), (3949, 0.0), (3950, 0.0), (3951, 0.0662266178532522), (3952, 0.03382550457458692), (3953, 0.07868894753646337), (3954, 0.0602475233128778), (3955, 0.0), (3956, 0.22591299788996205), (3957, 0.03244428422615251), (3958, 0.0), (3959, 0.12725695259515557), (3960, 0.0), (3961, 0.0), (3962, 0.03244428422615251), (3963, 0.0), (3964, 0.03065696697424829), (3965, 0.1037571695799112), (3966, 0.11141412945539662), (3967, 0.0), (3968, 0.0), (3969, 0.0), (3970, 0.06488856845230502), (3971, 0.15389675281277312), (3972, 0.14509525002200233), (3973, 0.028239124736245257), (3974, 0.046348977465932154), (3975, 0.05647824947249051), (3976, 0.07254762501100116), (3977, 0.0), (3978, 0.06765100914917384), (3979, 0.0602475233128778), (3980, 0.0), (3981, 0.09037128496931669), (3982, 0.03181423814878889), (3983, 0.0978231976089037), (3984, 0.12725695259515557), (3985, 0.0), (3986, 0.1818335167131459), (3987, 0.06131393394849658), (3988, 0.12487810821089254), (3989, 0.0), (3990, 0.0), (3991, 0.1147078669352809), (3992, 0.0), (3993, 0.03721614637823934), (3994, 0.0), (3995, 0.0), (3996, 0.0), (3997, 0.0), (3998, 0.08226127456606226), (3999, 0.0), (4000, 0.0), (4001, 0.0), (4002, 0.0), (4003, 0.08226127456606226), (4004, 0.039344473768231684), (4005, 0.0), (4006, 0.0), (4007, 0.0), (4008, 0.12977713690461004), (4009, 0.039344473768231684), (4010, 0.08749572785196143), (4011, 0.1433848336691011), (4012, 0.06131393394849658), (4013, 0.1777046633277277), (4014, 0.05484084971070818), (4015, 0.05407380704358751), (4016, 0.0), (4017, 0.08603090020146065), (4018, 0.0), (4019, 0.03065696697424829), (4020, 0.028676966733820218), (4021, 0.0), (4022, 0.0582716546748065), (4023, 0.0), (4024, 0.05006261743217589), (4025, 0.0), (4026, 0.0), (4027, 0.22269966704152225), (4028, 0.15328483487124145), (4029, 0.0), (4030, 0.06765100914917384), (4031, 0.0), (4032, 0.10968169942141635), (4033, 0.06488856845230502), (4034, 0.0), (4035, 0.0), (4036, 0.0), (4037, 0.14194374348941724), (4038, 0.04188539082916955), (4039, 0.09037128496931669), (4040, 0.040555355282690636), (4041, 0.15328483487124145), (4042, 0.031219527052723135), (4043, 0.0), (4044, 0.0), (4045, 0.12725695259515557), (4046, 0.0), (4047, 0.0837707816583391), (4048, 0.07254762501100116), (4049, 0.025334729596907), (4050, 0.12262786789699316), (4051, 0.0331133089266261), (4052, 0.028676966733820218), (4053, 0.08740748201220976), (4054, 0.07443229275647868), (4055, 0.04188539082916955), (4056, 0.0), (4057, 0.0), (4058, 0.0), (4059, 0.0), (4060, 0.0), (4061, 0.03382550457458692), (4062, 0.12824729401064427), (4063, 0.1204950466257556), (4064, 0.0), (4065, 0.18394180184548975), (4066, 0.0), (4067, 0.06917144638660747), (4068, 0.0), (4069, 0.0), (4070, 0.0), (4071, 0.12824729401064427), (4072, 0.03539961627023944), (4073, 0.07421560439929402), (4074, 0.0), (4075, 0.0), (4076, 0.03181423814878889), (4077, 0.07694837640638656), (4078, 0.052631578947368425), (4079, 0.116543309349613), (4080, 0.024738534799764674), (4081, 0.09086217008485092), (4082, 0.0), (4083, 0.0), (4084, 0.07421560439929402), (4085, 0.0), (4086, 0.0), (4087, 0.03065696697424829), (4088, 0.11295649894498103), (4089, 0.0), (4090, 0.03065696697424829), (4091, 0.0), (4092, 0.0), (4093, 0.03627381250550058), (4094, 0.03458572319330373), (4095, 0.0), (4096, 0.050669459193814), (4097, 0.07254762501100116), (4098, 0.13518451760896877), (4099, 0.12487810821089254), (4100, 0.09037128496931669), (4101, 0.0), (4102, 0.0), (4103, 0.0), (4104, 0.0), (4105, 0.1324532357065044), (4106, 0.1600142241187995), (4107, 0.0), (4108, 0.06917144638660747), (4109, 0.06243905410544627), (4110, 0.1345726220504978), (4111, 0.04188539082916955), (4112, 0.0), (4113, 0.0), (4114, 0.031219527052723135), (4115, 0.0), (4116, 0.0), (4117, 0.06765100914917384), (4118, 0.0), (4119, 0.0662266178532522), (4120, 0.039344473768231684), (4121, 0.0), (4122, 0.0), (4123, 0.0), (4124, 0.0331133089266261), (4125, 0.07254762501100116), (4126, 0.0), (4127, 0.12369267399882336), (4128, 0.0), (4129, 0.03181423814878889), (4130, 0.0), (4131, 0.06362847629757779), (4132, 0.17206180040292132), (4133, 0.0), (4134, 0.05195243334661311), (4135, 0.15061880828219448), (4136, 0.03627381250550058), (4137, 0.0), (4138, 0.0331133089266261), (4139, 0.06243905410544627), (4140, 0.0), (4141, 0.0), (4142, 0.12166606584807191), (4143, 0.04188539082916955), (4144, 0.08111071056538127), (4145, 0.06917144638660747), (4146, 0.08885233166386385), (4147, 0.043355498476206004), (4148, 0.0), (4149, 0.02782074420373286), (4150, 0.042973504259354006), (4151, 0.0582716546748065), (4152, 0.03244428422615251), (4153, 0.13530201829834768), (4154, 0.14509525002200233), (4155, 0.09197090092274487), (4156, 0.03627381250550058), (4157, 0.0), (4158, 0.1433848336691011), (4159, 0.15609763526361567), (4160, 0.12166606584807191), (4161, 0.043355498476206004), (4162, 0.0), (4163, 0.08346223261119858), (4164, 0.11037769642208699), (4165, 0.0), (4166, 0.0), (4167, 0.152008377581442), (4168, 0.0), (4169, 0.0), (4170, 0.03181423814878889), (4171, 0.0), (4172, 0.05195243334661311), (4173, 0.05564148840746572), (4174, 0.025976216673306556), (4175, 0.0602475233128778), (4176, 0.25764051146906086), (4177, 0.12725695259515557), (4178, 0.0), (4179, 0.03823595564509363), (4180, 0.028676966733820218), (4181, 0.0331133089266261), (4182, 0.13334518676566626), (4183, 0.22847357081849518), (4184, 0.08671099695241201), (4185, 0.0), (4186, 0.0), (4187, 0.03823595564509363), (4188, 0.0), (4189, 0.10526315789473685), (4190, 0.0), (4191, 0.06243905410544627), (4192, 0.05923488777590923), (4193, 0.21677749238103003), (4194, 0.0), (4195, 0.03382550457458692), (4196, 0.028239124736245257), (4197, 0.05484084971070818), (4198, 0.0), (4199, 0.0), (4200, 0.15018785229652765), (4201, 0.08226127456606226), (4202, 0.04836508334066745), (4203, 0.1411956236812263), (4204, 0.05564148840746572), (4205, 0.04188539082916955), (4206, 0.0), (4207, 0.0), (4208, 0.0), (4209, 0.15585730003983933), (4210, 0.0), (4211, 0.13518451760896877), (4212, 0.0), (4213, 0.03244428422615251), (4214, 0.03065696697424829), (4215, 0.08111071056538127), (4216, 0.051298917604257706), (4217, 0.03823595564509363), (4218, 0.0), (4219, 0.0), (4220, 0.029617443887954616), (4221, 0.15907119074394446), (4222, 0.08885233166386385), (4223, 0.023414645289542353), (4224, 0.06131393394849658), (4225, 0.0582716546748065), (4226, 0.0301237616564389), (4227, 0.0), (4228, 0.11128297681493143), (4229, 0.0), (4230, 0.06765100914917384), (4231, 0.03539961627023944), (4232, 0.05647824947249051), (4233, 0.11803342130469505), (4234, 0.0), (4235, 0.0), (4236, 0.0), (4237, 0.06243905410544627), (4238, 0.09764582085806336), (4239, 0.15328483487124145), (4240, 0.0), (4241, 0.03382550457458692), (4242, 0.0), (4243, 0.0), (4244, 0.0), (4245, 0.0), (4246, 0.09365858115816941), (4247, 0.0), (4248, 0.0), (4249, 0.02913582733740325), (4250, 0.0), (4251, 0.06243905410544627), (4252, 0.09365858115816941), (4253, 0.0), (4254, 0.03721614637823934), (4255, 0.06362847629757779), (4256, 0.15737789507292674), (4257, 0.0), (4258, 0.04188539082916955), (4259, 0.1391037210186643), (4260, 0.0), (4261, 0.076004188790721), (4262, 0.0), (4263, 0.05647824947249051), (4264, 0.06488856845230502), (4265, 0.0301237616564389), (4266, 0.0), (4267, 0.1391037210186643), (4268, 0.03244428422615251), (4269, 0.0), (4270, 0.0), (4271, 0.0), (4272, 0.07443229275647868), (4273, 0.04499212706658476), (4274, 0.0), (4275, 0.039344473768231684), (4276, 0.21677749238103), (4277, 0.04188539082916955), (4278, 0.03382550457458692), (4279, 0.08111071056538127), (4280, 0.0), (4281, 0.0582716546748065), (4282, 0.06362847629757779), (4283, 0.11128297681493143), (4284, 0.03065696697424829), (4285, 0.11803342130469505), (4286, 0.1777046633277277), (4287, 0.02913582733740325), (4288, 0.02782074420373286), (4289, 0.0), (4290, 0.0), (4291, 0.09037128496931669), (4292, 0.03244428422615251), (4293, 0.0), (4294, 0.0), (4295, 0.130066495428618), (4296, 0.0), (4297, 0.03065696697424829), (4298, 0.0), (4299, 0.0), (4300, 0.1324532357065044), (4301, 0.040555355282690636), (4302, 0.05647824947249051), (4303, 0.0), (4304, 0.0), (4305, 0.0), (4306, 0.0), (4307, 0.0), (4308, 0.0), (4309, 0.0), (4310, 0.02782074420373286), (4311, 0.10882143751650175), (4312, 0.17576247754451405), (4313, 0.1324532357065044), (4314, 0.0), (4315, 0.02742042485535409), (4316, 0.031219527052723135), (4317, 0.0662266178532522), (4318, 0.0), (4319, 0.1433848336691011), (4320, 0.0602475233128778), (4321, 0.029617443887954616), (4322, 0.0), (4323, 0.0), (4324, 0.07443229275647868), (4325, 0.08111071056538127), (4326, 0.10390486669322622), (4327, 0.05484084971070818), (4328, 0.07443229275647868), (4329, 0.1204950466257556), (4330, 0.0331133089266261), (4331, 0.0602475233128778), (4332, 0.0), (4333, 0.031219527052723135), (4334, 0.0), (4335, 0.0), (4336, 0.0), (4337, 0.052631578947368425), (4338, 0.0), (4339, 0.13710212427677043), (4340, 0.057353933467640436), (4341, 0.0), (4342, 0.0), (4343, 0.05923488777590923), (4344, 0.03065696697424829), (4345, 0.03244428422615251), (4346, 0.031219527052723135), (4347, 0.0), (4348, 0.057353933467640436), (4349, 0.03181423814878889), (4350, 0.106676149412533), (4351, 0.03065696697424829), (4352, 0.10259783520851541), (4353, 0.06131393394849658), (4354, 0.0), (4355, 0.12262786789699316), (4356, 0.1433848336691011), (4357, 0.039344473768231684), (4358, 0.0), (4359, 0.0), (4360, 0.05647824947249051), (4361, 0.0), (4362, 0.0), (4363, 0.0), (4364, 0.0), (4365, 0.05564148840746572), (4366, 0.0), (4367, 0.03181423814878889), (4368, 0.18668326147193276), (4369, 0.0), (4370, 0.040555355282690636), (4371, 0.029617443887954616), (4372, 0.09037128496931669), (4373, 0.0582716546748065), (4374, 0.0), (4375, 0.12487810821089254), (4376, 0.0331133089266261), (4377, 0.04188539082916955), (4378, 0.0989541391990587), (4379, 0.06917144638660747), (4380, 0.0602475233128778), (4381, 0.06362847629757779), (4382, 0.04947706959952935), (4383, 0.10968169942141635), (4384, 0.0), (4385, 0.0), (4386, 0.14159846508095775), (4387, 0.0), (4388, 0.1433848336691011), (4389, 0.0), (4390, 0.0582716546748065), (4391, 0.11470786693528087), (4392, 0.1391037210186643), (4393, 0.08471737420873576), (4394, 0.0533380747062665), (4395, 0.040555355282690636), (4396, 0.0), (4397, 0.02913582733740325), (4398, 0.0), (4399, 0.14509525002200233), (4400, 0.0), (4401, 0.08111071056538127), (4402, 0.025334729596907), (4403, 0.0), (4404, 0.02913582733740325), (4405, 0.0), (4406, 0.0), (4407, 0.0), (4408, 0.14159846508095775), (4409, 0.0), (4410, 0.0), (4411, 0.12565617248750865), (4412, 0.0), (4413, 0.0), (4414, 0.03458572319330373), (4415, 0.03823595564509363), (4416, 0.0), (4417, 0.0), (4418, 0.10259783520851541), (4419, 0.0), (4420, 0.0), (4421, 0.03823595564509363), (4422, 0.0), (4423, 0.0), (4424, 0.0), (4425, 0.03539961627023944), (4426, 0.0), (4427, 0.02913582733740325), (4428, 0.1748149640244195), (4429, 0.0), (4430, 0.08671099695241201), (4431, 0.0), (4432, 0.21936339884283274), (4433, 0.0), (4434, 0.0), (4435, 0.0), (4436, 0.0), (4437, 0.0), (4438, 0.03539961627023944), (4439, 0.20073876713674152), (4440, 0.11470786693528087), (4441, 0.0), (4442, 0.08603090020146065), (4443, 0.0), (4444, 0.0), (4445, 0.0), (4446, 0.0), (4447, 0.029617443887954616), (4448, 0.07694837640638656), (4449, 0.03458572319330373), (4450, 0.03627381250550058), (4451, 0.0), (4452, 0.0), (4453, 0.0), (4454, 0.026315789473684213), (4455, 0.0), (4456, 0.0), (4457, 0.0), (4458, 0.0), (4459, 0.0), (4460, 0.03627381250550058), (4461, 0.07254762501100116), (4462, 0.0), (4463, 0.0), (4464, 0.0), (4465, 0.03181423814878889), (4466, 0.0), (4467, 0.057353933467640436), (4468, 0.0), (4469, 0.0), (4470, 0.03244428422615251), (4471, 0.03382550457458692), (4472, 0.1037571695799112), (4473, 0.031219527052723135), (4474, 0.0), (4475, 0.06765100914917384), (4476, 0.03539961627023944), (4477, 0.08000711205939975), (4478, 0.0), (4479, 0.06131393394849658), (4480, 0.0), (4481, 0.07254762501100116), (4482, 0.09567297464698798), (4483, 0.06488856845230502), (4484, 0.03382550457458692), (4485, 0.0), (4486, 0.04891159880445185), (4487, 0.031219527052723135), (4488, 0.039344473768231684), (4489, 0.03721614637823934), (4490, 0.0), (4491, 0.0), (4492, 0.0), (4493, 0.0837707816583391), (4494, 0.0331133089266261), (4495, 0.0), (4496, 0.12262786789699316), (4497, 0.05407380704358751), (4498, 0.08603090020146065), (4499, 0.040555355282690636), (4500, 0.0), (4501, 0.07254762501100116), (4502, 0.043355498476206004), (4503, 0.0), (4504, 0.0), (4505, 0.0), (4506, 0.1324532357065044), (4507, 0.15789473684210528), (4508, 0.0), (4509, 0.0582716546748065), (4510, 0.0), (4511, 0.0), (4512, 0.0), (4513, 0.0), (4514, 0.09933992677987831), (4515, 0.17292861596651865), (4516, 0.0), (4517, 0.0), (4518, 0.08226127456606226), (4519, 0.0331133089266261), (4520, 0.0), (4521, 0.0), (4522, 0.12977713690461004), (4523, 0.0), (4524, 0.05923488777590923), (4525, 0.03458572319330373), (4526, 0.14509525002200233), (4527, 0.1204950466257556), (4528, 0.09197090092274487), (4529, 0.06243905410544627), (4530, 0.0), (4531, 0.039344473768231684), (4532, 0.0), (4533, 0.0), (4534, 0.0), (4535, 0.1391037210186643), (4536, 0.0), (4537, 0.0), (4538, 0.0), (4539, 0.15907119074394446), (4540, 0.0), (4541, 0.0), (4542, 0.0), (4543, 0.03458572319330373), (4544, 0.0), (4545, 0.08111071056538127), (4546, 0.040555355282690636), (4547, 0.0), (4548, 0.0), (4549, 0.03382550457458692), (4550, 0.0), (4551, 0.0), (4552, 0.0837707816583391), (4553, 0.0), (4554, 0.07647191129018727), (4555, 0.11295649894498103), (4556, 0.040555355282690636), (4557, 0.03627381250550058), (4558, 0.031219527052723135), (4559, 0.03539961627023944), (4560, 0.0), (4561, 0.0), (4562, 0.0), (4563, 0.027036903521793755), (4564, 0.0), (4565, 0.03458572319330373), (4566, 0.0), (4567, 0.0), (4568, 0.0), (4569, 0.07647191129018727), (4570, 0.0), (4571, 0.0), (4572, 0.0582716546748065), (4573, 0.06488856845230502), (4574, 0.043355498476206004), (4575, 0.0), (4576, 0.03181423814878889), (4577, 0.03181423814878889), (4578, 0.0), (4579, 0.10936965981495178), (4580, 0.14509525002200233), (4581, 0.0), (4582, 0.0), (4583, 0.18183351671314588), (4584, 0.08671099695241201), (4585, 0.20335531332779733), (4586, 0.0), (4587, 0.0), (4588, 0.0), (4589, 0.0), (4590, 0.0), (4591, 0.0), (4592, 0.0662266178532522), (4593, 0.0), (4594, 0.07421560439929402), (4595, 0.09197090092274487), (4596, 0.03244428422615251), (4597, 0.08998425413316952), (4598, 0.0), (4599, 0.11164843913471803), (4600, 0.02913582733740325), (4601, 0.039344473768231684), (4602, 0.05484084971070818), (4603, 0.0), (4604, 0.1204950466257556), (4605, 0.10814761408717502), (4606, 0.03627381250550058), (4607, 0.0), (4608, 0.14673479641335557), (4609, 0.0), (4610, 0.09365858115816941), (4611, 0.0), (4612, 0.0), (4613, 0.06243905410544627), (4614, 0.0), (4615, 0.0), (4616, 0.07254762501100116), (4617, 0.0), (4618, 0.08998425413316952), (4619, 0.0), (4620, 0.03458572319330373), (4621, 0.11164843913471803), (4622, 0.0), (4623, 0.03244428422615251), (4624, 0.0), (4625, 0.14159846508095775), (4626, 0.09567297464698798), (4627, 0.0), (4628, 0.0), (4629, 0.03721614637823934), (4630, 0.07647191129018727), (4631, 0.051298917604257706), (4632, 0.0), (4633, 0.0), (4634, 0.03721614637823934), (4635, 0.0), (4636, 0.0), (4637, 0.0), (4638, 0.11470786693528087), (4639, 0.0), (4640, 0.0), (4641, 0.0), (4642, 0.06362847629757779), (4643, 0.10259783520851541), (4644, 0.0), (4645, 0.08111071056538127), (4646, 0.15907119074394446), (4647, 0.06488856845230502), (4648, 0.05407380704358751), (4649, 0.05923488777590923), (4650, 0.09037128496931669), (4651, 0.0), (4652, 0.0), (4653, 0.0), (4654, 0.07254762501100116), (4655, 0.0), (4656, 0.03458572319330373), (4657, 0.0), (4658, 0.0), (4659, 0.0662266178532522), (4660, 0.0), (4661, 0.0), (4662, 0.0), (4663, 0.08998425413316952), (4664, 0.23693955110363693), (4665, 0.0331133089266261), (4666, 0.11128297681493143), (4667, 0.0), (4668, 0.0602475233128778), (4669, 0.0), (4670, 0.17206180040292132), (4671, 0.0), (4672, 0.0989541391990587), (4673, 0.0602475233128778), (4674, 0.0), (4675, 0.2108663315950723), (4676, 0.0), (4677, 0.07079923254047887), (4678, 0.06362847629757779), (4679, 0.09365858115816941), (4680, 0.03627381250550058), (4681, 0.0), (4682, 0.0), (4683, 0.0), (4684, 0.0), (4685, 0.0), (4686, 0.0), (4687, 0.0), (4688, 0.09365858115816941), (4689, 0.0), (4690, 0.0), (4691, 0.0), (4692, 0.0), (4693, 0.0), (4694, 0.0), (4695, 0.0), (4696, 0.026315789473684213), (4697, 0.0), (4698, 0.0), (4699, 0.0), (4700, 0.0), (4701, 0.13245323570650439), (4702, 0.0), (4703, 0.0), (4704, 0.10526315789473685), (4705, 0.0), (4706, 0.0), (4707, 0.06131393394849658), (4708, 0.04891159880445185), (4709, 0.0), (4710, 0.0), (4711, 0.0), (4712, 0.0), (4713, 0.14159846508095775), (4714, 0.0), (4715, 0.0), (4716, 0.0), (4717, 0.12988108336653278), (4718, 0.05923488777590923), (4719, 0.0), (4720, 0.06243905410544627), (4721, 0.0), (4722, 0.0), (4723, 0.0), (4724, 0.09197090092274487), (4725, 0.0), (4726, 0.10526315789473685), (4727, 0.11295649894498103), (4728, 0.028676966733820218), (4729, 0.0), (4730, 0.16556654463313053), (4731, 0.0), (4732, 0.15609763526361567), (4733, 0.08740748201220976), (4734, 0.03627381250550058), (4735, 0.10814761408717502), (4736, 0.0), (4737, 0.0), (4738, 0.0), (4739, 0.07792865001991967), (4740, 0.02782074420373286), (4741, 0.0), (4742, 0.09567297464698798), (4743, 0.0), (4744, 0.0582716546748065), (4745, 0.0), (4746, 0.03065696697424829), (4747, 0.0), (4748, 0.0), (4749, 0.1419745572840903), (4750, 0.0), (4751, 0.0), (4752, 0.021119430154775586), (4753, 0.0), (4754, 0.0), (4755, 0.0), (4756, 0.03627381250550058), (4757, 0.1956463952178074), (4758, 0.0), (4759, 0.027036903521793755), (4760, 0.12487810821089254), (4761, 0.0), (4762, 0.0), (4763, 0.06917144638660747), (4764, 0.07254762501100116), (4765, 0.0), (4766, 0.0), (4767, 0.09037128496931669), (4768, 0.0), (4769, 0.046829290579084706), (4770, 0.0), (4771, 0.0), (4772, 0.15789473684210528), (4773, 0.05564148840746572), (4774, 0.07868894753646337), (4775, 0.0), (4776, 0.06243905410544627), (4777, 0.0), (4778, 0.1324532357065044), (4779, 0.0), (4780, 0.043355498476206004), (4781, 0.0), (4782, 0.07254762501100116), (4783, 0.0), (4784, 0.0), (4785, 0.0), (4786, 0.0), (4787, 0.06488856845230502), (4788, 0.06131393394849658), (4789, 0.08885233166386385), (4790, 0.0), (4791, 0.10882143751650175), (4792, 0.03181423814878889), (4793, 0.06243905410544627), (4794, 0.0), (4795, 0.2073221072156823), (4796, 0.027036903521793755), (4797, 0.0), (4798, 0.04891159880445185), (4799, 0.0582716546748065), (4800, 0.0), (4801, 0.03823595564509363), (4802, 0.0)]\n"
          ]
        }
      ]
    },
    {
      "cell_type": "code",
      "source": [
        "print(len(sim_movies))"
      ],
      "metadata": {
        "colab": {
          "base_uri": "https://localhost:8080/"
        },
        "id": "aBKm4vsRfC2C",
        "outputId": "cda9d322-af2e-482a-d223-7d2ad8c54433"
      },
      "execution_count": 346,
      "outputs": [
        {
          "output_type": "stream",
          "name": "stdout",
          "text": [
            "4803\n"
          ]
        }
      ]
    },
    {
      "cell_type": "code",
      "source": [
        "sorted_sim_movies = sorted(sim_movies,key=lambda x:x[1],reverse=True)[1:]\n",
        "print(sorted_sim_movies)"
      ],
      "metadata": {
        "colab": {
          "base_uri": "https://localhost:8080/"
        },
        "id": "1YCPflIbhWW3",
        "outputId": "3569c300-99b1-4ab3-e6a4-93750efbcb17"
      },
      "execution_count": 347,
      "outputs": [
        {
          "output_type": "stream",
          "name": "stdout",
          "text": [
            "[(428, 0.5948118774794626), (3, 0.3313613782208279), (119, 0.32579188276750076), (210, 0.3154466340720224), (2047, 0.30123761656438897), (753, 0.2823912473624526), (681, 0.2725865102545528), (65, 0.2711138549079501), (215, 0.2711138549079501), (4176, 0.25764051146906086), (3350, 0.25756109818496586), (813, 0.2541521226262073), (2858, 0.24975621642178508), (3323, 0.24738534799764675), (14, 0.2467838236981868), (836, 0.2467838236981868), (1513, 0.24455799402225925), (164, 0.24333213169614382), (2530, 0.2409900932515112), (2635, 0.23693955110363693), (4664, 0.23693955110363693), (2474, 0.2368421052631579), (1017, 0.23662426214015053), (2826, 0.233785950059759), (2983, 0.233785950059759), (2357, 0.23288666826750606), (3046, 0.23174488732966075), (4183, 0.22847357081849518), (278, 0.228012566372163), (3148, 0.22591299788996205), (3956, 0.22591299788996205), (1120, 0.22282825891079325), (2205, 0.22269966704152225), (4027, 0.22269966704152225), (969, 0.22264681319788207), (3211, 0.22264681319788207), (1977, 0.2213320000610218), (4432, 0.21936339884283274), (963, 0.2193633988428327), (1512, 0.2193633988428327), (3756, 0.21853668936906193), (2381, 0.21764287503300353), (4193, 0.21677749238103003), (4276, 0.21677749238103), (3607, 0.21526419295572297), (2320, 0.21459876881973805), (5, 0.21459876881973802), (870, 0.213352298825066), (1890, 0.21177354788054276), (4675, 0.2108663315950723), (1280, 0.2105263157894737), (3297, 0.2105263157894737), (3579, 0.20942695414584772), (1, 0.20857039859669468), (830, 0.20780973338645245), (2221, 0.20780973338645245), (4795, 0.2073221072156823), (46, 0.20519567041703082), (1964, 0.20519567041703082), (3409, 0.20519567041703082), (2123, 0.20395079136182276), (4585, 0.20335531332779733), (2070, 0.20295302744752153), (170, 0.202677836775256), (1191, 0.20267783677525597), (1827, 0.20073876713674155), (473, 0.20073876713674152), (2692, 0.20073876713674152), (3630, 0.20073876713674152), (4439, 0.20073876713674152), (342, 0.20025046972870353), (2338, 0.20025046972870353), (3603, 0.20025046972870353), (1296, 0.1986798535597566), (372, 0.1979082783981174), (1006, 0.1979082783981174), (2157, 0.19767387315371682), (1002, 0.1976738731537168), (3564, 0.1976738731537168), (4757, 0.1956463952178074), (1959, 0.19509974314292702), (3372, 0.19474520942613002), (510, 0.19474520942613), (10, 0.19466570535691508), (1824, 0.19466570535691508), (3637, 0.19466570535691505), (1085, 0.1934603333626698), (1163, 0.19194297398747864), (3873, 0.19194297398747862), (2929, 0.19170644527903724), (2427, 0.19088542889273336), (2789, 0.19088542889273336), (2433, 0.19022147756317054), (3427, 0.19007487139298027), (1403, 0.18986581228931065), (1286, 0.18929940971212042), (2572, 0.18929940971212042), (3450, 0.18929940971212042), (285, 0.1892583246525563), (2240, 0.1892583246525563), (2830, 0.1892583246525563), (1851, 0.18925832465255626), (1577, 0.18848425873126295), (1035, 0.18731716231633883), (3764, 0.1873171623163388), (3680, 0.18731716231633877), (223, 0.18668326147193276), (422, 0.18668326147193276), (2255, 0.18668326147193276), (3033, 0.18668326147193276), (4368, 0.18668326147193276), (832, 0.18541926977182407), (267, 0.18539590986372861), (994, 0.18539590986372861), (149, 0.1842105263157895), (171, 0.1842105263157895), (186, 0.1842105263157895), (1148, 0.1842105263157895), (1247, 0.1842105263157895), (156, 0.18394180184548975), (968, 0.18394180184548975), (1488, 0.18394180184548975), (1884, 0.18394180184548975), (2193, 0.18394180184548975), (2543, 0.18394180184548975), (3451, 0.18394180184548975), (3901, 0.18394180184548975), (4065, 0.18394180184548975), (3766, 0.18394180184548972), (1611, 0.18353258709644943), (1213, 0.1818335167131459), (3986, 0.1818335167131459), (549, 0.18183351671314588), (4583, 0.18183351671314588), (2655, 0.1813690625275029), (1043, 0.18074256993863339), (1076, 0.18074256993863339), (1409, 0.18074256993863339), (1699, 0.18074256993863339), (3267, 0.18074256993863339), (3338, 0.18074256993863339), (1052, 0.17996850826633903), (736, 0.17954621161490197), (1443, 0.17954621161490197), (2822, 0.17954621161490197), (1018, 0.17836650794011905), (1670, 0.17836650794011905), (528, 0.1782626071286346), (72, 0.1777046633277277), (314, 0.1777046633277277), (417, 0.1777046633277277), (731, 0.1777046633277277), (1432, 0.1777046633277277), (1434, 0.1777046633277277), (2763, 0.1777046633277277), (3439, 0.1777046633277277), (3829, 0.1777046633277277), (4013, 0.1777046633277277), (4286, 0.1777046633277277), (2085, 0.17734310717834897), (584, 0.17699808135119718), (1278, 0.17699808135119718), (3306, 0.17699808135119718), (3948, 0.17699808135119718), (4312, 0.17576247754451405), (2514, 0.17521916101261562), (2946, 0.17521916101261562), (3405, 0.17521916101261562), (2247, 0.1752191610126156), (2573, 0.1752191610126156), (224, 0.1748149640244195), (620, 0.1748149640244195), (1431, 0.1748149640244195), (1902, 0.1748149640244195), (2291, 0.1748149640244195), (3851, 0.1748149640244195), (4428, 0.1748149640244195), (587, 0.17316974359835272), (1243, 0.17316974359835272), (1369, 0.17316974359835272), (2560, 0.17316974359835272), (3075, 0.17316974359835272), (1183, 0.17292861596651865), (1873, 0.17292861596651865), (3239, 0.17292861596651865), (4515, 0.17292861596651865), (2685, 0.17206180040292132), (4132, 0.17206180040292132), (4670, 0.17206180040292132), (98, 0.1720618004029213), (608, 0.1720618004029213), (1311, 0.1720618004029213), (2730, 0.1711905958155815), (2815, 0.17119059581558146), (3775, 0.17040572913692198), (189, 0.16943474841747153), (329, 0.16943474841747153), (739, 0.16943474841747153), (1113, 0.16943474841747153), (1515, 0.16943474841747153), (1606, 0.16943474841747153), (3841, 0.16943474841747153), (1233, 0.16927779169233606), (2007, 0.16927779169233606), (678, 0.1691275228729346), (3762, 0.1691275228729346), (3287, 0.1685854460847049), (79, 0.16742770563222897), (3883, 0.16742770563222897), (30, 0.16692446522239718), (978, 0.16692446522239718), (1740, 0.16692446522239718), (196, 0.16692446522239715), (581, 0.16692446522239715), (666, 0.16692446522239715), (761, 0.16692446522239715), (1929, 0.16692446522239715), (2609, 0.16692446522239715), (331, 0.1661625969589056), (503, 0.16563698349810535), (1995, 0.16563698349810535), (2532, 0.16563698349810535), (303, 0.16556654463313053), (2029, 0.16556654463313053), (2466, 0.16556654463313053), (2793, 0.16556654463313053), (3774, 0.16556654463313053), (4730, 0.16556654463313053), (3014, 0.16481712868606585), (32, 0.16452254913212452), (121, 0.16452254913212452), (444, 0.16452254913212452), (779, 0.16452254913212452), (904, 0.16452254913212452), (980, 0.16452254913212452), (1086, 0.16452254913212452), (1914, 0.16452254913212452), (3891, 0.16452254913212452), (809, 0.16390251702679645), (305, 0.16222142113076254), (1174, 0.16222142113076254), (1595, 0.16222142113076254), (1846, 0.16222142113076254), (2813, 0.16222142113076254), (3359, 0.16222142113076254), (1477, 0.16222142113076252), (1082, 0.16059101370939324), (19, 0.1600142241187995), (505, 0.1600142241187995), (896, 0.1600142241187995), (1159, 0.1600142241187995), (2633, 0.1600142241187995), (2736, 0.1600142241187995), (4106, 0.1600142241187995), (858, 0.15907119074394446), (1009, 0.15907119074394446), (1358, 0.15907119074394446), (1803, 0.15907119074394446), (1822, 0.15907119074394446), (2313, 0.15907119074394446), (3423, 0.15907119074394446), (4221, 0.15907119074394446), (4539, 0.15907119074394446), (4646, 0.15907119074394446), (3229, 0.15900879764848913), (96, 0.15789473684210528), (369, 0.15789473684210528), (470, 0.15789473684210528), (638, 0.15789473684210528), (852, 0.15789473684210528), (1293, 0.15789473684210528), (3477, 0.15789473684210528), (4507, 0.15789473684210528), (4772, 0.15789473684210528), (2757, 0.15747244473304667), (2222, 0.15737789507292674), (3921, 0.15737789507292674), (4256, 0.15737789507292674), (103, 0.1560976352636157), (644, 0.1560976352636157), (1474, 0.1560976352636157), (3112, 0.1560976352636157), (299, 0.15609763526361567), (1779, 0.15609763526361567), (2999, 0.15609763526361567), (4159, 0.15609763526361567), (4732, 0.15609763526361567), (2773, 0.15597978123755527), (18, 0.15585730003983933), (694, 0.15585730003983933), (1244, 0.15585730003983933), (1630, 0.15585730003983933), (2303, 0.15585730003983933), (3010, 0.15585730003983933), (3753, 0.15585730003983933), (4209, 0.15585730003983933), (2307, 0.15452877499092177), (1202, 0.1540171257313038), (3315, 0.1540171257313038), (24, 0.15389675281277312), (315, 0.15389675281277312), (946, 0.15389675281277312), (1837, 0.15389675281277312), (2178, 0.15389675281277312), (3053, 0.15389675281277312), (3334, 0.15389675281277312), (3351, 0.15389675281277312), (3971, 0.15389675281277312), (2061, 0.15328483487124145), (2342, 0.15328483487124145), (2586, 0.15328483487124145), (2824, 0.15328483487124145), (3030, 0.15328483487124145), (4028, 0.15328483487124145), (4041, 0.15328483487124145), (4239, 0.15328483487124145), (3503, 0.15294382258037453), (484, 0.152008377581442), (1038, 0.152008377581442), (2742, 0.152008377581442), (3466, 0.152008377581442), (4167, 0.152008377581442), (2522, 0.15200837758144198), (1747, 0.151744244666721), (2592, 0.151744244666721), (53, 0.15061880828219448), (113, 0.15061880828219448), (198, 0.15061880828219448), (480, 0.15061880828219448), (1048, 0.15061880828219448), (1124, 0.15061880828219448), (1320, 0.15061880828219448), (1652, 0.15061880828219448), (2108, 0.15061880828219448), (2212, 0.15061880828219448), (2234, 0.15061880828219448), (2275, 0.15061880828219448), (3203, 0.15061880828219448), (3550, 0.15061880828219448), (3628, 0.15061880828219448), (3905, 0.15061880828219448), (4135, 0.15061880828219448), (3538, 0.15040726490773904), (324, 0.15018785229652767), (929, 0.15018785229652767), (2260, 0.15018785229652767), (2340, 0.15018785229652767), (1889, 0.15018785229652765), (2170, 0.15018785229652765), (4200, 0.15018785229652765), (1461, 0.14910501299480672), (1368, 0.14886458551295736), (250, 0.14843120879858804), (43, 0.14808721943977307), (101, 0.14808721943977307), (1015, 0.14808721943977307), (1162, 0.14808721943977307), (1792, 0.14808721943977307), (1847, 0.14808721943977307), (1976, 0.14808721943977307), (2435, 0.14808721943977307), (2454, 0.14808721943977307), (116, 0.14673479641335557), (2470, 0.14673479641335557), (3417, 0.14673479641335557), (4608, 0.14673479641335557), (1527, 0.14673479641335554), (75, 0.14567913668701626), (197, 0.14567913668701626), (833, 0.14567913668701626), (920, 0.14567913668701626), (1453, 0.14567913668701626), (1469, 0.14567913668701626), (1655, 0.14567913668701626), (1804, 0.14567913668701626), (2069, 0.14567913668701626), (2142, 0.14567913668701626), (2496, 0.14567913668701626), (2812, 0.14567913668701626), (3668, 0.14567913668701626), (3833, 0.14567913668701626), (2556, 0.14509525002200235), (3599, 0.14509525002200235), (2833, 0.14509525002200233), (3326, 0.14509525002200233), (3754, 0.14509525002200233), (3972, 0.14509525002200233), (4154, 0.14509525002200233), (4399, 0.14509525002200233), (4526, 0.14509525002200233), (4580, 0.14509525002200233), (1787, 0.14350946197048198), (207, 0.1433848336691011), (495, 0.1433848336691011), (708, 0.1433848336691011), (1063, 0.1433848336691011), (1279, 0.1433848336691011), (1720, 0.1433848336691011), (1794, 0.1433848336691011), (1848, 0.1433848336691011), (2223, 0.1433848336691011), (2334, 0.1433848336691011), (2417, 0.1433848336691011), (2584, 0.1433848336691011), (2647, 0.1433848336691011), (2796, 0.1433848336691011), (3086, 0.1433848336691011), (4011, 0.1433848336691011), (4158, 0.1433848336691011), (4319, 0.1433848336691011), (4356, 0.1433848336691011), (4388, 0.1433848336691011), (1439, 0.1419745572840903), (4749, 0.1419745572840903), (4037, 0.14194374348941724), (715, 0.14159846508095775), (1897, 0.14159846508095775), (3679, 0.14159846508095775), (4386, 0.14159846508095775), (4408, 0.14159846508095775), (4625, 0.14159846508095775), (4713, 0.14159846508095775), (31, 0.1411956236812263), (93, 0.1411956236812263), (199, 0.1411956236812263), (259, 0.1411956236812263), (403, 0.1411956236812263), (426, 0.1411956236812263), (476, 0.1411956236812263), (930, 0.1411956236812263), (1097, 0.1411956236812263), (1125, 0.1411956236812263), (1392, 0.1411956236812263), (1507, 0.1411956236812263), (2310, 0.1411956236812263), (3347, 0.1411956236812263), (3770, 0.1411956236812263), (3854, 0.1411956236812263), (4203, 0.1411956236812263), (2597, 0.14048787173725413), (41, 0.1391037210186643), (52, 0.1391037210186643), (108, 0.1391037210186643), (318, 0.1391037210186643), (1500, 0.1391037210186643), (1982, 0.1391037210186643), (1999, 0.1391037210186643), (2343, 0.1391037210186643), (2753, 0.1391037210186643), (2860, 0.1391037210186643), (2982, 0.1391037210186643), (3293, 0.1391037210186643), (3717, 0.1391037210186643), (3865, 0.1391037210186643), (4259, 0.1391037210186643), (4267, 0.1391037210186643), (4392, 0.1391037210186643), (4535, 0.1391037210186643), (1967, 0.13904693239779647), (1564, 0.13904693239779645), (2399, 0.13904693239779645), (58, 0.13834289277321493), (518, 0.13834289277321493), (1289, 0.13834289277321493), (1503, 0.13834289277321493), (2114, 0.13834289277321493), (2322, 0.13834289277321493), (627, 0.13764944032233706), (1996, 0.13764944032233706), (2638, 0.13764944032233706), (268, 0.13710212427677043), (387, 0.13710212427677043), (446, 0.13710212427677043), (542, 0.13710212427677043), (634, 0.13710212427677043), (665, 0.13710212427677043), (721, 0.13710212427677043), (854, 0.13710212427677043), (1078, 0.13710212427677043), (1175, 0.13710212427677043), (1605, 0.13710212427677043), (1689, 0.13710212427677043), (1943, 0.13710212427677043), (2054, 0.13710212427677043), (2296, 0.13710212427677043), (2384, 0.13710212427677043), (3108, 0.13710212427677043), (3758, 0.13710212427677043), (4339, 0.13710212427677043), (2336, 0.13629325512727639), (4153, 0.13530201829834768), (23, 0.13518451760896877), (578, 0.13518451760896877), (1292, 0.13518451760896877), (1435, 0.13518451760896877), (1497, 0.13518451760896877), (1765, 0.13518451760896877), (2225, 0.13518451760896877), (2387, 0.13518451760896877), (2777, 0.13518451760896877), (3031, 0.13518451760896877), (4098, 0.13518451760896877), (4211, 0.13518451760896877), (901, 0.13497638119975428), (2191, 0.13497638119975428), (4110, 0.1345726220504978), (135, 0.13334518676566626), (527, 0.13334518676566626), (1192, 0.13334518676566626), (1214, 0.13334518676566626), (1271, 0.13334518676566626), (1992, 0.13334518676566626), (2780, 0.13334518676566626), (2978, 0.13334518676566626), (3236, 0.13334518676566626), (3782, 0.13334518676566626), (3874, 0.13334518676566626), (4182, 0.13334518676566626), (448, 0.13290606860251744), (447, 0.1324532357065044), (537, 0.1324532357065044), (958, 0.1324532357065044), (1834, 0.1324532357065044), (2202, 0.1324532357065044), (2931, 0.1324532357065044), (2959, 0.1324532357065044), (3127, 0.1324532357065044), (3318, 0.1324532357065044), (3332, 0.1324532357065044), (3333, 0.1324532357065044), (3778, 0.1324532357065044), (4105, 0.1324532357065044), (4300, 0.1324532357065044), (4313, 0.1324532357065044), (4506, 0.1324532357065044), (4778, 0.1324532357065044), (4701, 0.13245323570650439), (364, 0.13157894736842107), (827, 0.13157894736842107), (959, 0.13157894736842107), (1370, 0.13157894736842107), (1380, 0.13157894736842107), (2066, 0.13157894736842107), (2849, 0.13157894736842107), (3184, 0.13157894736842107), (1177, 0.13124359177794215), (1963, 0.130066495428618), (2574, 0.130066495428618), (2631, 0.130066495428618), (4295, 0.130066495428618), (677, 0.12988108336653278), (1187, 0.12988108336653278), (1220, 0.12988108336653278), (1775, 0.12988108336653278), (2285, 0.12988108336653278), (2349, 0.12988108336653278), (4717, 0.12988108336653278), (131, 0.12977713690461004), (208, 0.12977713690461004), (213, 0.12977713690461004), (319, 0.12977713690461004), (597, 0.12977713690461004), (826, 0.12977713690461004), (828, 0.12977713690461004), (841, 0.12977713690461004), (842, 0.12977713690461004), (1141, 0.12977713690461004), (1259, 0.12977713690461004), (1506, 0.12977713690461004), (1675, 0.12977713690461004), (1910, 0.12977713690461004), (2510, 0.12977713690461004), (2583, 0.12977713690461004), (2878, 0.12977713690461004), (4008, 0.12977713690461004), (4522, 0.12977713690461004), (292, 0.12824729401064427), (941, 0.12824729401064427), (2160, 0.12824729401064427), (2675, 0.12824729401064427), (4062, 0.12824729401064427), (4071, 0.12824729401064427), (2914, 0.12780429685269148), (204, 0.12725695259515557), (205, 0.12725695259515557), (343, 0.12725695259515557), (547, 0.12725695259515557), (755, 0.12725695259515557), (791, 0.12725695259515557), (1254, 0.12725695259515557), (1574, 0.12725695259515557), (1669, 0.12725695259515557), (1913, 0.12725695259515557), (1991, 0.12725695259515557), (2035, 0.12725695259515557), (2233, 0.12725695259515557), (2364, 0.12725695259515557), (2430, 0.12725695259515557), (2444, 0.12725695259515557), (2859, 0.12725695259515557), (3260, 0.12725695259515557), (3935, 0.12725695259515557), (3959, 0.12725695259515557), (3984, 0.12725695259515557), (4045, 0.12725695259515557), (4177, 0.12725695259515557), (411, 0.126673647984535), (494, 0.126673647984535), (918, 0.126673647984535), (1428, 0.126673647984535), (1800, 0.126673647984535), (1802, 0.126673647984535), (2036, 0.126673647984535), (2884, 0.126673647984535), (2001, 0.12565617248750865), (4411, 0.12565617248750865), (483, 0.12515654358043973), (1016, 0.12515654358043973), (1109, 0.12515654358043973), (1207, 0.12515654358043973), (219, 0.12487810821089254), (252, 0.12487810821089254), (296, 0.12487810821089254), (433, 0.12487810821089254), (1118, 0.12487810821089254), (1245, 0.12487810821089254), (1390, 0.12487810821089254), (1635, 0.12487810821089254), (1674, 0.12487810821089254), (1850, 0.12487810821089254), (1894, 0.12487810821089254), (2098, 0.12487810821089254), (2105, 0.12487810821089254), (3186, 0.12487810821089254), (3528, 0.12487810821089254), (3634, 0.12487810821089254), (3819, 0.12487810821089254), (3868, 0.12487810821089254), (3988, 0.12487810821089254), (4099, 0.12487810821089254), (4375, 0.12487810821089254), (4760, 0.12487810821089254), (1668, 0.12369267399882337), (366, 0.12369267399882336), (513, 0.12369267399882336), (2553, 0.12369267399882336), (3111, 0.12369267399882336), (4127, 0.12369267399882336), (20, 0.12262786789699316), (50, 0.12262786789699316), (265, 0.12262786789699316), (327, 0.12262786789699316), (560, 0.12262786789699316), (606, 0.12262786789699316), (672, 0.12262786789699316), (766, 0.12262786789699316), (790, 0.12262786789699316), (981, 0.12262786789699316), (992, 0.12262786789699316), (1858, 0.12262786789699316), (1869, 0.12262786789699316), (2715, 0.12262786789699316), (2829, 0.12262786789699316), (3168, 0.12262786789699316), (3626, 0.12262786789699316), (3848, 0.12262786789699316), (4050, 0.12262786789699316), (4355, 0.12262786789699316), (4496, 0.12262786789699316), (1165, 0.12227899701112964), (1685, 0.12227899701112964), (2667, 0.12227899701112964), (3001, 0.12227899701112964), (1064, 0.12227899701112963), (2708, 0.12166606584807191), (4142, 0.12166606584807191), (4160, 0.12166606584807191), (2439, 0.12091270835166862), (2986, 0.12091270835166862), (3177, 0.12091270835166862), (9, 0.1204950466257556), (42, 0.1204950466257556), (211, 0.1204950466257556), (271, 0.1204950466257556), (276, 0.1204950466257556), (316, 0.1204950466257556), (571, 0.1204950466257556), (690, 0.1204950466257556), (767, 0.1204950466257556), (847, 0.1204950466257556), (880, 0.1204950466257556), (933, 0.1204950466257556), (935, 0.1204950466257556), (982, 0.1204950466257556), (1034, 0.1204950466257556), (1073, 0.1204950466257556), (1110, 0.1204950466257556), (1230, 0.1204950466257556), (1234, 0.1204950466257556), (1771, 0.1204950466257556), (2308, 0.1204950466257556), (3464, 0.1204950466257556), (3685, 0.1204950466257556), (4063, 0.1204950466257556), (4329, 0.1204950466257556), (4527, 0.1204950466257556), (4604, 0.1204950466257556), (633, 0.11959121830873498), (1282, 0.11959121830873498), (1404, 0.11959121830873498), (2022, 0.11959121830873498), (2091, 0.11959121830873498), (36, 0.11846977555181847), (39, 0.11846977555181847), (152, 0.11846977555181847), (212, 0.11846977555181847), (352, 0.11846977555181847), (555, 0.11846977555181847), (948, 0.11846977555181847), (955, 0.11846977555181847), (1203, 0.11846977555181847), (1265, 0.11846977555181847), (1303, 0.11846977555181847), (1375, 0.11846977555181847), (1470, 0.11846977555181847), (1707, 0.11846977555181847), (1863, 0.11846977555181847), (2230, 0.11846977555181847), (2645, 0.11846977555181847), (3138, 0.11846977555181847), (3507, 0.11846977555181847), (3648, 0.11846977555181847), (81, 0.11831213107007527), (340, 0.11831213107007527), (794, 0.11831213107007527), (2042, 0.11831213107007527), (2104, 0.11831213107007527), (4233, 0.11803342130469505), (4285, 0.11803342130469505), (2366, 0.11707322644771177), (3837, 0.11707322644771177), (2004, 0.11707322644771176), (40, 0.116543309349613), (64, 0.116543309349613), (139, 0.116543309349613), (351, 0.116543309349613), (554, 0.116543309349613), (613, 0.116543309349613), (617, 0.116543309349613), (636, 0.116543309349613), (815, 0.116543309349613), (873, 0.116543309349613), (1095, 0.116543309349613), (1181, 0.116543309349613), (1272, 0.116543309349613), (1346, 0.116543309349613), (1596, 0.116543309349613), (1687, 0.116543309349613), (1939, 0.116543309349613), (2015, 0.116543309349613), (2025, 0.116543309349613), (2078, 0.116543309349613), (2195, 0.116543309349613), (2249, 0.116543309349613), (2363, 0.116543309349613), (2425, 0.116543309349613), (2431, 0.116543309349613), (2540, 0.116543309349613), (2940, 0.116543309349613), (3011, 0.116543309349613), (3141, 0.116543309349613), (3349, 0.116543309349613), (3726, 0.116543309349613), (3733, 0.116543309349613), (4079, 0.116543309349613), (2456, 0.11650496642725608), (3400, 0.1147078669352809), (3485, 0.1147078669352809), (3724, 0.1147078669352809), (3857, 0.1147078669352809), (3991, 0.1147078669352809), (0, 0.11470786693528087), (100, 0.11470786693528087), (126, 0.11470786693528087), (160, 0.11470786693528087), (1025, 0.11470786693528087), (1397, 0.11470786693528087), (1490, 0.11470786693528087), (1791, 0.11470786693528087), (1813, 0.11470786693528087), (1981, 0.11470786693528087), (2100, 0.11470786693528087), (2159, 0.11470786693528087), (2625, 0.11470786693528087), (2993, 0.11470786693528087), (3446, 0.11470786693528087), (3624, 0.11470786693528087), (3743, 0.11470786693528087), (3791, 0.11470786693528087), (4391, 0.11470786693528087), (4440, 0.11470786693528087), (4638, 0.11470786693528087), (150, 0.11295649894498103), (334, 0.11295649894498103), (384, 0.11295649894498103), (676, 0.11295649894498103), (821, 0.11295649894498103), (839, 0.11295649894498103), (1075, 0.11295649894498103), (1361, 0.11295649894498103), (1565, 0.11295649894498103), (1946, 0.11295649894498103), (2046, 0.11295649894498103), (2136, 0.11295649894498103), (2163, 0.11295649894498103), (2276, 0.11295649894498103), (2311, 0.11295649894498103), (2704, 0.11295649894498103), (3049, 0.11295649894498103), (3063, 0.11295649894498103), (3401, 0.11295649894498103), (4088, 0.11295649894498103), (4555, 0.11295649894498103), (4727, 0.11295649894498103), (323, 0.11164843913471803), (588, 0.11164843913471803), (1600, 0.11164843913471803), (1701, 0.11164843913471803), (2055, 0.11164843913471803), (3945, 0.11164843913471803), (4599, 0.11164843913471803), (4621, 0.11164843913471803), (3966, 0.11141412945539662), (673, 0.11141412945539661), (275, 0.11128297681493143), (332, 0.11128297681493143), (583, 0.11128297681493143), (592, 0.11128297681493143), (728, 0.11128297681493143), (782, 0.11128297681493143), (788, 0.11128297681493143), (856, 0.11128297681493143), (867, 0.11128297681493143), (1275, 0.11128297681493143), (1592, 0.11128297681493143), (1785, 0.11128297681493143), (1944, 0.11128297681493143), (2048, 0.11128297681493143), (2094, 0.11128297681493143), (2237, 0.11128297681493143), (2797, 0.11128297681493143), (3232, 0.11128297681493143), (3246, 0.11128297681493143), (3414, 0.11128297681493143), (3757, 0.11128297681493143), (3802, 0.11128297681493143), (3914, 0.11128297681493143), (4228, 0.11128297681493143), (4283, 0.11128297681493143), (4666, 0.11128297681493143), (2068, 0.11037769642208699), (3390, 0.11037769642208699), (4164, 0.11037769642208699), (73, 0.10968169942141635), (175, 0.10968169942141635), (220, 0.10968169942141635), (308, 0.10968169942141635), (574, 0.10968169942141635), (647, 0.10968169942141635), (656, 0.10968169942141635), (691, 0.10968169942141635), (741, 0.10968169942141635), (744, 0.10968169942141635), (874, 0.10968169942141635), (1050, 0.10968169942141635), (1103, 0.10968169942141635), (1217, 0.10968169942141635), (1484, 0.10968169942141635), (1746, 0.10968169942141635), (1782, 0.10968169942141635), (1966, 0.10968169942141635), (2331, 0.10968169942141635), (2368, 0.10968169942141635), (2726, 0.10968169942141635), (2961, 0.10968169942141635), (3828, 0.10968169942141635), (4032, 0.10968169942141635), (4383, 0.10968169942141635), (1215, 0.10936965981495178), (3866, 0.10936965981495178), (4579, 0.10936965981495178), (162, 0.10882143751650175), (2394, 0.10882143751650175), (4311, 0.10882143751650175), (4791, 0.10882143751650175), (291, 0.10814761408717502), (454, 0.10814761408717502), (1030, 0.10814761408717502), (1146, 0.10814761408717502), (1216, 0.10814761408717502), (1300, 0.10814761408717502), (1492, 0.10814761408717502), (1653, 0.10814761408717502), (1731, 0.10814761408717502), (1907, 0.10814761408717502), (2099, 0.10814761408717502), (2676, 0.10814761408717502), (3056, 0.10814761408717502), (3546, 0.10814761408717502), (4605, 0.10814761408717502), (4735, 0.10814761408717502), (516, 0.106676149412533), (800, 0.106676149412533), (964, 0.106676149412533), (1091, 0.106676149412533), (1160, 0.106676149412533), (1473, 0.106676149412533), (1881, 0.106676149412533), (2014, 0.106676149412533), (2062, 0.106676149412533), (2126, 0.106676149412533), (3106, 0.106676149412533), (3644, 0.106676149412533), (4350, 0.106676149412533), (750, 0.10619884881071831), (1087, 0.10619884881071831), (1692, 0.10619884881071831), (2321, 0.10619884881071831), (2360, 0.10619884881071831), (2646, 0.10619884881071831), (3051, 0.10619884881071831), (3284, 0.10619884881071831), (3672, 0.10619884881071831), (3934, 0.10559715077387793), (603, 0.10526315789473685), (1029, 0.10526315789473685), (1102, 0.10526315789473685), (2033, 0.10526315789473685), (2536, 0.10526315789473685), (2562, 0.10526315789473685), (2887, 0.10526315789473685), (4189, 0.10526315789473685), (4704, 0.10526315789473685), (4726, 0.10526315789473685), (618, 0.10390486669322622), (752, 0.10390486669322622), (2052, 0.10390486669322622), (2545, 0.10390486669322622), (2659, 0.10390486669322622), (2703, 0.10390486669322622), (2790, 0.10390486669322622), (2816, 0.10390486669322622), (2927, 0.10390486669322622), (3253, 0.10390486669322622), (3383, 0.10390486669322622), (3604, 0.10390486669322622), (3698, 0.10390486669322622), (4326, 0.10390486669322622), (600, 0.1037571695799112), (881, 0.1037571695799112), (1579, 0.1037571695799112), (2182, 0.1037571695799112), (2378, 0.1037571695799112), (2899, 0.1037571695799112), (3355, 0.1037571695799112), (3771, 0.1037571695799112), (3965, 0.1037571695799112), (4472, 0.1037571695799112), (163, 0.10259783520851541), (174, 0.10259783520851541), (825, 0.10259783520851541), (1112, 0.10259783520851541), (1237, 0.10259783520851541), (1870, 0.10259783520851541), (2086, 0.10259783520851541), (3073, 0.10259783520851541), (3529, 0.10259783520851541), (3700, 0.10259783520851541), (3916, 0.10259783520851541), (4352, 0.10259783520851541), (4418, 0.10259783520851541), (4643, 0.10259783520851541), (216, 0.10147651372376076), (497, 0.10147651372376076), (748, 0.10147651372376076), (774, 0.10147651372376076), (1628, 0.10147651372376076), (1816, 0.10147651372376076), (2362, 0.10147651372376076), (2507, 0.10147651372376076), (2771, 0.10147651372376076), (2864, 0.10147651372376076), (3335, 0.10147651372376076), (3361, 0.10147651372376076), (3667, 0.10147651372376076), (3836, 0.10147651372376076), (2026, 0.10138838820672659), (3878, 0.10138838820672659), (95, 0.101338918387628), (489, 0.101338918387628), (743, 0.101338918387628), (1001, 0.101338918387628), (1111, 0.101338918387628), (1467, 0.101338918387628), (2049, 0.101338918387628), (2169, 0.101338918387628), (3242, 0.101338918387628), (3748, 0.101338918387628), (3860, 0.101338918387628), (1153, 0.10012523486435178), (1264, 0.10012523486435178), (1451, 0.10012523486435178), (3143, 0.10012523486435178), (3492, 0.10012523486435178), (3899, 0.09984038297885897), (35, 0.09933992677987831), (161, 0.09933992677987831), (261, 0.09933992677987831), (415, 0.09933992677987831), (438, 0.09933992677987831), (523, 0.09933992677987831), (726, 0.09933992677987831), (869, 0.09933992677987831), (1020, 0.09933992677987831), (1342, 0.09933992677987831), (1421, 0.09933992677987831), (1682, 0.09933992677987831), (2614, 0.09933992677987831), (2713, 0.09933992677987831), (2814, 0.09933992677987831), (3142, 0.09933992677987831), (3515, 0.09933992677987831), (4514, 0.09933992677987831), (1578, 0.0989541391990587), (1830, 0.0989541391990587), (2727, 0.0989541391990587), (2756, 0.0989541391990587), (2985, 0.0989541391990587), (3227, 0.0989541391990587), (4378, 0.0989541391990587), (4672, 0.0989541391990587), (245, 0.0978231976089037), (615, 0.0978231976089037), (1795, 0.0978231976089037), (2096, 0.0978231976089037), (3321, 0.0978231976089037), (3983, 0.0978231976089037), (4238, 0.09764582085806336), (8, 0.09733285267845754), (80, 0.09733285267845754), (158, 0.09733285267845754), (242, 0.09733285267845754), (425, 0.09733285267845754), (431, 0.09733285267845754), (533, 0.09733285267845754), (534, 0.09733285267845754), (732, 0.09733285267845754), (1144, 0.09733285267845754), (1257, 0.09733285267845754), (1377, 0.09733285267845754), (1394, 0.09733285267845754), (1417, 0.09733285267845754), (1629, 0.09733285267845754), (1987, 0.09733285267845754), (2034, 0.09733285267845754), (2302, 0.09733285267845754), (2415, 0.09733285267845754), (2741, 0.09733285267845754), (2835, 0.09733285267845754), (3151, 0.09733285267845754), (3208, 0.09733285267845754), (3243, 0.09733285267845754), (3518, 0.09733285267845754), (525, 0.0967301666813349), (1119, 0.0967301666813349), (393, 0.09567297464698798), (405, 0.09567297464698798), (1561, 0.09567297464698798), (3490, 0.09567297464698798), (4482, 0.09567297464698798), (4626, 0.09567297464698798), (4742, 0.09567297464698798), (12, 0.09544271444636668), (90, 0.09544271444636668), (122, 0.09544271444636668), (165, 0.09544271444636668), (279, 0.09544271444636668), (361, 0.09544271444636668), (437, 0.09544271444636668), (479, 0.09544271444636668), (499, 0.09544271444636668), (657, 0.09544271444636668), (706, 0.09544271444636668), (740, 0.09544271444636668), (763, 0.09544271444636668), (879, 0.09544271444636668), (898, 0.09544271444636668), (993, 0.09544271444636668), (1070, 0.09544271444636668), (1092, 0.09544271444636668), (1196, 0.09544271444636668), (1241, 0.09544271444636668), (1305, 0.09544271444636668), (1324, 0.09544271444636668), (1548, 0.09544271444636668), (1566, 0.09544271444636668), (1633, 0.09544271444636668), (1931, 0.09544271444636668), (1978, 0.09544271444636668), (2002, 0.09544271444636668), (2177, 0.09544271444636668), (2203, 0.09544271444636668), (2214, 0.09544271444636668), (2372, 0.09544271444636668), (2448, 0.09544271444636668), (2571, 0.09544271444636668), (2579, 0.09544271444636668), (2740, 0.09544271444636668), (2823, 0.09544271444636668), (3617, 0.09544271444636668), (3939, 0.09544271444636668), (2524, 0.09490244150051268), (353, 0.09464970485606021), (1519, 0.09464970485606021), (1563, 0.09464970485606021), (2346, 0.09464970485606021), (2953, 0.09464970485606021), (1316, 0.09428928580058929), (111, 0.09365858115816941), (137, 0.09365858115816941), (148, 0.09365858115816941), (229, 0.09365858115816941), (240, 0.09365858115816941), (287, 0.09365858115816941), (350, 0.09365858115816941), (367, 0.09365858115816941), (664, 0.09365858115816941), (696, 0.09365858115816941), (762, 0.09365858115816941), (777, 0.09365858115816941), (884, 0.09365858115816941), (931, 0.09365858115816941), (998, 0.09365858115816941), (1238, 0.09365858115816941), (1269, 0.09365858115816941), (1294, 0.09365858115816941), (1312, 0.09365858115816941), (1362, 0.09365858115816941), (1411, 0.09365858115816941), (1535, 0.09365858115816941), (1826, 0.09365858115816941), (1857, 0.09365858115816941), (2258, 0.09365858115816941), (2301, 0.09365858115816941), (2398, 0.09365858115816941), (2400, 0.09365858115816941), (2413, 0.09365858115816941), (2492, 0.09365858115816941), (2809, 0.09365858115816941), (2897, 0.09365858115816941), (3088, 0.09365858115816941), (3281, 0.09365858115816941), (3348, 0.09365858115816941), (3678, 0.09365858115816941), (3765, 0.09365858115816941), (3769, 0.09365858115816941), (4246, 0.09365858115816941), (4252, 0.09365858115816941), (4610, 0.09365858115816941), (4679, 0.09365858115816941), (4688, 0.09365858115816941), (28, 0.09197090092274487), (226, 0.09197090092274487), (376, 0.09197090092274487), (388, 0.09197090092274487), (413, 0.09197090092274487), (419, 0.09197090092274487), (434, 0.09197090092274487), (577, 0.09197090092274487), (654, 0.09197090092274487), (838, 0.09197090092274487), (871, 0.09197090092274487), (1081, 0.09197090092274487), (1413, 0.09197090092274487), (1918, 0.09197090092274487), (2018, 0.09197090092274487), (2140, 0.09197090092274487), (2473, 0.09197090092274487), (2778, 0.09197090092274487), (2792, 0.09197090092274487), (3234, 0.09197090092274487), (3404, 0.09197090092274487), (3465, 0.09197090092274487), (3559, 0.09197090092274487), (3826, 0.09197090092274487), (3861, 0.09197090092274487), (3920, 0.09197090092274487), (4155, 0.09197090092274487), (4528, 0.09197090092274487), (4595, 0.09197090092274487), (4724, 0.09197090092274487), (1558, 0.09176629354822471), (1304, 0.09086217008485092), (2461, 0.09086217008485092), (4081, 0.09086217008485092), (99, 0.09037128496931669), (191, 0.09037128496931669), (280, 0.09037128496931669), (326, 0.09037128496931669), (370, 0.09037128496931669), (383, 0.09037128496931669), (466, 0.09037128496931669), (501, 0.09037128496931669), (652, 0.09037128496931669), (717, 0.09037128496931669), (807, 0.09037128496931669), (892, 0.09037128496931669), (899, 0.09037128496931669), (1000, 0.09037128496931669), (1055, 0.09037128496931669), (1227, 0.09037128496931669), (1331, 0.09037128496931669), (1482, 0.09037128496931669), (1594, 0.09037128496931669), (1660, 0.09037128496931669), (1764, 0.09037128496931669), (1896, 0.09037128496931669), (1952, 0.09037128496931669), (1990, 0.09037128496931669), (2102, 0.09037128496931669), (2145, 0.09037128496931669), (2155, 0.09037128496931669), (2179, 0.09037128496931669), (2280, 0.09037128496931669), (2289, 0.09037128496931669), (2365, 0.09037128496931669), (2534, 0.09037128496931669), (2538, 0.09037128496931669), (2577, 0.09037128496931669), (3055, 0.09037128496931669), (3173, 0.09037128496931669), (3294, 0.09037128496931669), (3368, 0.09037128496931669), (3479, 0.09037128496931669), (3586, 0.09037128496931669), (3719, 0.09037128496931669), (3946, 0.09037128496931669), (3981, 0.09037128496931669), (4039, 0.09037128496931669), (4100, 0.09037128496931669), (4291, 0.09037128496931669), (4372, 0.09037128496931669), (4650, 0.09037128496931669), (4767, 0.09037128496931669), (586, 0.08998425413316952), (1024, 0.08998425413316952), (1031, 0.08998425413316952), (2513, 0.08998425413316952), (3218, 0.08998425413316952), (4597, 0.08998425413316952), (4618, 0.08998425413316952), (4663, 0.08998425413316952), (1637, 0.0891313035643173), (13, 0.08885233166386385), (59, 0.08885233166386385), (66, 0.08885233166386385), (112, 0.08885233166386385), (133, 0.08885233166386385), (140, 0.08885233166386385), (159, 0.08885233166386385), (200, 0.08885233166386385), (243, 0.08885233166386385), (247, 0.08885233166386385), (396, 0.08885233166386385), (398, 0.08885233166386385), (408, 0.08885233166386385), (420, 0.08885233166386385), (468, 0.08885233166386385), (544, 0.08885233166386385), (546, 0.08885233166386385), (714, 0.08885233166386385), (758, 0.08885233166386385), (883, 0.08885233166386385), (922, 0.08885233166386385), (979, 0.08885233166386385), (1040, 0.08885233166386385), (1182, 0.08885233166386385), (1270, 0.08885233166386385), (1322, 0.08885233166386385), (1339, 0.08885233166386385), (1419, 0.08885233166386385), (1420, 0.08885233166386385), (1644, 0.08885233166386385), (1820, 0.08885233166386385), (1853, 0.08885233166386385), (1969, 0.08885233166386385), (2242, 0.08885233166386385), (2294, 0.08885233166386385), (2403, 0.08885233166386385), (2568, 0.08885233166386385), (2585, 0.08885233166386385), (2587, 0.08885233166386385), (2819, 0.08885233166386385), (3120, 0.08885233166386385), (3247, 0.08885233166386385), (3291, 0.08885233166386385), (3475, 0.08885233166386385), (3567, 0.08885233166386385), (3592, 0.08885233166386385), (3795, 0.08885233166386385), (3832, 0.08885233166386385), (3859, 0.08885233166386385), (4146, 0.08885233166386385), (4222, 0.08885233166386385), (4789, 0.08885233166386385), (4010, 0.08749572785196143), (22, 0.08740748201220976), (27, 0.08740748201220976), (102, 0.08740748201220976), (172, 0.08740748201220976), (412, 0.08740748201220976), (469, 0.08740748201220976), (539, 0.08740748201220976), (563, 0.08740748201220976), (759, 0.08740748201220976), (1027, 0.08740748201220976), (1236, 0.08740748201220976), (1298, 0.08740748201220976), (1612, 0.08740748201220976), (1680, 0.08740748201220976), (1734, 0.08740748201220976), (1936, 0.08740748201220976), (2021, 0.08740748201220976), (2480, 0.08740748201220976), (2839, 0.08740748201220976), (3202, 0.08740748201220976), (3209, 0.08740748201220976), (3244, 0.08740748201220976), (3352, 0.08740748201220976), (3501, 0.08740748201220976), (3662, 0.08740748201220976), (3784, 0.08740748201220976), (4053, 0.08740748201220976), (4733, 0.08740748201220976), (2687, 0.08671099695241201), (3888, 0.08671099695241201), (4184, 0.08671099695241201), (4430, 0.08671099695241201), (4584, 0.08671099695241201), (182, 0.08603090020146065), (237, 0.08603090020146065), (281, 0.08603090020146065), (293, 0.08603090020146065), (310, 0.08603090020146065), (358, 0.08603090020146065), (402, 0.08603090020146065), (410, 0.08603090020146065), (582, 0.08603090020146065), (591, 0.08603090020146065), (675, 0.08603090020146065), (702, 0.08603090020146065), (719, 0.08603090020146065), (772, 0.08603090020146065), (886, 0.08603090020146065), (1239, 0.08603090020146065), (1343, 0.08603090020146065), (1422, 0.08603090020146065), (1440, 0.08603090020146065), (1468, 0.08603090020146065), (1495, 0.08603090020146065), (1537, 0.08603090020146065), (1643, 0.08603090020146065), (1664, 0.08603090020146065), (1671, 0.08603090020146065), (1750, 0.08603090020146065), (1757, 0.08603090020146065), (1927, 0.08603090020146065), (1957, 0.08603090020146065), (2197, 0.08603090020146065), (2915, 0.08603090020146065), (2964, 0.08603090020146065), (3290, 0.08603090020146065), (3336, 0.08603090020146065), (3548, 0.08603090020146065), (4017, 0.08603090020146065), (4442, 0.08603090020146065), (4498, 0.08603090020146065), (915, 0.08594700851870801), (1046, 0.08520286456846099), (63, 0.08471737420873576), (114, 0.08471737420873576), (115, 0.08471737420873576), (125, 0.08471737420873576), (234, 0.08471737420873576), (485, 0.08471737420873576), (531, 0.08471737420873576), (624, 0.08471737420873576), (746, 0.08471737420873576), (1122, 0.08471737420873576), (1575, 0.08471737420873576), (1722, 0.08471737420873576), (1974, 0.08471737420873576), (2305, 0.08471737420873576), (2478, 0.08471737420873576), (2615, 0.08471737420873576), (2783, 0.08471737420873576), (2862, 0.08471737420873576), (3020, 0.08471737420873576), (3050, 0.08471737420873576), (3237, 0.08471737420873576), (3303, 0.08471737420873576), (3337, 0.08471737420873576), (3434, 0.08471737420873576), (3449, 0.08471737420873576), (3462, 0.08471737420873576), (3584, 0.08471737420873576), (3591, 0.08471737420873576), (3845, 0.08471737420873576), (4393, 0.08471737420873576), (2591, 0.0837707816583391), (3080, 0.0837707816583391), (3371, 0.0837707816583391), (3714, 0.0837707816583391), (4047, 0.0837707816583391), (4493, 0.0837707816583391), (4552, 0.0837707816583391), (4, 0.08346223261119858), (89, 0.08346223261119858), (117, 0.08346223261119858), (238, 0.08346223261119858), (500, 0.08346223261119858), (535, 0.08346223261119858), (775, 0.08346223261119858), (934, 0.08346223261119858), (974, 0.08346223261119858), (1138, 0.08346223261119858), (1176, 0.08346223261119858), (1334, 0.08346223261119858), (1571, 0.08346223261119858), (1585, 0.08346223261119858), (1661, 0.08346223261119858), (1780, 0.08346223261119858), (1790, 0.08346223261119858), (1807, 0.08346223261119858), (1839, 0.08346223261119858), (1900, 0.08346223261119858), (2324, 0.08346223261119858), (2429, 0.08346223261119858), (2488, 0.08346223261119858), (2539, 0.08346223261119858), (2639, 0.08346223261119858), (2732, 0.08346223261119858), (3035, 0.08346223261119858), (3097, 0.08346223261119858), (3709, 0.08346223261119858), (4163, 0.08346223261119858), (88, 0.08226127456606226), (269, 0.08226127456606226), (300, 0.08226127456606226), (452, 0.08226127456606226), (643, 0.08226127456606226), (846, 0.08226127456606226), (1328, 0.08226127456606226), (1458, 0.08226127456606226), (1632, 0.08226127456606226), (1728, 0.08226127456606226), (1758, 0.08226127456606226), (1799, 0.08226127456606226), (1973, 0.08226127456606226), (2008, 0.08226127456606226), (2204, 0.08226127456606226), (2339, 0.08226127456606226), (2371, 0.08226127456606226), (2596, 0.08226127456606226), (2657, 0.08226127456606226), (2731, 0.08226127456606226), (2818, 0.08226127456606226), (3250, 0.08226127456606226), (3277, 0.08226127456606226), (3370, 0.08226127456606226), (3375, 0.08226127456606226), (3440, 0.08226127456606226), (3445, 0.08226127456606226), (3735, 0.08226127456606226), (3998, 0.08226127456606226), (4003, 0.08226127456606226), (4201, 0.08226127456606226), (4518, 0.08226127456606226), (195, 0.08111071056538127), (217, 0.08111071056538127), (400, 0.08111071056538127), (718, 0.08111071056538127), (923, 0.08111071056538127), (1127, 0.08111071056538127), (1134, 0.08111071056538127), (1172, 0.08111071056538127), (1337, 0.08111071056538127), (1348, 0.08111071056538127), (1607, 0.08111071056538127), (1626, 0.08111071056538127), (1672, 0.08111071056538127), (1735, 0.08111071056538127), (1838, 0.08111071056538127), (1861, 0.08111071056538127), (1915, 0.08111071056538127), (1937, 0.08111071056538127), (2057, 0.08111071056538127), (2187, 0.08111071056538127), (2333, 0.08111071056538127), (2376, 0.08111071056538127), (2582, 0.08111071056538127), (3238, 0.08111071056538127), (3499, 0.08111071056538127), (3510, 0.08111071056538127), (3661, 0.08111071056538127), (3889, 0.08111071056538127), (3911, 0.08111071056538127), (3912, 0.08111071056538127), (4144, 0.08111071056538127), (4215, 0.08111071056538127), (4279, 0.08111071056538127), (4325, 0.08111071056538127), (4401, 0.08111071056538127), (4545, 0.08111071056538127), (4645, 0.08111071056538127), (123, 0.08000711205939975), (683, 0.08000711205939975), (914, 0.08000711205939975), (973, 0.08000711205939975), (1058, 0.08000711205939975), (1363, 0.08000711205939975), (1818, 0.08000711205939975), (1878, 0.08000711205939975), (1989, 0.08000711205939975), (2405, 0.08000711205939975), (2557, 0.08000711205939975), (2581, 0.08000711205939975), (2628, 0.08000711205939975), (2759, 0.08000711205939975), (3125, 0.08000711205939975), (3286, 0.08000711205939975), (3616, 0.08000711205939975), (3847, 0.08000711205939975), (4477, 0.08000711205939975), (710, 0.0792740035289418), (328, 0.07894736842105264), (988, 0.07894736842105264), (1721, 0.07894736842105264), (1781, 0.07894736842105264), (2184, 0.07894736842105264), (2383, 0.07894736842105264), (2580, 0.07894736842105264), (3424, 0.07894736842105264), (3520, 0.07894736842105264), (3595, 0.07894736842105264), (3755, 0.07894736842105264), (381, 0.07868894753646337), (1253, 0.07868894753646337), (2869, 0.07868894753646337), (3006, 0.07868894753646337), (3224, 0.07868894753646337), (3527, 0.07868894753646337), (3632, 0.07868894753646337), (3953, 0.07868894753646337), (4774, 0.07868894753646337), (475, 0.07792865001991967), (1005, 0.07792865001991967), (1531, 0.07792865001991967), (1608, 0.07792865001991967), (1877, 0.07792865001991967), (2111, 0.07792865001991967), (2300, 0.07792865001991967), (2455, 0.07792865001991967), (2578, 0.07792865001991967), (3158, 0.07792865001991967), (4739, 0.07792865001991967), (203, 0.07694837640638656), (442, 0.07694837640638656), (456, 0.07694837640638656), (556, 0.07694837640638656), (831, 0.07694837640638656), (939, 0.07694837640638656), (1374, 0.07694837640638656), (1400, 0.07694837640638656), (1538, 0.07694837640638656), (2304, 0.07694837640638656), (2991, 0.07694837640638656), (3305, 0.07694837640638656), (3813, 0.07694837640638656), (4077, 0.07694837640638656), (4448, 0.07694837640638656), (71, 0.07647191129018727), (786, 0.07647191129018727), (1524, 0.07647191129018727), (1597, 0.07647191129018727), (1899, 0.07647191129018727), (2604, 0.07647191129018727), (2779, 0.07647191129018727), (3806, 0.07647191129018727), (4554, 0.07647191129018727), (4569, 0.07647191129018727), (4630, 0.07647191129018727), (1049, 0.076004188790721), (1209, 0.076004188790721), (2868, 0.076004188790721), (3008, 0.076004188790721), (4261, 0.076004188790721), (1852, 0.07543142864047142), (380, 0.07509392614826384), (1412, 0.07509392614826384), (1583, 0.07509392614826384), (2971, 0.07509392614826384), (1665, 0.07443229275647868), (1954, 0.07443229275647868), (2268, 0.07443229275647868), (2426, 0.07443229275647868), (4054, 0.07443229275647868), (4272, 0.07443229275647868), (4324, 0.07443229275647868), (4328, 0.07443229275647868), (69, 0.07421560439929402), (3747, 0.07421560439929402), (4073, 0.07421560439929402), (4084, 0.07421560439929402), (4594, 0.07421560439929402), (1517, 0.07336739820667779), (1663, 0.07336739820667779), (2092, 0.07336739820667777), (1793, 0.07254762501100118), (674, 0.07254762501100116), (866, 0.07254762501100116), (1727, 0.07254762501100116), (2192, 0.07254762501100116), (2277, 0.07254762501100116), (2367, 0.07254762501100116), (2921, 0.07254762501100116), (3144, 0.07254762501100116), (3779, 0.07254762501100116), (3831, 0.07254762501100116), (3849, 0.07254762501100116), (3856, 0.07254762501100116), (3976, 0.07254762501100116), (4048, 0.07254762501100116), (4097, 0.07254762501100116), (4125, 0.07254762501100116), (4461, 0.07254762501100116), (4481, 0.07254762501100116), (4501, 0.07254762501100116), (4616, 0.07254762501100116), (4654, 0.07254762501100116), (4764, 0.07254762501100116), (4782, 0.07254762501100116), (1768, 0.07175473098524099), (2894, 0.07175473098524099), (1726, 0.07098727864204515), (3165, 0.07098727864204515), (57, 0.07079923254047887), (803, 0.07079923254047887), (952, 0.07079923254047887), (1256, 0.07079923254047887), (1912, 0.07079923254047887), (1935, 0.07079923254047887), (2414, 0.07079923254047887), (2437, 0.07079923254047887), (2872, 0.07079923254047887), (2902, 0.07079923254047887), (2928, 0.07079923254047887), (3016, 0.07079923254047887), (3114, 0.07079923254047887), (3220, 0.07079923254047887), (3285, 0.07079923254047887), (3354, 0.07079923254047887), (3412, 0.07079923254047887), (3659, 0.07079923254047887), (3694, 0.07079923254047887), (3710, 0.07079923254047887), (3744, 0.07079923254047887), (3752, 0.07079923254047887), (4677, 0.07079923254047887), (1408, 0.07024393586862707), (109, 0.06952346619889824), (371, 0.06952346619889824), (3093, 0.06952346619889824), (218, 0.06917144638660747), (760, 0.06917144638660747), (936, 0.06917144638660747), (1114, 0.06917144638660747), (1418, 0.06917144638660747), (1479, 0.06917144638660747), (1860, 0.06917144638660747), (2081, 0.06917144638660747), (2227, 0.06917144638660747), (2231, 0.06917144638660747), (2251, 0.06917144638660747), (2261, 0.06917144638660747), (2622, 0.06917144638660747), (2848, 0.06917144638660747), (2861, 0.06917144638660747), (2973, 0.06917144638660747), (3316, 0.06917144638660747), (3669, 0.06917144638660747), (3798, 0.06917144638660747), (4067, 0.06917144638660747), (4108, 0.06917144638660747), (4145, 0.06917144638660747), (4379, 0.06917144638660747), (4763, 0.06917144638660747), (787, 0.06882472016116853), (1659, 0.06882472016116853), (3619, 0.06882472016116853), (3596, 0.06822858385009634), (83, 0.06765100914917384), (345, 0.06765100914917384), (463, 0.06765100914917384), (1074, 0.06765100914917384), (1381, 0.06765100914917384), (1448, 0.06765100914917384), (1478, 0.06765100914917384), (1499, 0.06765100914917384), (1501, 0.06765100914917384), (1621, 0.06765100914917384), (1623, 0.06765100914917384), (1886, 0.06765100914917384), (2295, 0.06765100914917384), (2482, 0.06765100914917384), (2575, 0.06765100914917384), (2775, 0.06765100914917384), (2851, 0.06765100914917384), (3145, 0.06765100914917384), (3180, 0.06765100914917384), (3183, 0.06765100914917384), (3225, 0.06765100914917384), (3308, 0.06765100914917384), (3385, 0.06765100914917384), (3609, 0.06765100914917384), (3623, 0.06765100914917384), (3840, 0.06765100914917384), (3978, 0.06765100914917384), (4030, 0.06765100914917384), (4117, 0.06765100914917384), (4230, 0.06765100914917384), (4475, 0.06765100914917384), (1796, 0.06684847767323797), (2784, 0.06684847767323797), (214, 0.0662266178532522), (427, 0.0662266178532522), (467, 0.0662266178532522), (689, 0.0662266178532522), (897, 0.0662266178532522), (905, 0.0662266178532522), (967, 0.0662266178532522), (970, 0.0662266178532522), (1089, 0.0662266178532522), (1094, 0.0662266178532522), (1169, 0.0662266178532522), (1350, 0.0662266178532522), (1427, 0.0662266178532522), (1514, 0.0662266178532522), (1525, 0.0662266178532522), (1529, 0.0662266178532522), (1543, 0.0662266178532522), (1693, 0.0662266178532522), (1732, 0.0662266178532522), (1926, 0.0662266178532522), (2037, 0.0662266178532522), (2050, 0.0662266178532522), (2089, 0.0662266178532522), (2165, 0.0662266178532522), (2244, 0.0662266178532522), (2290, 0.0662266178532522), (2326, 0.0662266178532522), (2420, 0.0662266178532522), (2598, 0.0662266178532522), (2907, 0.0662266178532522), (2939, 0.0662266178532522), (3362, 0.0662266178532522), (3381, 0.0662266178532522), (3767, 0.0662266178532522), (3815, 0.0662266178532522), (3951, 0.0662266178532522), (4119, 0.0662266178532522), (4317, 0.0662266178532522), (4592, 0.0662266178532522), (4659, 0.0662266178532522), (990, 0.06622661785325219), (377, 0.06562179588897107), (2407, 0.06562179588897107), (3012, 0.06562179588897107), (107, 0.06488856845230502), (132, 0.06488856845230502), (177, 0.06488856845230502), (201, 0.06488856845230502), (321, 0.06488856845230502), (626, 0.06488856845230502), (663, 0.06488856845230502), (757, 0.06488856845230502), (804, 0.06488856845230502), (864, 0.06488856845230502), (942, 0.06488856845230502), (1115, 0.06488856845230502), (1132, 0.06488856845230502), (1143, 0.06488856845230502), (1179, 0.06488856845230502), (1576, 0.06488856845230502), (1615, 0.06488856845230502), (1742, 0.06488856845230502), (1789, 0.06488856845230502), (1868, 0.06488856845230502), (1986, 0.06488856845230502), (2265, 0.06488856845230502), (2284, 0.06488856845230502), (2506, 0.06488856845230502), (2531, 0.06488856845230502), (2734, 0.06488856845230502), (2909, 0.06488856845230502), (2979, 0.06488856845230502), (3116, 0.06488856845230502), (3207, 0.06488856845230502), (3302, 0.06488856845230502), (3329, 0.06488856845230502), (3430, 0.06488856845230502), (3458, 0.06488856845230502), (3463, 0.06488856845230502), (3504, 0.06488856845230502), (3582, 0.06488856845230502), (3652, 0.06488856845230502), (3704, 0.06488856845230502), (3796, 0.06488856845230502), (3820, 0.06488856845230502), (3908, 0.06488856845230502), (3970, 0.06488856845230502), (4033, 0.06488856845230502), (4264, 0.06488856845230502), (4483, 0.06488856845230502), (4573, 0.06488856845230502), (4647, 0.06488856845230502), (4787, 0.06488856845230502), (2138, 0.06390214842634574), (48, 0.06362847629757779), (85, 0.06362847629757779), (138, 0.06362847629757779), (154, 0.06362847629757779), (206, 0.06362847629757779), (294, 0.06362847629757779), (373, 0.06362847629757779), (423, 0.06362847629757779), (453, 0.06362847629757779), (486, 0.06362847629757779), (612, 0.06362847629757779), (662, 0.06362847629757779), (697, 0.06362847629757779), (698, 0.06362847629757779), (805, 0.06362847629757779), (919, 0.06362847629757779), (1096, 0.06362847629757779), (1407, 0.06362847629757779), (1505, 0.06362847629757779), (1546, 0.06362847629757779), (1547, 0.06362847629757779), (1624, 0.06362847629757779), (1676, 0.06362847629757779), (1711, 0.06362847629757779), (1739, 0.06362847629757779), (1759, 0.06362847629757779), (1762, 0.06362847629757779), (1893, 0.06362847629757779), (1958, 0.06362847629757779), (2116, 0.06362847629757779), (2220, 0.06362847629757779), (2317, 0.06362847629757779), (2356, 0.06362847629757779), (2412, 0.06362847629757779), (2441, 0.06362847629757779), (2445, 0.06362847629757779), (2471, 0.06362847629757779), (2632, 0.06362847629757779), (2695, 0.06362847629757779), (2919, 0.06362847629757779), (3254, 0.06362847629757779), (3259, 0.06362847629757779), (3279, 0.06362847629757779), (3280, 0.06362847629757779), (3301, 0.06362847629757779), (3325, 0.06362847629757779), (3382, 0.06362847629757779), (3394, 0.06362847629757779), (3402, 0.06362847629757779), (3455, 0.06362847629757779), (3495, 0.06362847629757779), (3558, 0.06362847629757779), (3600, 0.06362847629757779), (3776, 0.06362847629757779), (3855, 0.06362847629757779), (3867, 0.06362847629757779), (3887, 0.06362847629757779), (3925, 0.06362847629757779), (3928, 0.06362847629757779), (3936, 0.06362847629757779), (4131, 0.06362847629757779), (4255, 0.06362847629757779), (4282, 0.06362847629757779), (4381, 0.06362847629757779), (4642, 0.06362847629757779), (4678, 0.06362847629757779), (2, 0.06243905410544627), (17, 0.06243905410544627), (37, 0.06243905410544627), (61, 0.06243905410544627), (120, 0.06243905410544627), (129, 0.06243905410544627), (179, 0.06243905410544627), (184, 0.06243905410544627), (194, 0.06243905410544627), (221, 0.06243905410544627), (270, 0.06243905410544627), (297, 0.06243905410544627), (356, 0.06243905410544627), (589, 0.06243905410544627), (745, 0.06243905410544627), (829, 0.06243905410544627), (857, 0.06243905410544627), (877, 0.06243905410544627), (893, 0.06243905410544627), (917, 0.06243905410544627), (924, 0.06243905410544627), (937, 0.06243905410544627), (984, 0.06243905410544627), (1133, 0.06243905410544627), (1171, 0.06243905410544627), (1178, 0.06243905410544627), (1190, 0.06243905410544627), (1445, 0.06243905410544627), (1450, 0.06243905410544627), (1712, 0.06243905410544627), (2071, 0.06243905410544627), (2154, 0.06243905410544627), (2167, 0.06243905410544627), (2168, 0.06243905410544627), (2176, 0.06243905410544627), (2228, 0.06243905410544627), (2245, 0.06243905410544627), (2250, 0.06243905410544627), (2375, 0.06243905410544627), (2392, 0.06243905410544627), (2409, 0.06243905410544627), (2529, 0.06243905410544627), (2610, 0.06243905410544627), (2749, 0.06243905410544627), (2831, 0.06243905410544627), (2876, 0.06243905410544627), (2889, 0.06243905410544627), (3176, 0.06243905410544627), (3192, 0.06243905410544627), (3444, 0.06243905410544627), (3494, 0.06243905410544627), (3532, 0.06243905410544627), (3562, 0.06243905410544627), (3638, 0.06243905410544627), (3730, 0.06243905410544627), (3799, 0.06243905410544627), (3893, 0.06243905410544627), (3919, 0.06243905410544627), (4109, 0.06243905410544627), (4139, 0.06243905410544627), (4191, 0.06243905410544627), (4237, 0.06243905410544627), (4251, 0.06243905410544627), (4529, 0.06243905410544627), (4613, 0.06243905410544627), (4720, 0.06243905410544627), (4776, 0.06243905410544627), (4793, 0.06243905410544627), (2446, 0.0623109738595896), (54, 0.06131393394849658), (105, 0.06131393394849658), (168, 0.06131393394849658), (248, 0.06131393394849658), (262, 0.06131393394849658), (264, 0.06131393394849658), (290, 0.06131393394849658), (330, 0.06131393394849658), (386, 0.06131393394849658), (557, 0.06131393394849658), (565, 0.06131393394849658), (625, 0.06131393394849658), (659, 0.06131393394849658), (671, 0.06131393394849658), (720, 0.06131393394849658), (947, 0.06131393394849658), (956, 0.06131393394849658), (1026, 0.06131393394849658), (1156, 0.06131393394849658), (1195, 0.06131393394849658), (1314, 0.06131393394849658), (1327, 0.06131393394849658), (1335, 0.06131393394849658), (1410, 0.06131393394849658), (1425, 0.06131393394849658), (1457, 0.06131393394849658), (1744, 0.06131393394849658), (1763, 0.06131393394849658), (1783, 0.06131393394849658), (1798, 0.06131393394849658), (1859, 0.06131393394849658), (1904, 0.06131393394849658), (1932, 0.06131393394849658), (2218, 0.06131393394849658), (2390, 0.06131393394849658), (2408, 0.06131393394849658), (2457, 0.06131393394849658), (2489, 0.06131393394849658), (2490, 0.06131393394849658), (2555, 0.06131393394849658), (2611, 0.06131393394849658), (2621, 0.06131393394849658), (2786, 0.06131393394849658), (2791, 0.06131393394849658), (2799, 0.06131393394849658), (2879, 0.06131393394849658), (3062, 0.06131393394849658), (3083, 0.06131393394849658), (3147, 0.06131393394849658), (3459, 0.06131393394849658), (3469, 0.06131393394849658), (3508, 0.06131393394849658), (3627, 0.06131393394849658), (3660, 0.06131393394849658), (3693, 0.06131393394849658), (3725, 0.06131393394849658), (3824, 0.06131393394849658), (3890, 0.06131393394849658), (3987, 0.06131393394849658), (4012, 0.06131393394849658), (4224, 0.06131393394849658), (4353, 0.06131393394849658), (4479, 0.06131393394849658), (4707, 0.06131393394849658), (4788, 0.06131393394849658), (2808, 0.060833032924035954), (38, 0.0602475233128778), (311, 0.0602475233128778), (382, 0.0602475233128778), (389, 0.0602475233128778), (472, 0.0602475233128778), (590, 0.0602475233128778), (668, 0.0602475233128778), (700, 0.0602475233128778), (784, 0.0602475233128778), (811, 0.0602475233128778), (865, 0.0602475233128778), (949, 0.0602475233128778), (1033, 0.0602475233128778), (1139, 0.0602475233128778), (1140, 0.0602475233128778), (1150, 0.0602475233128778), (1194, 0.0602475233128778), (1228, 0.0602475233128778), (1266, 0.0602475233128778), (1276, 0.0602475233128778), (1336, 0.0602475233128778), (1388, 0.0602475233128778), (1438, 0.0602475233128778), (1502, 0.0602475233128778), (1542, 0.0602475233128778), (1545, 0.0602475233128778), (1589, 0.0602475233128778), (1618, 0.0602475233128778), (1631, 0.0602475233128778), (1751, 0.0602475233128778), (1832, 0.0602475233128778), (1842, 0.0602475233128778), (1843, 0.0602475233128778), (2003, 0.0602475233128778), (2074, 0.0602475233128778), (2288, 0.0602475233128778), (2535, 0.0602475233128778), (2602, 0.0602475233128778), (2640, 0.0602475233128778), (2681, 0.0602475233128778), (2758, 0.0602475233128778), (2901, 0.0602475233128778), (2944, 0.0602475233128778), (2947, 0.0602475233128778), (2958, 0.0602475233128778), (2977, 0.0602475233128778), (3136, 0.0602475233128778), (3160, 0.0602475233128778), (3296, 0.0602475233128778), (3436, 0.0602475233128778), (3566, 0.0602475233128778), (3568, 0.0602475233128778), (3640, 0.0602475233128778), (3684, 0.0602475233128778), (3699, 0.0602475233128778), (3869, 0.0602475233128778), (3910, 0.0602475233128778), (3954, 0.0602475233128778), (3979, 0.0602475233128778), (4175, 0.0602475233128778), (4320, 0.0602475233128778), (4331, 0.0602475233128778), (4380, 0.0602475233128778), (4668, 0.0602475233128778), (4673, 0.0602475233128778), (124, 0.05923488777590923), (183, 0.05923488777590923), (256, 0.05923488777590923), (339, 0.05923488777590923), (379, 0.05923488777590923), (457, 0.05923488777590923), (512, 0.05923488777590923), (517, 0.05923488777590923), (716, 0.05923488777590923), (735, 0.05923488777590923), (789, 0.05923488777590923), (810, 0.05923488777590923), (844, 0.05923488777590923), (859, 0.05923488777590923), (894, 0.05923488777590923), (911, 0.05923488777590923), (1201, 0.05923488777590923), (1255, 0.05923488777590923), (1263, 0.05923488777590923), (1308, 0.05923488777590923), (1318, 0.05923488777590923), (1382, 0.05923488777590923), (1406, 0.05923488777590923), (1562, 0.05923488777590923), (1572, 0.05923488777590923), (1609, 0.05923488777590923), (2024, 0.05923488777590923), (2115, 0.05923488777590923), (2200, 0.05923488777590923), (2238, 0.05923488777590923), (2281, 0.05923488777590923), (2377, 0.05923488777590923), (2388, 0.05923488777590923), (2389, 0.05923488777590923), (2404, 0.05923488777590923), (2805, 0.05923488777590923), (2820, 0.05923488777590923), (2904, 0.05923488777590923), (2949, 0.05923488777590923), (3076, 0.05923488777590923), (3132, 0.05923488777590923), (3245, 0.05923488777590923), (3549, 0.05923488777590923), (3574, 0.05923488777590923), (3590, 0.05923488777590923), (3635, 0.05923488777590923), (3682, 0.05923488777590923), (3683, 0.05923488777590923), (3734, 0.05923488777590923), (3780, 0.05923488777590923), (3870, 0.05923488777590923), (4192, 0.05923488777590923), (4343, 0.05923488777590923), (4524, 0.05923488777590923), (4649, 0.05923488777590923), (4718, 0.05923488777590923), (241, 0.0582716546748065), (257, 0.0582716546748065), (313, 0.0582716546748065), (322, 0.0582716546748065), (429, 0.0582716546748065), (553, 0.0582716546748065), (747, 0.0582716546748065), (1170, 0.0582716546748065), (1180, 0.0582716546748065), (1185, 0.0582716546748065), (1349, 0.0582716546748065), (1352, 0.0582716546748065), (1373, 0.0582716546748065), (1379, 0.0582716546748065), (1560, 0.0582716546748065), (1625, 0.0582716546748065), (1736, 0.0582716546748065), (1905, 0.0582716546748065), (1930, 0.0582716546748065), (1955, 0.0582716546748065), (2210, 0.0582716546748065), (2558, 0.0582716546748065), (2612, 0.0582716546748065), (2719, 0.0582716546748065), (2721, 0.0582716546748065), (2739, 0.0582716546748065), (2752, 0.0582716546748065), (2807, 0.0582716546748065), (3040, 0.0582716546748065), (3241, 0.0582716546748065), (3252, 0.0582716546748065), (3320, 0.0582716546748065), (3480, 0.0582716546748065), (3812, 0.0582716546748065), (3821, 0.0582716546748065), (3844, 0.0582716546748065), (4022, 0.0582716546748065), (4151, 0.0582716546748065), (4225, 0.0582716546748065), (4281, 0.0582716546748065), (4373, 0.0582716546748065), (4390, 0.0582716546748065), (4509, 0.0582716546748065), (4572, 0.0582716546748065), (4744, 0.0582716546748065), (4799, 0.0582716546748065), (273, 0.057353933467640436), (354, 0.057353933467640436), (768, 0.057353933467640436), (802, 0.057353933467640436), (840, 0.057353933467640436), (903, 0.057353933467640436), (910, 0.057353933467640436), (938, 0.057353933467640436), (1057, 0.057353933467640436), (1131, 0.057353933467640436), (1240, 0.057353933467640436), (1351, 0.057353933467640436), (1430, 0.057353933467640436), (1706, 0.057353933467640436), (1849, 0.057353933467640436), (1883, 0.057353933467640436), (2020, 0.057353933467640436), (2090, 0.057353933467640436), (2253, 0.057353933467640436), (2323, 0.057353933467640436), (2361, 0.057353933467640436), (2380, 0.057353933467640436), (2463, 0.057353933467640436), (2508, 0.057353933467640436), (2700, 0.057353933467640436), (2720, 0.057353933467640436), (2769, 0.057353933467640436), (2795, 0.057353933467640436), (2800, 0.057353933467640436), (3003, 0.057353933467640436), (3179, 0.057353933467640436), (3376, 0.057353933467640436), (3442, 0.057353933467640436), (3571, 0.057353933467640436), (3834, 0.057353933467640436), (3864, 0.057353933467640436), (4340, 0.057353933467640436), (4348, 0.057353933467640436), (4467, 0.057353933467640436), (77, 0.05647824947249051), (254, 0.05647824947249051), (295, 0.05647824947249051), (406, 0.05647824947249051), (416, 0.05647824947249051), (646, 0.05647824947249051), (661, 0.05647824947249051), (670, 0.05647824947249051), (730, 0.05647824947249051), (972, 0.05647824947249051), (1013, 0.05647824947249051), (1059, 0.05647824947249051), (1084, 0.05647824947249051), (1100, 0.05647824947249051), (1137, 0.05647824947249051), (1367, 0.05647824947249051), (1463, 0.05647824947249051), (1533, 0.05647824947249051), (2156, 0.05647824947249051), (2354, 0.05647824947249051), (2397, 0.05647824947249051), (2442, 0.05647824947249051), (2564, 0.05647824947249051), (2950, 0.05647824947249051), (3074, 0.05647824947249051), (3092, 0.05647824947249051), (3270, 0.05647824947249051), (3313, 0.05647824947249051), (3416, 0.05647824947249051), (3470, 0.05647824947249051), (3483, 0.05647824947249051), (3581, 0.05647824947249051), (3602, 0.05647824947249051), (3651, 0.05647824947249051), (3789, 0.05647824947249051), (3876, 0.05647824947249051), (3879, 0.05647824947249051), (3975, 0.05647824947249051), (4232, 0.05647824947249051), (4263, 0.05647824947249051), (4302, 0.05647824947249051), (4360, 0.05647824947249051), (441, 0.05564148840746572), (488, 0.05564148840746572), (558, 0.05564148840746572), (572, 0.05564148840746572), (781, 0.05564148840746572), (1204, 0.05564148840746572), (1223, 0.05564148840746572), (1225, 0.05564148840746572), (1486, 0.05564148840746572), (1656, 0.05564148840746572), (1945, 0.05564148840746572), (2040, 0.05564148840746572), (2060, 0.05564148840746572), (2164, 0.05564148840746572), (2185, 0.05564148840746572), (2511, 0.05564148840746572), (2546, 0.05564148840746572), (2626, 0.05564148840746572), (2888, 0.05564148840746572), (2891, 0.05564148840746572), (2912, 0.05564148840746572), (2975, 0.05564148840746572), (2994, 0.05564148840746572), (3094, 0.05564148840746572), (3095, 0.05564148840746572), (3263, 0.05564148840746572), (3391, 0.05564148840746572), (3561, 0.05564148840746572), (3711, 0.05564148840746572), (3737, 0.05564148840746572), (4173, 0.05564148840746572), (4204, 0.05564148840746572), (4365, 0.05564148840746572), (4773, 0.05564148840746572), (724, 0.05484084971070818), (799, 0.05484084971070818), (1003, 0.05484084971070818), (1061, 0.05484084971070818), (1151, 0.05484084971070818), (1184, 0.05484084971070818), (1221, 0.05484084971070818), (1442, 0.05484084971070818), (1518, 0.05484084971070818), (1573, 0.05484084971070818), (1696, 0.05484084971070818), (1717, 0.05484084971070818), (1856, 0.05484084971070818), (1892, 0.05484084971070818), (2180, 0.05484084971070818), (2216, 0.05484084971070818), (2348, 0.05484084971070818), (2525, 0.05484084971070818), (2660, 0.05484084971070818), (2669, 0.05484084971070818), (3047, 0.05484084971070818), (3085, 0.05484084971070818), (3162, 0.05484084971070818), (3195, 0.05484084971070818), (3307, 0.05484084971070818), (3418, 0.05484084971070818), (3553, 0.05484084971070818), (3593, 0.05484084971070818), (3706, 0.05484084971070818), (3896, 0.05484084971070818), (3947, 0.05484084971070818), (4014, 0.05484084971070818), (4197, 0.05484084971070818), (4327, 0.05484084971070818), (4602, 0.05484084971070818), (232, 0.05407380704358751), (346, 0.05407380704358751), (407, 0.05407380704358751), (421, 0.05407380704358751), (515, 0.05407380704358751), (679, 0.05407380704358751), (1041, 0.05407380704358751), (1364, 0.05407380704358751), (1523, 0.05407380704358751), (1622, 0.05407380704358751), (1650, 0.05407380704358751), (1651, 0.05407380704358751), (1948, 0.05407380704358751), (2043, 0.05407380704358751), (2131, 0.05407380704358751), (2306, 0.05407380704358751), (2702, 0.05407380704358751), (2765, 0.05407380704358751), (2865, 0.05407380704358751), (3399, 0.05407380704358751), (3588, 0.05407380704358751), (3636, 0.05407380704358751), (4015, 0.05407380704358751), (4497, 0.05407380704358751), (4648, 0.05407380704358751), (176, 0.0533380747062665), (566, 0.0533380747062665), (693, 0.0533380747062665), (795, 0.0533380747062665), (950, 0.0533380747062665), (1281, 0.0533380747062665), (1299, 0.0533380747062665), (1433, 0.0533380747062665), (1745, 0.0533380747062665), (1806, 0.0533380747062665), (1828, 0.0533380747062665), (1923, 0.0533380747062665), (2019, 0.0533380747062665), (2229, 0.0533380747062665), (2263, 0.0533380747062665), (2335, 0.0533380747062665), (2738, 0.0533380747062665), (2853, 0.0533380747062665), (3018, 0.0533380747062665), (3276, 0.0533380747062665), (3346, 0.0533380747062665), (3421, 0.0533380747062665), (4394, 0.0533380747062665), (49, 0.052631578947368425), (630, 0.052631578947368425), (855, 0.052631578947368425), (1008, 0.052631578947368425), (1188, 0.052631578947368425), (1315, 0.052631578947368425), (1459, 0.052631578947368425), (1551, 0.052631578947368425), (1874, 0.052631578947368425), (1925, 0.052631578947368425), (2314, 0.052631578947368425), (2871, 0.052631578947368425), (3070, 0.052631578947368425), (3175, 0.052631578947368425), (3205, 0.052631578947368425), (3273, 0.052631578947368425), (3309, 0.052631578947368425), (3420, 0.052631578947368425), (3772, 0.052631578947368425), (4078, 0.052631578947368425), (4337, 0.052631578947368425), (84, 0.05195243334661311), (187, 0.05195243334661311), (658, 0.05195243334661311), (680, 0.05195243334661311), (695, 0.05195243334661311), (711, 0.05195243334661311), (1152, 0.05195243334661311), (1250, 0.05195243334661311), (1686, 0.05195243334661311), (1753, 0.05195243334661311), (1761, 0.05195243334661311), (2175, 0.05195243334661311), (2563, 0.05195243334661311), (3441, 0.05195243334661311), (3647, 0.05195243334661311), (3898, 0.05195243334661311), (4134, 0.05195243334661311), (4172, 0.05195243334661311), (723, 0.051298917604257706), (1338, 0.051298917604257706), (1372, 0.051298917604257706), (1970, 0.051298917604257706), (3631, 0.051298917604257706), (3940, 0.051298917604257706), (4216, 0.051298917604257706), (4631, 0.051298917604257706), (336, 0.050669459193814), (692, 0.050669459193814), (1036, 0.050669459193814), (1212, 0.050669459193814), (1556, 0.050669459193814), (2395, 0.050669459193814), (2483, 0.050669459193814), (2561, 0.050669459193814), (2747, 0.050669459193814), (3251, 0.050669459193814), (3256, 0.050669459193814), (3413, 0.050669459193814), (3512, 0.050669459193814), (3625, 0.050669459193814), (3900, 0.050669459193814), (4096, 0.050669459193814), (449, 0.05006261743217589), (2161, 0.05006261743217589), (2544, 0.05006261743217589), (3643, 0.05006261743217589), (4024, 0.05006261743217589), (543, 0.04947706959952935), (629, 0.04947706959952935), (1456, 0.04947706959952935), (2196, 0.04947706959952935), (2209, 0.04947706959952935), (2549, 0.04947706959952935), (2802, 0.04947706959952935), (4382, 0.04947706959952935), (3552, 0.04891159880445185), (3576, 0.04891159880445185), (4486, 0.04891159880445185), (4708, 0.04891159880445185), (4798, 0.04891159880445185), (11, 0.04836508334066745), (4202, 0.04836508334066745), (1341, 0.04783648732349399), (2181, 0.04783648732349399), (3481, 0.04783648732349399), (110, 0.047324852428030105), (514, 0.047324852428030105), (2283, 0.047324852428030105), (3505, 0.047324852428030105), (3645, 0.047324852428030105), (2148, 0.046829290579084706), (4769, 0.046829290579084706), (1916, 0.046348977465932154), (2527, 0.046348977465932154), (3460, 0.046348977465932154), (3974, 0.046348977465932154), (932, 0.04543108504242546), (1715, 0.04543108504242546), (2016, 0.04543108504242546), (2677, 0.04543108504242546), (628, 0.04499212706658476), (4273, 0.04499212706658476), (999, 0.044151078568834795), (1441, 0.044151078568834795), (3032, 0.044151078568834795), (1817, 0.043747863925980714), (1099, 0.043355498476206004), (1288, 0.043355498476206004), (1464, 0.043355498476206004), (2867, 0.043355498476206004), (2933, 0.043355498476206004), (3304, 0.043355498476206004), (3500, 0.043355498476206004), (3523, 0.043355498476206004), (4147, 0.043355498476206004), (4161, 0.043355498476206004), (4502, 0.043355498476206004), (4574, 0.043355498476206004), (4780, 0.043355498476206004), (3906, 0.042973504259354006), (4150, 0.042973504259354006), (1267, 0.04188539082916955), (1962, 0.04188539082916955), (2892, 0.04188539082916955), (3154, 0.04188539082916955), (3544, 0.04188539082916955), (3897, 0.04188539082916955), (3943, 0.04188539082916955), (4038, 0.04188539082916955), (4055, 0.04188539082916955), (4111, 0.04188539082916955), (4143, 0.04188539082916955), (4205, 0.04188539082916955), (4258, 0.04188539082916955), (4277, 0.04188539082916955), (4377, 0.04188539082916955), (1357, 0.040555355282690636), (1522, 0.040555355282690636), (1679, 0.040555355282690636), (1741, 0.040555355282690636), (2309, 0.040555355282690636), (2728, 0.040555355282690636), (3087, 0.040555355282690636), (3089, 0.040555355282690636), (3437, 0.040555355282690636), (3727, 0.040555355282690636), (4040, 0.040555355282690636), (4301, 0.040555355282690636), (4370, 0.040555355282690636), (4395, 0.040555355282690636), (4499, 0.040555355282690636), (4546, 0.040555355282690636), (4556, 0.040555355282690636), (3622, 0.0396370017644709), (1306, 0.039344473768231684), (2652, 0.039344473768231684), (3043, 0.039344473768231684), (3377, 0.039344473768231684), (3665, 0.039344473768231684), (3707, 0.039344473768231684), (3808, 0.039344473768231684), (3875, 0.039344473768231684), (4004, 0.039344473768231684), (4009, 0.039344473768231684), (4120, 0.039344473768231684), (4275, 0.039344473768231684), (4357, 0.039344473768231684), (4488, 0.039344473768231684), (4531, 0.039344473768231684), (4601, 0.039344473768231684), (2502, 0.03823595564509363), (2548, 0.03823595564509363), (2649, 0.03823595564509363), (3882, 0.03823595564509363), (3929, 0.03823595564509363), (4179, 0.03823595564509363), (4187, 0.03823595564509363), (4217, 0.03823595564509363), (4415, 0.03823595564509363), (4421, 0.03823595564509363), (4801, 0.03823595564509363), (540, 0.03721614637823934), (769, 0.03721614637823934), (1166, 0.03721614637823934), (1528, 0.03721614637823934), (1569, 0.03721614637823934), (1667, 0.03721614637823934), (1767, 0.03721614637823934), (1933, 0.03721614637823934), (2266, 0.03721614637823934), (2670, 0.03721614637823934), (2761, 0.03721614637823934), (2875, 0.03721614637823934), (2972, 0.03721614637823934), (3078, 0.03721614637823934), (3157, 0.03721614637823934), (3397, 0.03721614637823934), (3489, 0.03721614637823934), (3509, 0.03721614637823934), (3716, 0.03721614637823934), (3760, 0.03721614637823934), (3993, 0.03721614637823934), (4254, 0.03721614637823934), (4489, 0.03721614637823934), (4629, 0.03721614637823934), (4634, 0.03721614637823934), (1010, 0.03627381250550058), (1042, 0.03627381250550058), (1273, 0.03627381250550058), (1277, 0.03627381250550058), (1541, 0.03627381250550058), (1658, 0.03627381250550058), (1681, 0.03627381250550058), (1879, 0.03627381250550058), (3021, 0.03627381250550058), (3101, 0.03627381250550058), (3299, 0.03627381250550058), (3408, 0.03627381250550058), (3488, 0.03627381250550058), (3701, 0.03627381250550058), (3740, 0.03627381250550058), (4093, 0.03627381250550058), (4136, 0.03627381250550058), (4156, 0.03627381250550058), (4450, 0.03627381250550058), (4460, 0.03627381250550058), (4557, 0.03627381250550058), (4606, 0.03627381250550058), (4680, 0.03627381250550058), (4734, 0.03627381250550058), (4756, 0.03627381250550058), (56, 0.03539961627023944), (166, 0.03539961627023944), (309, 0.03539961627023944), (602, 0.03539961627023944), (655, 0.03539961627023944), (1285, 0.03539961627023944), (1321, 0.03539961627023944), (1516, 0.03539961627023944), (1627, 0.03539961627023944), (1769, 0.03539961627023944), (1788, 0.03539961627023944), (2393, 0.03539961627023944), (2644, 0.03539961627023944), (2650, 0.03539961627023944), (3128, 0.03539961627023944), (3373, 0.03539961627023944), (3389, 0.03539961627023944), (3618, 0.03539961627023944), (3745, 0.03539961627023944), (3777, 0.03539961627023944), (3816, 0.03539961627023944), (3817, 0.03539961627023944), (3830, 0.03539961627023944), (3941, 0.03539961627023944), (4072, 0.03539961627023944), (4231, 0.03539961627023944), (4425, 0.03539961627023944), (4438, 0.03539961627023944), (4476, 0.03539961627023944), (4559, 0.03539961627023944), (605, 0.03458572319330373), (822, 0.03458572319330373), (927, 0.03458572319330373), (985, 0.03458572319330373), (1249, 0.03458572319330373), (1291, 0.03458572319330373), (1678, 0.03458572319330373), (1947, 0.03458572319330373), (1983, 0.03458572319330373), (2130, 0.03458572319330373), (2151, 0.03458572319330373), (2188, 0.03458572319330373), (2201, 0.03458572319330373), (2485, 0.03458572319330373), (2885, 0.03458572319330373), (2980, 0.03458572319330373), (3580, 0.03458572319330373), (3650, 0.03458572319330373), (3790, 0.03458572319330373), (3803, 0.03458572319330373), (3930, 0.03458572319330373), (4094, 0.03458572319330373), (4414, 0.03458572319330373), (4449, 0.03458572319330373), (4525, 0.03458572319330373), (4543, 0.03458572319330373), (4565, 0.03458572319330373), (4620, 0.03458572319330373), (4656, 0.03458572319330373), (1748, 0.034010851192571794), (47, 0.03382550457458692), (78, 0.03382550457458692), (298, 0.03382550457458692), (357, 0.03382550457458692), (530, 0.03382550457458692), (573, 0.03382550457458692), (601, 0.03382550457458692), (614, 0.03382550457458692), (975, 0.03382550457458692), (1021, 0.03382550457458692), (1284, 0.03382550457458692), (1287, 0.03382550457458692), (1309, 0.03382550457458692), (1777, 0.03382550457458692), (1872, 0.03382550457458692), (1984, 0.03382550457458692), (2122, 0.03382550457458692), (2352, 0.03382550457458692), (2499, 0.03382550457458692), (2619, 0.03382550457458692), (2693, 0.03382550457458692), (2712, 0.03382550457458692), (2926, 0.03382550457458692), (2990, 0.03382550457458692), (3045, 0.03382550457458692), (3161, 0.03382550457458692), (3486, 0.03382550457458692), (3531, 0.03382550457458692), (3689, 0.03382550457458692), (3800, 0.03382550457458692), (3842, 0.03382550457458692), (3915, 0.03382550457458692), (3952, 0.03382550457458692), (4061, 0.03382550457458692), (4195, 0.03382550457458692), (4241, 0.03382550457458692), (4278, 0.03382550457458692), (4471, 0.03382550457458692), (4484, 0.03382550457458692), (4549, 0.03382550457458692), (44, 0.0331133089266261), (62, 0.0331133089266261), (188, 0.0331133089266261), (235, 0.0331133089266261), (274, 0.0331133089266261), (458, 0.0331133089266261), (635, 0.0331133089266261), (651, 0.0331133089266261), (660, 0.0331133089266261), (773, 0.0331133089266261), (888, 0.0331133089266261), (1051, 0.0331133089266261), (1149, 0.0331133089266261), (1206, 0.0331133089266261), (1423, 0.0331133089266261), (1437, 0.0331133089266261), (1695, 0.0331133089266261), (1920, 0.0331133089266261), (2031, 0.0331133089266261), (2056, 0.0331133089266261), (2141, 0.0331133089266261), (2341, 0.0331133089266261), (2423, 0.0331133089266261), (2452, 0.0331133089266261), (2467, 0.0331133089266261), (2504, 0.0331133089266261), (2550, 0.0331133089266261), (2767, 0.0331133089266261), (2804, 0.0331133089266261), (2856, 0.0331133089266261), (2863, 0.0331133089266261), (2957, 0.0331133089266261), (3072, 0.0331133089266261), (3090, 0.0331133089266261), (3126, 0.0331133089266261), (3172, 0.0331133089266261), (3199, 0.0331133089266261), (3221, 0.0331133089266261), (3312, 0.0331133089266261), (3431, 0.0331133089266261), (3506, 0.0331133089266261), (3522, 0.0331133089266261), (3563, 0.0331133089266261), (3569, 0.0331133089266261), (3646, 0.0331133089266261), (3715, 0.0331133089266261), (3786, 0.0331133089266261), (3797, 0.0331133089266261), (3823, 0.0331133089266261), (3839, 0.0331133089266261), (3858, 0.0331133089266261), (3932, 0.0331133089266261), (4051, 0.0331133089266261), (4124, 0.0331133089266261), (4138, 0.0331133089266261), (4181, 0.0331133089266261), (4330, 0.0331133089266261), (4376, 0.0331133089266261), (4494, 0.0331133089266261), (4519, 0.0331133089266261), (4665, 0.0331133089266261), (55, 0.03244428422615251), (74, 0.03244428422615251), (157, 0.03244428422615251), (251, 0.03244428422615251), (272, 0.03244428422615251), (341, 0.03244428422615251), (355, 0.03244428422615251), (394, 0.03244428422615251), (414, 0.03244428422615251), (521, 0.03244428422615251), (818, 0.03244428422615251), (820, 0.03244428422615251), (834, 0.03244428422615251), (848, 0.03244428422615251), (951, 0.03244428422615251), (1147, 0.03244428422615251), (1246, 0.03244428422615251), (1290, 0.03244428422615251), (1302, 0.03244428422615251), (1447, 0.03244428422615251), (1466, 0.03244428422615251), (1552, 0.03244428422615251), (1733, 0.03244428422615251), (1737, 0.03244428422615251), (1770, 0.03244428422615251), (1924, 0.03244428422615251), (1953, 0.03244428422615251), (1956, 0.03244428422615251), (2088, 0.03244428422615251), (2113, 0.03244428422615251), (2269, 0.03244428422615251), (2345, 0.03244428422615251), (2350, 0.03244428422615251), (2391, 0.03244428422615251), (2641, 0.03244428422615251), (2722, 0.03244428422615251), (2785, 0.03244428422615251), (2837, 0.03244428422615251), (2918, 0.03244428422615251), (2952, 0.03244428422615251), (3000, 0.03244428422615251), (3077, 0.03244428422615251), (3153, 0.03244428422615251), (3322, 0.03244428422615251), (3387, 0.03244428422615251), (3541, 0.03244428422615251), (3957, 0.03244428422615251), (3962, 0.03244428422615251), (4152, 0.03244428422615251), (4213, 0.03244428422615251), (4268, 0.03244428422615251), (4292, 0.03244428422615251), (4345, 0.03244428422615251), (4470, 0.03244428422615251), (4596, 0.03244428422615251), (4623, 0.03244428422615251), (29, 0.03181423814878889), (104, 0.03181423814878889), (143, 0.03181423814878889), (181, 0.03181423814878889), (209, 0.03181423814878889), (306, 0.03181423814878889), (508, 0.03181423814878889), (609, 0.03181423814878889), (610, 0.03181423814878889), (667, 0.03181423814878889), (669, 0.03181423814878889), (687, 0.03181423814878889), (751, 0.03181423814878889), (764, 0.03181423814878889), (797, 0.03181423814878889), (806, 0.03181423814878889), (823, 0.03181423814878889), (863, 0.03181423814878889), (928, 0.03181423814878889), (945, 0.03181423814878889), (1083, 0.03181423814878889), (1197, 0.03181423814878889), (1317, 0.03181423814878889), (1340, 0.03181423814878889), (1354, 0.03181423814878889), (1389, 0.03181423814878889), (1402, 0.03181423814878889), (1554, 0.03181423814878889), (1599, 0.03181423814878889), (1610, 0.03181423814878889), (1641, 0.03181423814878889), (1812, 0.03181423814878889), (1819, 0.03181423814878889), (1880, 0.03181423814878889), (1942, 0.03181423814878889), (2063, 0.03181423814878889), (2082, 0.03181423814878889), (2093, 0.03181423814878889), (2215, 0.03181423814878889), (2293, 0.03181423814878889), (2487, 0.03181423814878889), (2491, 0.03181423814878889), (2554, 0.03181423814878889), (2567, 0.03181423814878889), (2593, 0.03181423814878889), (2755, 0.03181423814878889), (2828, 0.03181423814878889), (2932, 0.03181423814878889), (2948, 0.03181423814878889), (3066, 0.03181423814878889), (3069, 0.03181423814878889), (3181, 0.03181423814878889), (3197, 0.03181423814878889), (3330, 0.03181423814878889), (3379, 0.03181423814878889), (3597, 0.03181423814878889), (3613, 0.03181423814878889), (3982, 0.03181423814878889), (4076, 0.03181423814878889), (4129, 0.03181423814878889), (4170, 0.03181423814878889), (4349, 0.03181423814878889), (4367, 0.03181423814878889), (4465, 0.03181423814878889), (4576, 0.03181423814878889), (4577, 0.03181423814878889), (4792, 0.03181423814878889), (127, 0.031219527052723135), (134, 0.031219527052723135), (151, 0.031219527052723135), (180, 0.031219527052723135), (222, 0.031219527052723135), (225, 0.031219527052723135), (227, 0.031219527052723135), (335, 0.031219527052723135), (338, 0.031219527052723135), (362, 0.031219527052723135), (506, 0.031219527052723135), (567, 0.031219527052723135), (596, 0.031219527052723135), (722, 0.031219527052723135), (944, 0.031219527052723135), (953, 0.031219527052723135), (971, 0.031219527052723135), (1012, 0.031219527052723135), (1108, 0.031219527052723135), (1129, 0.031219527052723135), (1384, 0.031219527052723135), (1395, 0.031219527052723135), (1426, 0.031219527052723135), (1429, 0.031219527052723135), (1549, 0.031219527052723135), (1636, 0.031219527052723135), (1647, 0.031219527052723135), (1694, 0.031219527052723135), (1702, 0.031219527052723135), (1805, 0.031219527052723135), (1909, 0.031219527052723135), (2027, 0.031219527052723135), (2110, 0.031219527052723135), (2171, 0.031219527052723135), (2198, 0.031219527052723135), (2328, 0.031219527052723135), (2329, 0.031219527052723135), (2438, 0.031219527052723135), (2781, 0.031219527052723135), (2827, 0.031219527052723135), (2874, 0.031219527052723135), (2995, 0.031219527052723135), (3282, 0.031219527052723135), (3364, 0.031219527052723135), (3456, 0.031219527052723135), (3533, 0.031219527052723135), (3545, 0.031219527052723135), (3554, 0.031219527052723135), (3657, 0.031219527052723135), (3658, 0.031219527052723135), (3942, 0.031219527052723135), (4042, 0.031219527052723135), (4114, 0.031219527052723135), (4316, 0.031219527052723135), (4333, 0.031219527052723135), (4346, 0.031219527052723135), (4473, 0.031219527052723135), (4487, 0.031219527052723135), (4558, 0.031219527052723135), (45, 0.03065696697424829), (82, 0.03065696697424829), (106, 0.03065696697424829), (178, 0.03065696697424829), (193, 0.03065696697424829), (302, 0.03065696697424829), (320, 0.03065696697424829), (424, 0.03065696697424829), (435, 0.03065696697424829), (450, 0.03065696697424829), (481, 0.03065696697424829), (538, 0.03065696697424829), (568, 0.03065696697424829), (570, 0.03065696697424829), (594, 0.03065696697424829), (604, 0.03065696697424829), (645, 0.03065696697424829), (653, 0.03065696697424829), (737, 0.03065696697424829), (785, 0.03065696697424829), (850, 0.03065696697424829), (943, 0.03065696697424829), (976, 0.03065696697424829), (1093, 0.03065696697424829), (1154, 0.03065696697424829), (1319, 0.03065696697424829), (1347, 0.03065696697424829), (1449, 0.03065696697424829), (1491, 0.03065696697424829), (1504, 0.03065696697424829), (1510, 0.03065696697424829), (1688, 0.03065696697424829), (1814, 0.03065696697424829), (1844, 0.03065696697424829), (2120, 0.03065696697424829), (2318, 0.03065696697424829), (2330, 0.03065696697424829), (2495, 0.03065696697424829), (2569, 0.03065696697424829), (2683, 0.03065696697424829), (2788, 0.03065696697424829), (2836, 0.03065696697424829), (2905, 0.03065696697424829), (2922, 0.03065696697424829), (2998, 0.03065696697424829), (3048, 0.03065696697424829), (3052, 0.03065696697424829), (3146, 0.03065696697424829), (3374, 0.03065696697424829), (3406, 0.03065696697424829), (3606, 0.03065696697424829), (3695, 0.03065696697424829), (3785, 0.03065696697424829), (3964, 0.03065696697424829), (4019, 0.03065696697424829), (4087, 0.03065696697424829), (4090, 0.03065696697424829), (4214, 0.03065696697424829), (4284, 0.03065696697424829), (4297, 0.03065696697424829), (4344, 0.03065696697424829), (4351, 0.03065696697424829), (4746, 0.03065696697424829), (76, 0.0301237616564389), (91, 0.0301237616564389), (92, 0.0301237616564389), (94, 0.0301237616564389), (167, 0.0301237616564389), (185, 0.0301237616564389), (228, 0.0301237616564389), (249, 0.0301237616564389), (260, 0.0301237616564389), (263, 0.0301237616564389), (277, 0.0301237616564389), (289, 0.0301237616564389), (348, 0.0301237616564389), (349, 0.0301237616564389), (432, 0.0301237616564389), (511, 0.0301237616564389), (519, 0.0301237616564389), (536, 0.0301237616564389), (548, 0.0301237616564389), (685, 0.0301237616564389), (686, 0.0301237616564389), (1053, 0.0301237616564389), (1117, 0.0301237616564389), (1135, 0.0301237616564389), (1260, 0.0301237616564389), (1310, 0.0301237616564389), (1398, 0.0301237616564389), (1415, 0.0301237616564389), (1446, 0.0301237616564389), (1465, 0.0301237616564389), (1550, 0.0301237616564389), (1619, 0.0301237616564389), (1705, 0.0301237616564389), (1718, 0.0301237616564389), (1743, 0.0301237616564389), (1815, 0.0301237616564389), (2075, 0.0301237616564389), (2147, 0.0301237616564389), (2150, 0.0301237616564389), (2166, 0.0301237616564389), (2207, 0.0301237616564389), (2264, 0.0301237616564389), (2355, 0.0301237616564389), (2468, 0.0301237616564389), (2521, 0.0301237616564389), (2607, 0.0301237616564389), (2689, 0.0301237616564389), (2996, 0.0301237616564389), (3009, 0.0301237616564389), (3013, 0.0301237616564389), (3098, 0.0301237616564389), (3201, 0.0301237616564389), (3255, 0.0301237616564389), (3360, 0.0301237616564389), (3537, 0.0301237616564389), (3575, 0.0301237616564389), (3605, 0.0301237616564389), (3608, 0.0301237616564389), (3611, 0.0301237616564389), (3639, 0.0301237616564389), (3739, 0.0301237616564389), (3850, 0.0301237616564389), (3872, 0.0301237616564389), (3918, 0.0301237616564389), (4226, 0.0301237616564389), (4265, 0.0301237616564389), (15, 0.029617443887954616), (33, 0.029617443887954616), (70, 0.029617443887954616), (97, 0.029617443887954616), (169, 0.029617443887954616), (390, 0.029617443887954616), (392, 0.029617443887954616), (477, 0.029617443887954616), (490, 0.029617443887954616), (507, 0.029617443887954616), (580, 0.029617443887954616), (607, 0.029617443887954616), (622, 0.029617443887954616), (756, 0.029617443887954616), (771, 0.029617443887954616), (792, 0.029617443887954616), (808, 0.029617443887954616), (812, 0.029617443887954616), (1080, 0.029617443887954616), (1332, 0.029617443887954616), (1481, 0.029617443887954616), (1570, 0.029617443887954616), (1648, 0.029617443887954616), (1786, 0.029617443887954616), (1829, 0.029617443887954616), (1836, 0.029617443887954616), (2117, 0.029617443887954616), (2194, 0.029617443887954616), (2239, 0.029617443887954616), (2386, 0.029617443887954616), (2616, 0.029617443887954616), (2651, 0.029617443887954616), (2688, 0.029617443887954616), (2729, 0.029617443887954616), (2801, 0.029617443887954616), (2941, 0.029617443887954616), (3004, 0.029617443887954616), (3044, 0.029617443887954616), (3189, 0.029617443887954616), (3214, 0.029617443887954616), (3357, 0.029617443887954616), (3448, 0.029617443887954616), (3454, 0.029617443887954616), (3467, 0.029617443887954616), (3556, 0.029617443887954616), (3671, 0.029617443887954616), (3703, 0.029617443887954616), (3885, 0.029617443887954616), (3944, 0.029617443887954616), (4220, 0.029617443887954616), (4321, 0.029617443887954616), (4371, 0.029617443887954616), (4447, 0.029617443887954616), (26, 0.02913582733740325), (68, 0.02913582733740325), (118, 0.02913582733740325), (236, 0.02913582733740325), (258, 0.02913582733740325), (266, 0.02913582733740325), (284, 0.02913582733740325), (304, 0.02913582733740325), (451, 0.02913582733740325), (493, 0.02913582733740325), (595, 0.02913582733740325), (733, 0.02913582733740325), (849, 0.02913582733740325), (882, 0.02913582733740325), (965, 0.02913582733740325), (1098, 0.02913582733740325), (1105, 0.02913582733740325), (1158, 0.02913582733740325), (1161, 0.02913582733740325), (1199, 0.02913582733740325), (1313, 0.02913582733740325), (1553, 0.02913582733740325), (1586, 0.02913582733740325), (1603, 0.02913582733740325), (1645, 0.02913582733740325), (1714, 0.02913582733740325), (2038, 0.02913582733740325), (2129, 0.02913582733740325), (2186, 0.02913582733740325), (2450, 0.02913582733740325), (2465, 0.02913582733740325), (2630, 0.02913582733740325), (2846, 0.02913582733740325), (3068, 0.02913582733740325), (3123, 0.02913582733740325), (3231, 0.02913582733740325), (3339, 0.02913582733740325), (3378, 0.02913582733740325), (3428, 0.02913582733740325), (3526, 0.02913582733740325), (3653, 0.02913582733740325), (3664, 0.02913582733740325), (3688, 0.02913582733740325), (3880, 0.02913582733740325), (3895, 0.02913582733740325), (4249, 0.02913582733740325), (4287, 0.02913582733740325), (4397, 0.02913582733740325), (4404, 0.02913582733740325), (4427, 0.02913582733740325), (4600, 0.02913582733740325), (246, 0.028676966733820218), (253, 0.028676966733820218), (344, 0.028676966733820218), (368, 0.028676966733820218), (455, 0.028676966733820218), (529, 0.028676966733820218), (559, 0.028676966733820218), (862, 0.028676966733820218), (995, 0.028676966733820218), (1044, 0.028676966733820218), (1101, 0.028676966733820218), (1104, 0.028676966733820218), (1222, 0.028676966733820218), (1399, 0.028676966733820218), (1494, 0.028676966733820218), (1588, 0.028676966733820218), (1616, 0.028676966733820218), (1639, 0.028676966733820218), (1713, 0.028676966733820218), (1749, 0.028676966733820218), (1865, 0.028676966733820218), (1908, 0.028676966733820218), (2017, 0.028676966733820218), (2153, 0.028676966733820218), (2189, 0.028676966733820218), (2206, 0.028676966733820218), (2416, 0.028676966733820218), (2424, 0.028676966733820218), (2462, 0.028676966733820218), (2603, 0.028676966733820218), (2678, 0.028676966733820218), (2716, 0.028676966733820218), (2766, 0.028676966733820218), (2906, 0.028676966733820218), (3169, 0.028676966733820218), (3472, 0.028676966733820218), (3482, 0.028676966733820218), (4020, 0.028676966733820218), (4052, 0.028676966733820218), (4180, 0.028676966733820218), (4728, 0.028676966733820218), (147, 0.028239124736245257), (153, 0.028239124736245257), (244, 0.028239124736245257), (312, 0.028239124736245257), (478, 0.028239124736245257), (491, 0.028239124736245257), (611, 0.028239124736245257), (621, 0.028239124736245257), (640, 0.028239124736245257), (650, 0.028239124736245257), (684, 0.028239124736245257), (876, 0.028239124736245257), (996, 0.028239124736245257), (1022, 0.028239124736245257), (1056, 0.028239124736245257), (1121, 0.028239124736245257), (1155, 0.028239124736245257), (1200, 0.028239124736245257), (1232, 0.028239124736245257), (1559, 0.028239124736245257), (1617, 0.028239124736245257), (1825, 0.028239124736245257), (1854, 0.028239124736245257), (2072, 0.028239124736245257), (2083, 0.028239124736245257), (2133, 0.028239124736245257), (2158, 0.028239124736245257), (2173, 0.028239124736245257), (2282, 0.028239124736245257), (2440, 0.028239124736245257), (2449, 0.028239124736245257), (2965, 0.028239124736245257), (3029, 0.028239124736245257), (3042, 0.028239124736245257), (3345, 0.028239124736245257), (3358, 0.028239124736245257), (3514, 0.028239124736245257), (3594, 0.028239124736245257), (3722, 0.028239124736245257), (3759, 0.028239124736245257), (3886, 0.028239124736245257), (3903, 0.028239124736245257), (3973, 0.028239124736245257), (4196, 0.028239124736245257), (7, 0.02782074420373286), (16, 0.02782074420373286), (190, 0.02782074420373286), (239, 0.02782074420373286), (286, 0.02782074420373286), (391, 0.02782074420373286), (443, 0.02782074420373286), (524, 0.02782074420373286), (575, 0.02782074420373286), (814, 0.02782074420373286), (962, 0.02782074420373286), (1079, 0.02782074420373286), (1472, 0.02782074420373286), (1697, 0.02782074420373286), (1719, 0.02782074420373286), (1845, 0.02782074420373286), (1882, 0.02782074420373286), (2080, 0.02782074420373286), (2124, 0.02782074420373286), (2262, 0.02782074420373286), (2327, 0.02782074420373286), (2428, 0.02782074420373286), (2565, 0.02782074420373286), (2606, 0.02782074420373286), (2842, 0.02782074420373286), (3099, 0.02782074420373286), (3124, 0.02782074420373286), (3447, 0.02782074420373286), (3474, 0.02782074420373286), (4149, 0.02782074420373286), (4288, 0.02782074420373286), (4310, 0.02782074420373286), (4740, 0.02782074420373286), (86, 0.02742042485535409), (230, 0.02742042485535409), (576, 0.02742042485535409), (742, 0.02742042485535409), (776, 0.02742042485535409), (977, 0.02742042485535409), (983, 0.02742042485535409), (1106, 0.02742042485535409), (1136, 0.02742042485535409), (1283, 0.02742042485535409), (1657, 0.02742042485535409), (1971, 0.02742042485535409), (1975, 0.02742042485535409), (2486, 0.02742042485535409), (2624, 0.02742042485535409), (2642, 0.02742042485535409), (2806, 0.02742042485535409), (3017, 0.02742042485535409), (3133, 0.02742042485535409), (3219, 0.02742042485535409), (3257, 0.02742042485535409), (3343, 0.02742042485535409), (3433, 0.02742042485535409), (3749, 0.02742042485535409), (3884, 0.02742042485535409), (3907, 0.02742042485535409), (4315, 0.02742042485535409), (21, 0.027036903521793755), (51, 0.027036903521793755), (307, 0.027036903521793755), (875, 0.027036903521793755), (989, 0.027036903521793755), (1186, 0.027036903521793755), (1980, 0.027036903521793755), (2103, 0.027036903521793755), (2149, 0.027036903521793755), (2199, 0.027036903521793755), (2762, 0.027036903521793755), (2774, 0.027036903521793755), (2798, 0.027036903521793755), (2938, 0.027036903521793755), (3425, 0.027036903521793755), (3516, 0.027036903521793755), (4563, 0.027036903521793755), (4759, 0.027036903521793755), (4796, 0.027036903521793755), (642, 0.02666903735313325), (987, 0.02666903735313325), (1045, 0.02666903735313325), (1581, 0.02666903735313325), (1591, 0.02666903735313325), (1598, 0.02666903735313325), (1960, 0.02666903735313325), (2013, 0.02666903735313325), (2654, 0.02666903735313325), (3091, 0.02666903735313325), (631, 0.026315789473684213), (725, 0.026315789473684213), (851, 0.026315789473684213), (1568, 0.026315789473684213), (1666, 0.026315789473684213), (1821, 0.026315789473684213), (2484, 0.026315789473684213), (2515, 0.026315789473684213), (2613, 0.026315789473684213), (2746, 0.026315789473684213), (3386, 0.026315789473684213), (3620, 0.026315789473684213), (3741, 0.026315789473684213), (4454, 0.026315789473684213), (4696, 0.026315789473684213), (2023, 0.025976216673306556), (2084, 0.025976216673306556), (2127, 0.025976216673306556), (2358, 0.025976216673306556), (2745, 0.025976216673306556), (3019, 0.025976216673306556), (3266, 0.025976216673306556), (3274, 0.025976216673306556), (3750, 0.025976216673306556), (3804, 0.025976216673306556), (4174, 0.025976216673306556), (282, 0.025649458802128853), (1708, 0.025649458802128853), (1752, 0.025649458802128853), (2152, 0.025649458802128853), (2674, 0.025649458802128853), (2960, 0.025649458802128853), (3511, 0.025649458802128853), (374, 0.025334729596907), (1193, 0.025334729596907), (1301, 0.025334729596907), (1366, 0.025334729596907), (1498, 0.025334729596907), (2520, 0.025334729596907), (2623, 0.025334729596907), (2750, 0.025334729596907), (2803, 0.025334729596907), (3007, 0.025334729596907), (4049, 0.025334729596907), (4402, 0.025334729596907), (337, 0.025031308716087945), (579, 0.025031308716087945), (585, 0.025031308716087945), (2351, 0.025031308716087945), (2661, 0.025031308716087945), (648, 0.024738534799764674), (1226, 0.024738534799764674), (1584, 0.024738534799764674), (2832, 0.024738534799764674), (4080, 0.024738534799764674), (395, 0.024455799402225926), (440, 0.024455799402225926), (471, 0.024455799402225926), (487, 0.024455799402225926), (754, 0.024455799402225926), (1773, 0.024455799402225926), (1993, 0.024455799402225926), (2627, 0.024455799402225926), (2794, 0.024455799402225926), (3691, 0.024455799402225926), (283, 0.024182541670333724), (2542, 0.024182541670333724), (233, 0.023918243661746996), (1077, 0.023918243661746996), (3170, 0.023918243661746996), (1508, 0.023662426214015053), (1778, 0.023662426214015053), (3473, 0.023662426214015053), (1480, 0.023414645289542353), (2911, 0.023414645289542353), (3275, 0.023414645289542353), (3615, 0.023414645289542353), (4223, 0.023414645289542353), (541, 0.023174488732966077), (1811, 0.023174488732966077), (1921, 0.023174488732966077), (2967, 0.023174488732966077), (1274, 0.02271554252121273), (1047, 0.022075539284417398), (1462, 0.021486752129677003), (4752, 0.021119430154775586), (409, 0.01583118967153259), (6, 0.0), (25, 0.0), (34, 0.0), (60, 0.0), (67, 0.0), (87, 0.0), (128, 0.0), (130, 0.0), (136, 0.0), (141, 0.0), (142, 0.0), (144, 0.0), (145, 0.0), (146, 0.0), (155, 0.0), (173, 0.0), (192, 0.0), (202, 0.0), (231, 0.0), (255, 0.0), (288, 0.0), (301, 0.0), (317, 0.0), (325, 0.0), (333, 0.0), (347, 0.0), (359, 0.0), (360, 0.0), (363, 0.0), (365, 0.0), (375, 0.0), (378, 0.0), (385, 0.0), (397, 0.0), (399, 0.0), (401, 0.0), (404, 0.0), (418, 0.0), (430, 0.0), (436, 0.0), (439, 0.0), (445, 0.0), (459, 0.0), (460, 0.0), (461, 0.0), (462, 0.0), (464, 0.0), (465, 0.0), (474, 0.0), (482, 0.0), (492, 0.0), (496, 0.0), (498, 0.0), (502, 0.0), (504, 0.0), (509, 0.0), (520, 0.0), (522, 0.0), (526, 0.0), (532, 0.0), (545, 0.0), (550, 0.0), (551, 0.0), (552, 0.0), (561, 0.0), (562, 0.0), (564, 0.0), (569, 0.0), (593, 0.0), (598, 0.0), (599, 0.0), (616, 0.0), (619, 0.0), (623, 0.0), (632, 0.0), (637, 0.0), (639, 0.0), (641, 0.0), (649, 0.0), (682, 0.0), (688, 0.0), (699, 0.0), (701, 0.0), (703, 0.0), (704, 0.0), (705, 0.0), (707, 0.0), (709, 0.0), (712, 0.0), (713, 0.0), (727, 0.0), (729, 0.0), (734, 0.0), (738, 0.0), (749, 0.0), (765, 0.0), (770, 0.0), (778, 0.0), (780, 0.0), (783, 0.0), (793, 0.0), (796, 0.0), (798, 0.0), (801, 0.0), (816, 0.0), (817, 0.0), (819, 0.0), (824, 0.0), (835, 0.0), (837, 0.0), (843, 0.0), (845, 0.0), (853, 0.0), (860, 0.0), (861, 0.0), (868, 0.0), (872, 0.0), (878, 0.0), (885, 0.0), (887, 0.0), (889, 0.0), (890, 0.0), (891, 0.0), (895, 0.0), (900, 0.0), (902, 0.0), (906, 0.0), (907, 0.0), (908, 0.0), (909, 0.0), (912, 0.0), (913, 0.0), (916, 0.0), (921, 0.0), (925, 0.0), (926, 0.0), (940, 0.0), (954, 0.0), (957, 0.0), (960, 0.0), (961, 0.0), (966, 0.0), (986, 0.0), (991, 0.0), (997, 0.0), (1004, 0.0), (1007, 0.0), (1011, 0.0), (1014, 0.0), (1019, 0.0), (1023, 0.0), (1028, 0.0), (1032, 0.0), (1037, 0.0), (1039, 0.0), (1054, 0.0), (1060, 0.0), (1062, 0.0), (1065, 0.0), (1066, 0.0), (1067, 0.0), (1068, 0.0), (1069, 0.0), (1071, 0.0), (1072, 0.0), (1088, 0.0), (1090, 0.0), (1107, 0.0), (1116, 0.0), (1123, 0.0), (1126, 0.0), (1128, 0.0), (1130, 0.0), (1142, 0.0), (1145, 0.0), (1157, 0.0), (1164, 0.0), (1167, 0.0), (1168, 0.0), (1173, 0.0), (1189, 0.0), (1198, 0.0), (1205, 0.0), (1208, 0.0), (1210, 0.0), (1211, 0.0), (1218, 0.0), (1219, 0.0), (1224, 0.0), (1229, 0.0), (1231, 0.0), (1235, 0.0), (1242, 0.0), (1248, 0.0), (1251, 0.0), (1252, 0.0), (1258, 0.0), (1261, 0.0), (1262, 0.0), (1268, 0.0), (1295, 0.0), (1297, 0.0), (1307, 0.0), (1323, 0.0), (1325, 0.0), (1326, 0.0), (1329, 0.0), (1330, 0.0), (1333, 0.0), (1344, 0.0), (1345, 0.0), (1353, 0.0), (1355, 0.0), (1356, 0.0), (1360, 0.0), (1365, 0.0), (1371, 0.0), (1376, 0.0), (1378, 0.0), (1383, 0.0), (1385, 0.0), (1386, 0.0), (1387, 0.0), (1391, 0.0), (1393, 0.0), (1396, 0.0), (1401, 0.0), (1405, 0.0), (1414, 0.0), (1416, 0.0), (1424, 0.0), (1436, 0.0), (1444, 0.0), (1452, 0.0), (1454, 0.0), (1455, 0.0), (1460, 0.0), (1471, 0.0), (1475, 0.0), (1476, 0.0), (1483, 0.0), (1485, 0.0), (1487, 0.0), (1489, 0.0), (1493, 0.0), (1496, 0.0), (1509, 0.0), (1511, 0.0), (1520, 0.0), (1521, 0.0), (1526, 0.0), (1530, 0.0), (1532, 0.0), (1534, 0.0), (1536, 0.0), (1539, 0.0), (1540, 0.0), (1544, 0.0), (1555, 0.0), (1557, 0.0), (1567, 0.0), (1580, 0.0), (1582, 0.0), (1587, 0.0), (1590, 0.0), (1593, 0.0), (1601, 0.0), (1602, 0.0), (1604, 0.0), (1613, 0.0), (1614, 0.0), (1620, 0.0), (1634, 0.0), (1638, 0.0), (1640, 0.0), (1642, 0.0), (1646, 0.0), (1649, 0.0), (1654, 0.0), (1662, 0.0), (1673, 0.0), (1677, 0.0), (1683, 0.0), (1684, 0.0), (1690, 0.0), (1691, 0.0), (1698, 0.0), (1700, 0.0), (1703, 0.0), (1704, 0.0), (1709, 0.0), (1710, 0.0), (1716, 0.0), (1723, 0.0), (1724, 0.0), (1725, 0.0), (1729, 0.0), (1730, 0.0), (1738, 0.0), (1754, 0.0), (1755, 0.0), (1756, 0.0), (1760, 0.0), (1766, 0.0), (1772, 0.0), (1774, 0.0), (1776, 0.0), (1784, 0.0), (1797, 0.0), (1801, 0.0), (1808, 0.0), (1809, 0.0), (1810, 0.0), (1823, 0.0), (1831, 0.0), (1833, 0.0), (1835, 0.0), (1840, 0.0), (1841, 0.0), (1855, 0.0), (1862, 0.0), (1864, 0.0), (1866, 0.0), (1867, 0.0), (1871, 0.0), (1875, 0.0), (1876, 0.0), (1885, 0.0), (1887, 0.0), (1888, 0.0), (1891, 0.0), (1895, 0.0), (1898, 0.0), (1901, 0.0), (1903, 0.0), (1906, 0.0), (1911, 0.0), (1917, 0.0), (1919, 0.0), (1922, 0.0), (1928, 0.0), (1934, 0.0), (1938, 0.0), (1940, 0.0), (1941, 0.0), (1949, 0.0), (1950, 0.0), (1951, 0.0), (1961, 0.0), (1965, 0.0), (1968, 0.0), (1972, 0.0), (1979, 0.0), (1985, 0.0), (1988, 0.0), (1994, 0.0), (1997, 0.0), (1998, 0.0), (2000, 0.0), (2005, 0.0), (2006, 0.0), (2009, 0.0), (2010, 0.0), (2011, 0.0), (2012, 0.0), (2028, 0.0), (2030, 0.0), (2032, 0.0), (2039, 0.0), (2041, 0.0), (2044, 0.0), (2045, 0.0), (2051, 0.0), (2053, 0.0), (2058, 0.0), (2059, 0.0), (2064, 0.0), (2065, 0.0), (2067, 0.0), (2073, 0.0), (2076, 0.0), (2077, 0.0), (2079, 0.0), (2087, 0.0), (2095, 0.0), (2097, 0.0), (2101, 0.0), (2106, 0.0), (2107, 0.0), (2109, 0.0), (2112, 0.0), (2118, 0.0), (2119, 0.0), (2121, 0.0), (2125, 0.0), (2128, 0.0), (2132, 0.0), (2134, 0.0), (2135, 0.0), (2137, 0.0), (2139, 0.0), (2143, 0.0), (2144, 0.0), (2146, 0.0), (2162, 0.0), (2172, 0.0), (2174, 0.0), (2183, 0.0), (2190, 0.0), (2208, 0.0), (2211, 0.0), (2213, 0.0), (2217, 0.0), (2219, 0.0), (2224, 0.0), (2226, 0.0), (2232, 0.0), (2235, 0.0), (2236, 0.0), (2241, 0.0), (2243, 0.0), (2246, 0.0), (2248, 0.0), (2252, 0.0), (2254, 0.0), (2256, 0.0), (2257, 0.0), (2259, 0.0), (2267, 0.0), (2270, 0.0), (2271, 0.0), (2272, 0.0), (2273, 0.0), (2274, 0.0), (2278, 0.0), (2279, 0.0), (2286, 0.0), (2287, 0.0), (2292, 0.0), (2297, 0.0), (2298, 0.0), (2299, 0.0), (2312, 0.0), (2315, 0.0), (2316, 0.0), (2319, 0.0), (2325, 0.0), (2332, 0.0), (2337, 0.0), (2344, 0.0), (2347, 0.0), (2353, 0.0), (2359, 0.0), (2369, 0.0), (2370, 0.0), (2373, 0.0), (2374, 0.0), (2379, 0.0), (2382, 0.0), (2385, 0.0), (2396, 0.0), (2401, 0.0), (2402, 0.0), (2406, 0.0), (2410, 0.0), (2411, 0.0), (2418, 0.0), (2419, 0.0), (2421, 0.0), (2422, 0.0), (2432, 0.0), (2434, 0.0), (2436, 0.0), (2443, 0.0), (2447, 0.0), (2451, 0.0), (2453, 0.0), (2458, 0.0), (2459, 0.0), (2460, 0.0), (2464, 0.0), (2469, 0.0), (2472, 0.0), (2475, 0.0), (2476, 0.0), (2477, 0.0), (2479, 0.0), (2481, 0.0), (2493, 0.0), (2494, 0.0), (2497, 0.0), (2498, 0.0), (2500, 0.0), (2501, 0.0), (2503, 0.0), (2505, 0.0), (2509, 0.0), (2512, 0.0), (2516, 0.0), (2517, 0.0), (2518, 0.0), (2519, 0.0), (2523, 0.0), (2526, 0.0), (2528, 0.0), (2533, 0.0), (2537, 0.0), (2541, 0.0), (2547, 0.0), (2551, 0.0), (2552, 0.0), (2559, 0.0), (2566, 0.0), (2570, 0.0), (2576, 0.0), (2588, 0.0), (2589, 0.0), (2590, 0.0), (2594, 0.0), (2595, 0.0), (2599, 0.0), (2600, 0.0), (2601, 0.0), (2605, 0.0), (2608, 0.0), (2617, 0.0), (2618, 0.0), (2620, 0.0), (2629, 0.0), (2634, 0.0), (2636, 0.0), (2637, 0.0), (2643, 0.0), (2648, 0.0), (2653, 0.0), (2656, 0.0), (2658, 0.0), (2662, 0.0), (2663, 0.0), (2664, 0.0), (2665, 0.0), (2666, 0.0), (2668, 0.0), (2671, 0.0), (2672, 0.0), (2673, 0.0), (2679, 0.0), (2680, 0.0), (2682, 0.0), (2684, 0.0), (2686, 0.0), (2690, 0.0), (2691, 0.0), (2694, 0.0), (2696, 0.0), (2697, 0.0), (2698, 0.0), (2699, 0.0), (2701, 0.0), (2705, 0.0), (2706, 0.0), (2707, 0.0), (2709, 0.0), (2710, 0.0), (2711, 0.0), (2714, 0.0), (2717, 0.0), (2718, 0.0), (2723, 0.0), (2724, 0.0), (2725, 0.0), (2733, 0.0), (2735, 0.0), (2737, 0.0), (2743, 0.0), (2744, 0.0), (2748, 0.0), (2751, 0.0), (2754, 0.0), (2760, 0.0), (2764, 0.0), (2768, 0.0), (2770, 0.0), (2772, 0.0), (2776, 0.0), (2782, 0.0), (2787, 0.0), (2810, 0.0), (2811, 0.0), (2817, 0.0), (2821, 0.0), (2825, 0.0), (2834, 0.0), (2838, 0.0), (2840, 0.0), (2841, 0.0), (2843, 0.0), (2844, 0.0), (2845, 0.0), (2847, 0.0), (2850, 0.0), (2852, 0.0), (2854, 0.0), (2855, 0.0), (2857, 0.0), (2866, 0.0), (2870, 0.0), (2873, 0.0), (2877, 0.0), (2880, 0.0), (2881, 0.0), (2882, 0.0), (2883, 0.0), (2886, 0.0), (2890, 0.0), (2893, 0.0), (2895, 0.0), (2896, 0.0), (2898, 0.0), (2900, 0.0), (2903, 0.0), (2908, 0.0), (2910, 0.0), (2913, 0.0), (2916, 0.0), (2917, 0.0), (2920, 0.0), (2923, 0.0), (2924, 0.0), (2925, 0.0), (2930, 0.0), (2934, 0.0), (2935, 0.0), (2936, 0.0), (2937, 0.0), (2942, 0.0), (2943, 0.0), (2945, 0.0), (2951, 0.0), (2954, 0.0), (2955, 0.0), (2956, 0.0), (2962, 0.0), (2963, 0.0), (2966, 0.0), (2968, 0.0), (2969, 0.0), (2970, 0.0), (2974, 0.0), (2976, 0.0), (2981, 0.0), (2984, 0.0), (2987, 0.0), (2988, 0.0), (2989, 0.0), (2992, 0.0), (2997, 0.0), (3002, 0.0), (3005, 0.0), (3015, 0.0), (3022, 0.0), (3023, 0.0), (3024, 0.0), (3025, 0.0), (3026, 0.0), (3027, 0.0), (3028, 0.0), (3034, 0.0), (3036, 0.0), (3037, 0.0), (3038, 0.0), (3039, 0.0), (3041, 0.0), (3054, 0.0), (3057, 0.0), (3058, 0.0), (3059, 0.0), (3060, 0.0), (3061, 0.0), (3064, 0.0), (3065, 0.0), (3067, 0.0), (3071, 0.0), (3079, 0.0), (3081, 0.0), (3082, 0.0), (3084, 0.0), (3096, 0.0), (3100, 0.0), (3102, 0.0), (3103, 0.0), (3104, 0.0), (3105, 0.0), (3107, 0.0), (3109, 0.0), (3110, 0.0), (3113, 0.0), (3115, 0.0), (3117, 0.0), (3118, 0.0), (3119, 0.0), (3121, 0.0), (3122, 0.0), (3129, 0.0), (3130, 0.0), (3131, 0.0), (3134, 0.0), (3135, 0.0), (3137, 0.0), (3139, 0.0), (3140, 0.0), (3149, 0.0), (3150, 0.0), (3152, 0.0), (3155, 0.0), (3156, 0.0), (3159, 0.0), (3163, 0.0), (3164, 0.0), (3166, 0.0), (3167, 0.0), (3171, 0.0), (3174, 0.0), (3178, 0.0), (3182, 0.0), (3185, 0.0), (3187, 0.0), (3188, 0.0), (3190, 0.0), (3191, 0.0), (3193, 0.0), (3194, 0.0), (3196, 0.0), (3198, 0.0), (3200, 0.0), (3204, 0.0), (3206, 0.0), (3210, 0.0), (3212, 0.0), (3213, 0.0), (3215, 0.0), (3216, 0.0), (3217, 0.0), (3222, 0.0), (3223, 0.0), (3226, 0.0), (3228, 0.0), (3230, 0.0), (3233, 0.0), (3235, 0.0), (3240, 0.0), (3248, 0.0), (3249, 0.0), (3258, 0.0), (3261, 0.0), (3262, 0.0), (3264, 0.0), (3265, 0.0), (3268, 0.0), (3269, 0.0), (3271, 0.0), (3272, 0.0), (3278, 0.0), (3283, 0.0), (3288, 0.0), (3289, 0.0), (3292, 0.0), (3295, 0.0), (3298, 0.0), (3300, 0.0), (3310, 0.0), (3311, 0.0), (3314, 0.0), (3317, 0.0), (3319, 0.0), (3324, 0.0), (3327, 0.0), (3328, 0.0), (3331, 0.0), (3340, 0.0), (3341, 0.0), (3342, 0.0), (3344, 0.0), (3353, 0.0), (3356, 0.0), (3363, 0.0), (3365, 0.0), (3366, 0.0), (3367, 0.0), (3369, 0.0), (3380, 0.0), (3384, 0.0), (3388, 0.0), (3392, 0.0), (3393, 0.0), (3395, 0.0), (3396, 0.0), (3398, 0.0), (3403, 0.0), (3407, 0.0), (3410, 0.0), (3411, 0.0), (3415, 0.0), (3419, 0.0), (3422, 0.0), (3426, 0.0), (3429, 0.0), (3432, 0.0), (3435, 0.0), (3438, 0.0), (3443, 0.0), (3452, 0.0), (3453, 0.0), (3457, 0.0), (3461, 0.0), (3468, 0.0), (3471, 0.0), (3476, 0.0), (3478, 0.0), (3484, 0.0), (3487, 0.0), (3491, 0.0), (3493, 0.0), (3496, 0.0), (3497, 0.0), (3498, 0.0), (3502, 0.0), (3513, 0.0), (3517, 0.0), (3519, 0.0), (3521, 0.0), (3524, 0.0), (3525, 0.0), (3530, 0.0), (3534, 0.0), (3535, 0.0), (3536, 0.0), (3539, 0.0), (3540, 0.0), (3542, 0.0), (3543, 0.0), (3547, 0.0), (3551, 0.0), (3555, 0.0), (3557, 0.0), (3560, 0.0), (3565, 0.0), (3570, 0.0), (3572, 0.0), (3573, 0.0), (3577, 0.0), (3578, 0.0), (3583, 0.0), (3585, 0.0), (3587, 0.0), (3589, 0.0), (3598, 0.0), (3601, 0.0), (3610, 0.0), (3612, 0.0), (3614, 0.0), (3621, 0.0), (3629, 0.0), (3633, 0.0), (3641, 0.0), (3642, 0.0), (3649, 0.0), (3654, 0.0), (3655, 0.0), (3656, 0.0), (3663, 0.0), (3666, 0.0), (3670, 0.0), (3673, 0.0), (3674, 0.0), (3675, 0.0), (3676, 0.0), (3677, 0.0), (3681, 0.0), (3686, 0.0), (3687, 0.0), (3690, 0.0), (3692, 0.0), (3696, 0.0), (3697, 0.0), (3702, 0.0), (3705, 0.0), (3708, 0.0), (3712, 0.0), (3713, 0.0), (3718, 0.0), (3720, 0.0), (3721, 0.0), (3723, 0.0), (3728, 0.0), (3729, 0.0), (3731, 0.0), (3732, 0.0), (3736, 0.0), (3738, 0.0), (3742, 0.0), (3746, 0.0), (3751, 0.0), (3761, 0.0), (3763, 0.0), (3768, 0.0), (3773, 0.0), (3781, 0.0), (3783, 0.0), (3787, 0.0), (3788, 0.0), (3792, 0.0), (3793, 0.0), (3794, 0.0), (3801, 0.0), (3805, 0.0), (3807, 0.0), (3809, 0.0), (3810, 0.0), (3811, 0.0), (3814, 0.0), (3818, 0.0), (3822, 0.0), (3825, 0.0), (3827, 0.0), (3835, 0.0), (3838, 0.0), (3843, 0.0), (3846, 0.0), (3852, 0.0), (3853, 0.0), (3862, 0.0), (3863, 0.0), (3871, 0.0), (3877, 0.0), (3881, 0.0), (3892, 0.0), (3894, 0.0), (3902, 0.0), (3904, 0.0), (3909, 0.0), (3913, 0.0), (3917, 0.0), (3922, 0.0), (3923, 0.0), (3924, 0.0), (3926, 0.0), (3927, 0.0), (3931, 0.0), (3933, 0.0), (3937, 0.0), (3938, 0.0), (3949, 0.0), (3950, 0.0), (3955, 0.0), (3958, 0.0), (3960, 0.0), (3961, 0.0), (3963, 0.0), (3967, 0.0), (3968, 0.0), (3969, 0.0), (3977, 0.0), (3980, 0.0), (3985, 0.0), (3989, 0.0), (3990, 0.0), (3992, 0.0), (3994, 0.0), (3995, 0.0), (3996, 0.0), (3997, 0.0), (3999, 0.0), (4000, 0.0), (4001, 0.0), (4002, 0.0), (4005, 0.0), (4006, 0.0), (4007, 0.0), (4016, 0.0), (4018, 0.0), (4021, 0.0), (4023, 0.0), (4025, 0.0), (4026, 0.0), (4029, 0.0), (4031, 0.0), (4034, 0.0), (4035, 0.0), (4036, 0.0), (4043, 0.0), (4044, 0.0), (4046, 0.0), (4056, 0.0), (4057, 0.0), (4058, 0.0), (4059, 0.0), (4060, 0.0), (4064, 0.0), (4066, 0.0), (4068, 0.0), (4069, 0.0), (4070, 0.0), (4074, 0.0), (4075, 0.0), (4082, 0.0), (4083, 0.0), (4085, 0.0), (4086, 0.0), (4089, 0.0), (4091, 0.0), (4092, 0.0), (4095, 0.0), (4101, 0.0), (4102, 0.0), (4103, 0.0), (4104, 0.0), (4107, 0.0), (4112, 0.0), (4113, 0.0), (4115, 0.0), (4116, 0.0), (4118, 0.0), (4121, 0.0), (4122, 0.0), (4123, 0.0), (4126, 0.0), (4128, 0.0), (4130, 0.0), (4133, 0.0), (4137, 0.0), (4140, 0.0), (4141, 0.0), (4148, 0.0), (4157, 0.0), (4162, 0.0), (4165, 0.0), (4166, 0.0), (4168, 0.0), (4169, 0.0), (4171, 0.0), (4178, 0.0), (4185, 0.0), (4186, 0.0), (4188, 0.0), (4190, 0.0), (4194, 0.0), (4198, 0.0), (4199, 0.0), (4206, 0.0), (4207, 0.0), (4208, 0.0), (4210, 0.0), (4212, 0.0), (4218, 0.0), (4219, 0.0), (4227, 0.0), (4229, 0.0), (4234, 0.0), (4235, 0.0), (4236, 0.0), (4240, 0.0), (4242, 0.0), (4243, 0.0), (4244, 0.0), (4245, 0.0), (4247, 0.0), (4248, 0.0), (4250, 0.0), (4253, 0.0), (4257, 0.0), (4260, 0.0), (4262, 0.0), (4266, 0.0), (4269, 0.0), (4270, 0.0), (4271, 0.0), (4274, 0.0), (4280, 0.0), (4289, 0.0), (4290, 0.0), (4293, 0.0), (4294, 0.0), (4296, 0.0), (4298, 0.0), (4299, 0.0), (4303, 0.0), (4304, 0.0), (4305, 0.0), (4306, 0.0), (4307, 0.0), (4308, 0.0), (4309, 0.0), (4314, 0.0), (4318, 0.0), (4322, 0.0), (4323, 0.0), (4332, 0.0), (4334, 0.0), (4335, 0.0), (4336, 0.0), (4338, 0.0), (4341, 0.0), (4342, 0.0), (4347, 0.0), (4354, 0.0), (4358, 0.0), (4359, 0.0), (4361, 0.0), (4362, 0.0), (4363, 0.0), (4364, 0.0), (4366, 0.0), (4369, 0.0), (4374, 0.0), (4384, 0.0), (4385, 0.0), (4387, 0.0), (4389, 0.0), (4396, 0.0), (4398, 0.0), (4400, 0.0), (4403, 0.0), (4405, 0.0), (4406, 0.0), (4407, 0.0), (4409, 0.0), (4410, 0.0), (4412, 0.0), (4413, 0.0), (4416, 0.0), (4417, 0.0), (4419, 0.0), (4420, 0.0), (4422, 0.0), (4423, 0.0), (4424, 0.0), (4426, 0.0), (4429, 0.0), (4431, 0.0), (4433, 0.0), (4434, 0.0), (4435, 0.0), (4436, 0.0), (4437, 0.0), (4441, 0.0), (4443, 0.0), (4444, 0.0), (4445, 0.0), (4446, 0.0), (4451, 0.0), (4452, 0.0), (4453, 0.0), (4455, 0.0), (4456, 0.0), (4457, 0.0), (4458, 0.0), (4459, 0.0), (4462, 0.0), (4463, 0.0), (4464, 0.0), (4466, 0.0), (4468, 0.0), (4469, 0.0), (4474, 0.0), (4478, 0.0), (4480, 0.0), (4485, 0.0), (4490, 0.0), (4491, 0.0), (4492, 0.0), (4495, 0.0), (4500, 0.0), (4503, 0.0), (4504, 0.0), (4505, 0.0), (4508, 0.0), (4510, 0.0), (4511, 0.0), (4512, 0.0), (4513, 0.0), (4516, 0.0), (4517, 0.0), (4520, 0.0), (4521, 0.0), (4523, 0.0), (4530, 0.0), (4532, 0.0), (4533, 0.0), (4534, 0.0), (4536, 0.0), (4537, 0.0), (4538, 0.0), (4540, 0.0), (4541, 0.0), (4542, 0.0), (4544, 0.0), (4547, 0.0), (4548, 0.0), (4550, 0.0), (4551, 0.0), (4553, 0.0), (4560, 0.0), (4561, 0.0), (4562, 0.0), (4564, 0.0), (4566, 0.0), (4567, 0.0), (4568, 0.0), (4570, 0.0), (4571, 0.0), (4575, 0.0), (4578, 0.0), (4581, 0.0), (4582, 0.0), (4586, 0.0), (4587, 0.0), (4588, 0.0), (4589, 0.0), (4590, 0.0), (4591, 0.0), (4593, 0.0), (4598, 0.0), (4603, 0.0), (4607, 0.0), (4609, 0.0), (4611, 0.0), (4612, 0.0), (4614, 0.0), (4615, 0.0), (4617, 0.0), (4619, 0.0), (4622, 0.0), (4624, 0.0), (4627, 0.0), (4628, 0.0), (4632, 0.0), (4633, 0.0), (4635, 0.0), (4636, 0.0), (4637, 0.0), (4639, 0.0), (4640, 0.0), (4641, 0.0), (4644, 0.0), (4651, 0.0), (4652, 0.0), (4653, 0.0), (4655, 0.0), (4657, 0.0), (4658, 0.0), (4660, 0.0), (4661, 0.0), (4662, 0.0), (4667, 0.0), (4669, 0.0), (4671, 0.0), (4674, 0.0), (4676, 0.0), (4681, 0.0), (4682, 0.0), (4683, 0.0), (4684, 0.0), (4685, 0.0), (4686, 0.0), (4687, 0.0), (4689, 0.0), (4690, 0.0), (4691, 0.0), (4692, 0.0), (4693, 0.0), (4694, 0.0), (4695, 0.0), (4697, 0.0), (4698, 0.0), (4699, 0.0), (4700, 0.0), (4702, 0.0), (4703, 0.0), (4705, 0.0), (4706, 0.0), (4709, 0.0), (4710, 0.0), (4711, 0.0), (4712, 0.0), (4714, 0.0), (4715, 0.0), (4716, 0.0), (4719, 0.0), (4721, 0.0), (4722, 0.0), (4723, 0.0), (4725, 0.0), (4729, 0.0), (4731, 0.0), (4736, 0.0), (4737, 0.0), (4738, 0.0), (4741, 0.0), (4743, 0.0), (4745, 0.0), (4747, 0.0), (4748, 0.0), (4750, 0.0), (4751, 0.0), (4753, 0.0), (4754, 0.0), (4755, 0.0), (4758, 0.0), (4761, 0.0), (4762, 0.0), (4765, 0.0), (4766, 0.0), (4768, 0.0), (4770, 0.0), (4771, 0.0), (4775, 0.0), (4777, 0.0), (4779, 0.0), (4781, 0.0), (4783, 0.0), (4784, 0.0), (4785, 0.0), (4786, 0.0), (4790, 0.0), (4794, 0.0), (4797, 0.0), (4800, 0.0), (4802, 0.0)]\n"
          ]
        }
      ]
    },
    {
      "cell_type": "markdown",
      "source": [
        "Movie suggession "
      ],
      "metadata": {
        "id": "x5qdlHKDwtzA"
      }
    },
    {
      "cell_type": "code",
      "source": [
        "print('Suggested movies for you : \\n')\n",
        "i = 1\n",
        "for movie in sorted_sim_movies:\n",
        "  index = movie[0]\n",
        "  title_from_index = df[df.index==index]['title'].values[0]\n",
        "  \n",
        "  if (i<=10):\n",
        "    print(i, '.',title_from_index)\n",
        "    i+=1"
      ],
      "metadata": {
        "colab": {
          "base_uri": "https://localhost:8080/"
        },
        "id": "PiJjB9Lisdjt",
        "outputId": "ffadd985-deef-45b0-cdef-d994c55ec31b"
      },
      "execution_count": 348,
      "outputs": [
        {
          "output_type": "stream",
          "name": "stdout",
          "text": [
            "Suggested movies for you : \n",
            "\n",
            "1 . Batman Returns\n",
            "2 . The Dark Knight Rises\n",
            "3 . Batman Begins\n",
            "4 . Batman & Robin\n",
            "5 . Megiddo: The Omega Code 2\n",
            "6 . The Sentinel\n",
            "7 . The American President\n",
            "8 . The Dark Knight\n",
            "9 . Fantastic 4: Rise of the Silver Surfer\n",
            "10 . Battle for the Planet of the Apes\n"
          ]
        }
      ]
    },
    {
      "cell_type": "code",
      "source": [],
      "metadata": {
        "id": "2RwaIDLguOjO"
      },
      "execution_count": 295,
      "outputs": []
    }
  ],
  "metadata": {
    "kernelspec": {
      "display_name": "Python 3",
      "language": "python",
      "name": "python3"
    },
    "language_info": {
      "codemirror_mode": {
        "name": "ipython",
        "version": 3
      },
      "file_extension": ".py",
      "mimetype": "text/x-python",
      "name": "python",
      "nbconvert_exporter": "python",
      "pygments_lexer": "ipython3",
      "version": "3.6.1"
    },
    "colab": {
      "provenance": []
    }
  },
  "nbformat": 4,
  "nbformat_minor": 0
}